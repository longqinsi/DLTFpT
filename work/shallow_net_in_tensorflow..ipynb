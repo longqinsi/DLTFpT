{
 "cells": [
  {
   "cell_type": "markdown",
   "source": [
    "# Shallow Neural Network in TensorFlow"
   ],
   "metadata": {
    "collapsed": false
   }
  },
  {
   "cell_type": "markdown",
   "source": [
    "Build a shallow neural network to classify handwritten digits"
   ],
   "metadata": {
    "collapsed": false
   }
  },
  {
   "cell_type": "markdown",
   "source": [
    "#### Load dependencies"
   ],
   "metadata": {
    "collapsed": false
   }
  },
  {
   "cell_type": "code",
   "execution_count": 1,
   "outputs": [],
   "source": [
    "import tensorflow\n",
    "from tensorflow.keras.datasets import mnist\n",
    "from tensorflow.keras.utils import to_categorical\n",
    "from tensorflow.keras.models import Sequential\n",
    "from tensorflow.keras.layers import Dense\n",
    "from tensorflow.keras.optimizers import SGD\n",
    "from matplotlib import pyplot as plt"
   ],
   "metadata": {
    "collapsed": false,
    "ExecuteTime": {
     "start_time": "2023-03-31T15:08:51.134128Z",
     "end_time": "2023-03-31T15:08:53.921398Z"
    }
   }
  },
  {
   "cell_type": "markdown",
   "source": [
    "#### Load data"
   ],
   "metadata": {
    "collapsed": false
   }
  },
  {
   "cell_type": "code",
   "execution_count": 2,
   "outputs": [],
   "source": [
    "(X_train, y_train), (X_valid, y_valid) = mnist.load_data() # X - inputs, y - outputs"
   ],
   "metadata": {
    "collapsed": false,
    "ExecuteTime": {
     "start_time": "2023-03-31T15:08:53.887824Z",
     "end_time": "2023-03-31T15:08:54.073261Z"
    }
   }
  },
  {
   "cell_type": "code",
   "execution_count": 3,
   "outputs": [
    {
     "data": {
      "text/plain": "(60000, 28, 28)"
     },
     "execution_count": 3,
     "metadata": {},
     "output_type": "execute_result"
    }
   ],
   "source": [
    "X_train.shape"
   ],
   "metadata": {
    "collapsed": false,
    "ExecuteTime": {
     "start_time": "2023-03-31T15:08:54.074263Z",
     "end_time": "2023-03-31T15:08:54.089310Z"
    }
   }
  },
  {
   "cell_type": "code",
   "execution_count": 4,
   "outputs": [
    {
     "data": {
      "text/plain": "(60000,)"
     },
     "execution_count": 4,
     "metadata": {},
     "output_type": "execute_result"
    }
   ],
   "source": [
    "y_train.shape"
   ],
   "metadata": {
    "collapsed": false,
    "ExecuteTime": {
     "start_time": "2023-03-31T15:08:54.089310Z",
     "end_time": "2023-03-31T15:08:54.179802Z"
    }
   }
  },
  {
   "cell_type": "code",
   "execution_count": 5,
   "outputs": [
    {
     "data": {
      "text/plain": "array([5, 0, 4, 1, 9, 2, 1, 3, 1, 4, 3, 5], dtype=uint8)"
     },
     "execution_count": 5,
     "metadata": {},
     "output_type": "execute_result"
    }
   ],
   "source": [
    "y_train[0:12]"
   ],
   "metadata": {
    "collapsed": false,
    "ExecuteTime": {
     "start_time": "2023-03-31T15:08:54.107656Z",
     "end_time": "2023-03-31T15:08:54.217846Z"
    }
   }
  },
  {
   "cell_type": "code",
   "execution_count": 6,
   "outputs": [
    {
     "data": {
      "text/plain": "<Figure size 500x500 with 12 Axes>",
      "image/png": "[encoded data removed]"
     },
     "metadata": {},
     "output_type": "display_data"
    }
   ],
   "source": [
    "plt.figure(figsize=(5,5))\n",
    "for k in range(12):\n",
    "    plt.subplot(3, 4, k+1)\n",
    "    plt.imshow(X_train[k], cmap='Greys')\n",
    "    plt.axis('off')\n",
    "plt.tight_layout()\n",
    "plt.show()"
   ],
   "metadata": {
    "collapsed": false,
    "ExecuteTime": {
     "start_time": "2023-03-31T15:08:54.124656Z",
     "end_time": "2023-03-31T15:08:54.377385Z"
    }
   }
  },
  {
   "cell_type": "code",
   "execution_count": 7,
   "outputs": [
    {
     "data": {
      "text/plain": "(10000, 28, 28)"
     },
     "execution_count": 7,
     "metadata": {},
     "output_type": "execute_result"
    }
   ],
   "source": [
    "X_valid.shape"
   ],
   "metadata": {
    "collapsed": false,
    "ExecuteTime": {
     "start_time": "2023-03-31T15:08:54.375378Z",
     "end_time": "2023-03-31T15:08:54.421791Z"
    }
   }
  },
  {
   "cell_type": "code",
   "execution_count": 8,
   "outputs": [
    {
     "data": {
      "text/plain": "(10000,)"
     },
     "execution_count": 8,
     "metadata": {},
     "output_type": "execute_result"
    }
   ],
   "source": [
    "y_valid.shape"
   ],
   "metadata": {
    "collapsed": false,
    "ExecuteTime": {
     "start_time": "2023-03-31T15:08:54.393388Z",
     "end_time": "2023-03-31T15:08:54.461797Z"
    }
   }
  },
  {
   "cell_type": "code",
   "execution_count": 9,
   "outputs": [
    {
     "data": {
      "text/plain": "<matplotlib.image.AxesImage at 0x221a7add780>"
     },
     "execution_count": 9,
     "metadata": {},
     "output_type": "execute_result"
    },
    {
     "data": {
      "text/plain": "<Figure size 640x480 with 1 Axes>",
      "image/png": "[encoded data removed]"
     },
     "metadata": {},
     "output_type": "display_data"
    }
   ],
   "source": [
    "plt.imshow(X_valid[0], cmap='Greys')"
   ],
   "metadata": {
    "collapsed": false,
    "ExecuteTime": {
     "start_time": "2023-03-31T15:08:54.406464Z",
     "end_time": "2023-03-31T15:08:54.610920Z"
    }
   }
  },
  {
   "cell_type": "code",
   "execution_count": 10,
   "outputs": [
    {
     "data": {
      "text/plain": "array([[  0,   0,   0,   0,   0,   0,   0,   0,   0,   0,   0,   0,   0,\n          0,   0,   0,   0,   0,   0,   0,   0,   0,   0,   0,   0,   0,\n          0,   0],\n       [  0,   0,   0,   0,   0,   0,   0,   0,   0,   0,   0,   0,   0,\n          0,   0,   0,   0,   0,   0,   0,   0,   0,   0,   0,   0,   0,\n          0,   0],\n       [  0,   0,   0,   0,   0,   0,   0,   0,   0,   0,   0,   0,   0,\n          0,   0,   0,   0,   0,   0,   0,   0,   0,   0,   0,   0,   0,\n          0,   0],\n       [  0,   0,   0,   0,   0,   0,   0,   0,   0,   0,   0,   0,   0,\n          0,   0,   0,   0,   0,   0,   0,   0,   0,   0,   0,   0,   0,\n          0,   0],\n       [  0,   0,   0,   0,   0,   0,   0,   0,   0,   0,   0,   0,   0,\n          0,   0,   0,   0,   0,   0,   0,   0,   0,   0,   0,   0,   0,\n          0,   0],\n       [  0,   0,   0,   0,   0,   0,   0,   0,   0,   0,   0,   0,   0,\n          0,   0,   0,   0,   0,   0,   0,   0,   0,   0,   0,   0,   0,\n          0,   0],\n       [  0,   0,   0,   0,   0,   0,   0,   0,   0,   0,   0,   0,   0,\n          0,   0,   0,   0,   0,   0,   0,   0,   0,   0,   0,   0,   0,\n          0,   0],\n       [  0,   0,   0,   0,   0,   0,  84, 185, 159, 151,  60,  36,   0,\n          0,   0,   0,   0,   0,   0,   0,   0,   0,   0,   0,   0,   0,\n          0,   0],\n       [  0,   0,   0,   0,   0,   0, 222, 254, 254, 254, 254, 241, 198,\n        198, 198, 198, 198, 198, 198, 198, 170,  52,   0,   0,   0,   0,\n          0,   0],\n       [  0,   0,   0,   0,   0,   0,  67, 114,  72, 114, 163, 227, 254,\n        225, 254, 254, 254, 250, 229, 254, 254, 140,   0,   0,   0,   0,\n          0,   0],\n       [  0,   0,   0,   0,   0,   0,   0,   0,   0,   0,   0,  17,  66,\n         14,  67,  67,  67,  59,  21, 236, 254, 106,   0,   0,   0,   0,\n          0,   0],\n       [  0,   0,   0,   0,   0,   0,   0,   0,   0,   0,   0,   0,   0,\n          0,   0,   0,   0,   0,  83, 253, 209,  18,   0,   0,   0,   0,\n          0,   0],\n       [  0,   0,   0,   0,   0,   0,   0,   0,   0,   0,   0,   0,   0,\n          0,   0,   0,   0,  22, 233, 255,  83,   0,   0,   0,   0,   0,\n          0,   0],\n       [  0,   0,   0,   0,   0,   0,   0,   0,   0,   0,   0,   0,   0,\n          0,   0,   0,   0, 129, 254, 238,  44,   0,   0,   0,   0,   0,\n          0,   0],\n       [  0,   0,   0,   0,   0,   0,   0,   0,   0,   0,   0,   0,   0,\n          0,   0,   0,  59, 249, 254,  62,   0,   0,   0,   0,   0,   0,\n          0,   0],\n       [  0,   0,   0,   0,   0,   0,   0,   0,   0,   0,   0,   0,   0,\n          0,   0,   0, 133, 254, 187,   5,   0,   0,   0,   0,   0,   0,\n          0,   0],\n       [  0,   0,   0,   0,   0,   0,   0,   0,   0,   0,   0,   0,   0,\n          0,   0,   9, 205, 248,  58,   0,   0,   0,   0,   0,   0,   0,\n          0,   0],\n       [  0,   0,   0,   0,   0,   0,   0,   0,   0,   0,   0,   0,   0,\n          0,   0, 126, 254, 182,   0,   0,   0,   0,   0,   0,   0,   0,\n          0,   0],\n       [  0,   0,   0,   0,   0,   0,   0,   0,   0,   0,   0,   0,   0,\n          0,  75, 251, 240,  57,   0,   0,   0,   0,   0,   0,   0,   0,\n          0,   0],\n       [  0,   0,   0,   0,   0,   0,   0,   0,   0,   0,   0,   0,   0,\n         19, 221, 254, 166,   0,   0,   0,   0,   0,   0,   0,   0,   0,\n          0,   0],\n       [  0,   0,   0,   0,   0,   0,   0,   0,   0,   0,   0,   0,   3,\n        203, 254, 219,  35,   0,   0,   0,   0,   0,   0,   0,   0,   0,\n          0,   0],\n       [  0,   0,   0,   0,   0,   0,   0,   0,   0,   0,   0,   0,  38,\n        254, 254,  77,   0,   0,   0,   0,   0,   0,   0,   0,   0,   0,\n          0,   0],\n       [  0,   0,   0,   0,   0,   0,   0,   0,   0,   0,   0,  31, 224,\n        254, 115,   1,   0,   0,   0,   0,   0,   0,   0,   0,   0,   0,\n          0,   0],\n       [  0,   0,   0,   0,   0,   0,   0,   0,   0,   0,   0, 133, 254,\n        254,  52,   0,   0,   0,   0,   0,   0,   0,   0,   0,   0,   0,\n          0,   0],\n       [  0,   0,   0,   0,   0,   0,   0,   0,   0,   0,  61, 242, 254,\n        254,  52,   0,   0,   0,   0,   0,   0,   0,   0,   0,   0,   0,\n          0,   0],\n       [  0,   0,   0,   0,   0,   0,   0,   0,   0,   0, 121, 254, 254,\n        219,  40,   0,   0,   0,   0,   0,   0,   0,   0,   0,   0,   0,\n          0,   0],\n       [  0,   0,   0,   0,   0,   0,   0,   0,   0,   0, 121, 254, 207,\n         18,   0,   0,   0,   0,   0,   0,   0,   0,   0,   0,   0,   0,\n          0,   0],\n       [  0,   0,   0,   0,   0,   0,   0,   0,   0,   0,   0,   0,   0,\n          0,   0,   0,   0,   0,   0,   0,   0,   0,   0,   0,   0,   0,\n          0,   0]], dtype=uint8)"
     },
     "execution_count": 10,
     "metadata": {},
     "output_type": "execute_result"
    }
   ],
   "source": [
    "X_valid[0]"
   ],
   "metadata": {
    "collapsed": false,
    "ExecuteTime": {
     "start_time": "2023-03-31T15:09:48.288187Z",
     "end_time": "2023-03-31T15:09:48.339703Z"
    }
   }
  },
  {
   "cell_type": "code",
   "execution_count": 11,
   "outputs": [
    {
     "data": {
      "text/plain": "7"
     },
     "execution_count": 11,
     "metadata": {},
     "output_type": "execute_result"
    }
   ],
   "source": [
    "y_valid[0]"
   ],
   "metadata": {
    "collapsed": false,
    "ExecuteTime": {
     "start_time": "2023-03-31T15:12:09.403505Z",
     "end_time": "2023-03-31T15:12:09.530652Z"
    }
   }
  },
  {
   "cell_type": "markdown",
   "source": [
    "#### Preprocess data"
   ],
   "metadata": {
    "collapsed": false
   }
  },
  {
   "cell_type": "code",
   "execution_count": 13,
   "outputs": [],
   "source": [
    "X_train = X_train.reshape(60000, 784).astype('float32')\n",
    "X_valid = X_valid.reshape(10000, 784).astype('float32')"
   ],
   "metadata": {
    "collapsed": false,
    "ExecuteTime": {
     "start_time": "2023-03-31T15:17:31.112238Z",
     "end_time": "2023-03-31T15:17:31.276247Z"
    }
   }
  },
  {
   "cell_type": "code",
   "execution_count": 14,
   "outputs": [],
   "source": [
    "X_train /= 255 # 输入数据的定义域从[0,255]压缩到[0,1]\n",
    "X_valid /= 255"
   ],
   "metadata": {
    "collapsed": false,
    "ExecuteTime": {
     "start_time": "2023-03-31T15:26:06.442326Z",
     "end_time": "2023-03-31T15:26:06.530382Z"
    }
   }
  },
  {
   "cell_type": "code",
   "execution_count": 15,
   "outputs": [
    {
     "data": {
      "text/plain": "array([0.        , 0.        , 0.        , 0.        , 0.        ,\n       0.        , 0.        , 0.        , 0.        , 0.        ,\n       0.        , 0.        , 0.        , 0.        , 0.        ,\n       0.        , 0.        , 0.        , 0.        , 0.        ,\n       0.        , 0.        , 0.        , 0.        , 0.        ,\n       0.        , 0.        , 0.        , 0.        , 0.        ,\n       0.        , 0.        , 0.        , 0.        , 0.        ,\n       0.        , 0.        , 0.        , 0.        , 0.        ,\n       0.        , 0.        , 0.        , 0.        , 0.        ,\n       0.        , 0.        , 0.        , 0.        , 0.        ,\n       0.        , 0.        , 0.        , 0.        , 0.        ,\n       0.        , 0.        , 0.        , 0.        , 0.        ,\n       0.        , 0.        , 0.        , 0.        , 0.        ,\n       0.        , 0.        , 0.        , 0.        , 0.        ,\n       0.        , 0.        , 0.        , 0.        , 0.        ,\n       0.        , 0.        , 0.        , 0.        , 0.        ,\n       0.        , 0.        , 0.        , 0.        , 0.        ,\n       0.        , 0.        , 0.        , 0.        , 0.        ,\n       0.        , 0.        , 0.        , 0.        , 0.        ,\n       0.        , 0.        , 0.        , 0.        , 0.        ,\n       0.        , 0.        , 0.        , 0.        , 0.        ,\n       0.        , 0.        , 0.        , 0.        , 0.        ,\n       0.        , 0.        , 0.        , 0.        , 0.        ,\n       0.        , 0.        , 0.        , 0.        , 0.        ,\n       0.        , 0.        , 0.        , 0.        , 0.        ,\n       0.        , 0.        , 0.        , 0.        , 0.        ,\n       0.        , 0.        , 0.        , 0.        , 0.        ,\n       0.        , 0.        , 0.        , 0.        , 0.        ,\n       0.        , 0.        , 0.        , 0.        , 0.        ,\n       0.        , 0.        , 0.        , 0.        , 0.        ,\n       0.        , 0.        , 0.        , 0.        , 0.        ,\n       0.        , 0.        , 0.        , 0.        , 0.        ,\n       0.        , 0.        , 0.        , 0.        , 0.        ,\n       0.        , 0.        , 0.        , 0.        , 0.        ,\n       0.        , 0.        , 0.        , 0.        , 0.        ,\n       0.        , 0.        , 0.        , 0.        , 0.        ,\n       0.        , 0.        , 0.        , 0.        , 0.        ,\n       0.        , 0.        , 0.        , 0.        , 0.        ,\n       0.        , 0.        , 0.        , 0.        , 0.        ,\n       0.        , 0.        , 0.        , 0.        , 0.        ,\n       0.        , 0.        , 0.32941177, 0.7254902 , 0.62352943,\n       0.5921569 , 0.23529412, 0.14117648, 0.        , 0.        ,\n       0.        , 0.        , 0.        , 0.        , 0.        ,\n       0.        , 0.        , 0.        , 0.        , 0.        ,\n       0.        , 0.        , 0.        , 0.        , 0.        ,\n       0.        , 0.        , 0.        , 0.        , 0.        ,\n       0.87058824, 0.99607843, 0.99607843, 0.99607843, 0.99607843,\n       0.94509804, 0.7764706 , 0.7764706 , 0.7764706 , 0.7764706 ,\n       0.7764706 , 0.7764706 , 0.7764706 , 0.7764706 , 0.6666667 ,\n       0.20392157, 0.        , 0.        , 0.        , 0.        ,\n       0.        , 0.        , 0.        , 0.        , 0.        ,\n       0.        , 0.        , 0.        , 0.2627451 , 0.44705883,\n       0.28235295, 0.44705883, 0.6392157 , 0.8901961 , 0.99607843,\n       0.88235295, 0.99607843, 0.99607843, 0.99607843, 0.98039216,\n       0.8980392 , 0.99607843, 0.99607843, 0.54901963, 0.        ,\n       0.        , 0.        , 0.        , 0.        , 0.        ,\n       0.        , 0.        , 0.        , 0.        , 0.        ,\n       0.        , 0.        , 0.        , 0.        , 0.        ,\n       0.        , 0.06666667, 0.25882354, 0.05490196, 0.2627451 ,\n       0.2627451 , 0.2627451 , 0.23137255, 0.08235294, 0.9254902 ,\n       0.99607843, 0.41568628, 0.        , 0.        , 0.        ,\n       0.        , 0.        , 0.        , 0.        , 0.        ,\n       0.        , 0.        , 0.        , 0.        , 0.        ,\n       0.        , 0.        , 0.        , 0.        , 0.        ,\n       0.        , 0.        , 0.        , 0.        , 0.        ,\n       0.        , 0.3254902 , 0.99215686, 0.81960785, 0.07058824,\n       0.        , 0.        , 0.        , 0.        , 0.        ,\n       0.        , 0.        , 0.        , 0.        , 0.        ,\n       0.        , 0.        , 0.        , 0.        , 0.        ,\n       0.        , 0.        , 0.        , 0.        , 0.        ,\n       0.        , 0.        , 0.        , 0.08627451, 0.9137255 ,\n       1.        , 0.3254902 , 0.        , 0.        , 0.        ,\n       0.        , 0.        , 0.        , 0.        , 0.        ,\n       0.        , 0.        , 0.        , 0.        , 0.        ,\n       0.        , 0.        , 0.        , 0.        , 0.        ,\n       0.        , 0.        , 0.        , 0.        , 0.        ,\n       0.        , 0.5058824 , 0.99607843, 0.93333334, 0.17254902,\n       0.        , 0.        , 0.        , 0.        , 0.        ,\n       0.        , 0.        , 0.        , 0.        , 0.        ,\n       0.        , 0.        , 0.        , 0.        , 0.        ,\n       0.        , 0.        , 0.        , 0.        , 0.        ,\n       0.        , 0.        , 0.        , 0.23137255, 0.9764706 ,\n       0.99607843, 0.24313726, 0.        , 0.        , 0.        ,\n       0.        , 0.        , 0.        , 0.        , 0.        ,\n       0.        , 0.        , 0.        , 0.        , 0.        ,\n       0.        , 0.        , 0.        , 0.        , 0.        ,\n       0.        , 0.        , 0.        , 0.        , 0.        ,\n       0.        , 0.52156866, 0.99607843, 0.73333335, 0.01960784,\n       0.        , 0.        , 0.        , 0.        , 0.        ,\n       0.        , 0.        , 0.        , 0.        , 0.        ,\n       0.        , 0.        , 0.        , 0.        , 0.        ,\n       0.        , 0.        , 0.        , 0.        , 0.        ,\n       0.        , 0.        , 0.        , 0.03529412, 0.8039216 ,\n       0.972549  , 0.22745098, 0.        , 0.        , 0.        ,\n       0.        , 0.        , 0.        , 0.        , 0.        ,\n       0.        , 0.        , 0.        , 0.        , 0.        ,\n       0.        , 0.        , 0.        , 0.        , 0.        ,\n       0.        , 0.        , 0.        , 0.        , 0.        ,\n       0.        , 0.49411765, 0.99607843, 0.7137255 , 0.        ,\n       0.        , 0.        , 0.        , 0.        , 0.        ,\n       0.        , 0.        , 0.        , 0.        , 0.        ,\n       0.        , 0.        , 0.        , 0.        , 0.        ,\n       0.        , 0.        , 0.        , 0.        , 0.        ,\n       0.        , 0.        , 0.        , 0.29411766, 0.9843137 ,\n       0.9411765 , 0.22352941, 0.        , 0.        , 0.        ,\n       0.        , 0.        , 0.        , 0.        , 0.        ,\n       0.        , 0.        , 0.        , 0.        , 0.        ,\n       0.        , 0.        , 0.        , 0.        , 0.        ,\n       0.        , 0.        , 0.        , 0.        , 0.        ,\n       0.07450981, 0.8666667 , 0.99607843, 0.6509804 , 0.        ,\n       0.        , 0.        , 0.        , 0.        , 0.        ,\n       0.        , 0.        , 0.        , 0.        , 0.        ,\n       0.        , 0.        , 0.        , 0.        , 0.        ,\n       0.        , 0.        , 0.        , 0.        , 0.        ,\n       0.        , 0.        , 0.01176471, 0.79607844, 0.99607843,\n       0.85882354, 0.13725491, 0.        , 0.        , 0.        ,\n       0.        , 0.        , 0.        , 0.        , 0.        ,\n       0.        , 0.        , 0.        , 0.        , 0.        ,\n       0.        , 0.        , 0.        , 0.        , 0.        ,\n       0.        , 0.        , 0.        , 0.        , 0.        ,\n       0.14901961, 0.99607843, 0.99607843, 0.3019608 , 0.        ,\n       0.        , 0.        , 0.        , 0.        , 0.        ,\n       0.        , 0.        , 0.        , 0.        , 0.        ,\n       0.        , 0.        , 0.        , 0.        , 0.        ,\n       0.        , 0.        , 0.        , 0.        , 0.        ,\n       0.        , 0.        , 0.12156863, 0.8784314 , 0.99607843,\n       0.4509804 , 0.00392157, 0.        , 0.        , 0.        ,\n       0.        , 0.        , 0.        , 0.        , 0.        ,\n       0.        , 0.        , 0.        , 0.        , 0.        ,\n       0.        , 0.        , 0.        , 0.        , 0.        ,\n       0.        , 0.        , 0.        , 0.        , 0.        ,\n       0.52156866, 0.99607843, 0.99607843, 0.20392157, 0.        ,\n       0.        , 0.        , 0.        , 0.        , 0.        ,\n       0.        , 0.        , 0.        , 0.        , 0.        ,\n       0.        , 0.        , 0.        , 0.        , 0.        ,\n       0.        , 0.        , 0.        , 0.        , 0.        ,\n       0.        , 0.        , 0.23921569, 0.9490196 , 0.99607843,\n       0.99607843, 0.20392157, 0.        , 0.        , 0.        ,\n       0.        , 0.        , 0.        , 0.        , 0.        ,\n       0.        , 0.        , 0.        , 0.        , 0.        ,\n       0.        , 0.        , 0.        , 0.        , 0.        ,\n       0.        , 0.        , 0.        , 0.        , 0.        ,\n       0.4745098 , 0.99607843, 0.99607843, 0.85882354, 0.15686275,\n       0.        , 0.        , 0.        , 0.        , 0.        ,\n       0.        , 0.        , 0.        , 0.        , 0.        ,\n       0.        , 0.        , 0.        , 0.        , 0.        ,\n       0.        , 0.        , 0.        , 0.        , 0.        ,\n       0.        , 0.        , 0.        , 0.4745098 , 0.99607843,\n       0.8117647 , 0.07058824, 0.        , 0.        , 0.        ,\n       0.        , 0.        , 0.        , 0.        , 0.        ,\n       0.        , 0.        , 0.        , 0.        , 0.        ,\n       0.        , 0.        , 0.        , 0.        , 0.        ,\n       0.        , 0.        , 0.        , 0.        , 0.        ,\n       0.        , 0.        , 0.        , 0.        , 0.        ,\n       0.        , 0.        , 0.        , 0.        , 0.        ,\n       0.        , 0.        , 0.        , 0.        , 0.        ,\n       0.        , 0.        , 0.        , 0.        ], dtype=float32)"
     },
     "execution_count": 15,
     "metadata": {},
     "output_type": "execute_result"
    }
   ],
   "source": [
    "X_valid[0]"
   ],
   "metadata": {
    "collapsed": false,
    "ExecuteTime": {
     "start_time": "2023-03-31T15:26:18.071143Z",
     "end_time": "2023-03-31T15:26:18.164693Z"
    }
   }
  },
  {
   "cell_type": "code",
   "execution_count": 16,
   "outputs": [],
   "source": [
    "n_classes = 10\n",
    "y_train = to_categorical(y_train, n_classes)\n",
    "y_valid = to_categorical(y_valid, n_classes)"
   ],
   "metadata": {
    "collapsed": false,
    "ExecuteTime": {
     "start_time": "2023-03-31T15:42:52.552113Z",
     "end_time": "2023-03-31T15:42:52.586190Z"
    }
   }
  },
  {
   "cell_type": "code",
   "execution_count": 23,
   "outputs": [
    {
     "data": {
      "text/plain": "array([0., 0., 0., 0., 0., 0., 0., 1., 0., 0.], dtype=float32)"
     },
     "execution_count": 23,
     "metadata": {},
     "output_type": "execute_result"
    }
   ],
   "source": [
    "y_valid[0]"
   ],
   "metadata": {
    "collapsed": false,
    "ExecuteTime": {
     "start_time": "2023-03-31T15:48:44.157115Z",
     "end_time": "2023-03-31T15:48:44.185865Z"
    }
   }
  },
  {
   "cell_type": "markdown",
   "source": [
    "#### Design NN arch"
   ],
   "metadata": {
    "collapsed": false
   }
  },
  {
   "cell_type": "code",
   "execution_count": 24,
   "outputs": [],
   "source": [
    "model = Sequential()\n",
    "\n",
    "# hidden layer:\n",
    "model.add(Dense(64, activation='sigmoid', input_shape=(784,)))\n",
    "\n",
    "# output layer:\n",
    "model.add(Dense(10, activation='softmax'))"
   ],
   "metadata": {
    "collapsed": false,
    "ExecuteTime": {
     "start_time": "2023-03-31T16:38:47.903427Z",
     "end_time": "2023-03-31T16:38:48.504057Z"
    }
   }
  },
  {
   "cell_type": "code",
   "execution_count": 25,
   "outputs": [
    {
     "name": "stdout",
     "output_type": "stream",
     "text": [
      "Model: \"sequential\"\n",
      "_________________________________________________________________\n",
      " Layer (type)                Output Shape              Param #   \n",
      "=================================================================\n",
      " dense (Dense)               (None, 64)                50240     \n",
      "                                                                 \n",
      " dense_1 (Dense)             (None, 10)                650       \n",
      "                                                                 \n",
      "=================================================================\n",
      "Total params: 50,890\n",
      "Trainable params: 50,890\n",
      "Non-trainable params: 0\n",
      "_________________________________________________________________\n"
     ]
    }
   ],
   "source": [
    "model.summary()"
   ],
   "metadata": {
    "collapsed": false,
    "ExecuteTime": {
     "start_time": "2023-03-31T16:39:20.936392Z",
     "end_time": "2023-03-31T16:39:21.003196Z"
    }
   }
  },
  {
   "cell_type": "markdown",
   "source": [
    "#### Compile model"
   ],
   "metadata": {
    "collapsed": false
   }
  },
  {
   "cell_type": "code",
   "execution_count": 27,
   "outputs": [],
   "source": [
    "model.compile(loss='mean_squared_error', optimizer=SGD(lr=0.01), metrics=['accuracy']) # SGD: stochastic gradient descent,随机梯度下降法"
   ],
   "metadata": {
    "collapsed": false,
    "ExecuteTime": {
     "start_time": "2023-03-31T16:45:52.700034Z",
     "end_time": "2023-03-31T16:45:52.716632Z"
    }
   }
  },
  {
   "cell_type": "markdown",
   "source": [
    "#### Train!"
   ],
   "metadata": {
    "collapsed": false
   }
  },
  {
   "cell_type": "code",
   "execution_count": 28,
   "outputs": [
    {
     "name": "stdout",
     "output_type": "stream",
     "text": [
      "Epoch 1/200\n",
      "469/469 [==============================] - 1s 2ms/step - loss: 0.0928 - accuracy: 0.1044 - val_loss: 0.0917 - val_accuracy: 0.1267\n",
      "Epoch 2/200\n",
      "469/469 [==============================] - 1s 1ms/step - loss: 0.0911 - accuracy: 0.1571 - val_loss: 0.0906 - val_accuracy: 0.1758\n",
      "Epoch 3/200\n",
      "469/469 [==============================] - 1s 1ms/step - loss: 0.0902 - accuracy: 0.1860 - val_loss: 0.0898 - val_accuracy: 0.1928\n",
      "Epoch 4/200\n",
      "469/469 [==============================] - 1s 1ms/step - loss: 0.0896 - accuracy: 0.1973 - val_loss: 0.0893 - val_accuracy: 0.2022\n",
      "Epoch 5/200\n",
      "469/469 [==============================] - 1s 1ms/step - loss: 0.0891 - accuracy: 0.2049 - val_loss: 0.0888 - val_accuracy: 0.2099\n",
      "Epoch 6/200\n",
      "469/469 [==============================] - 1s 1ms/step - loss: 0.0886 - accuracy: 0.2192 - val_loss: 0.0883 - val_accuracy: 0.2312\n",
      "Epoch 7/200\n",
      "469/469 [==============================] - 1s 1ms/step - loss: 0.0882 - accuracy: 0.2420 - val_loss: 0.0879 - val_accuracy: 0.2596\n",
      "Epoch 8/200\n",
      "469/469 [==============================] - 1s 1ms/step - loss: 0.0878 - accuracy: 0.2690 - val_loss: 0.0875 - val_accuracy: 0.2855\n",
      "Epoch 9/200\n",
      "469/469 [==============================] - 1s 1ms/step - loss: 0.0874 - accuracy: 0.2894 - val_loss: 0.0871 - val_accuracy: 0.3020\n",
      "Epoch 10/200\n",
      "469/469 [==============================] - 1s 1ms/step - loss: 0.0871 - accuracy: 0.3020 - val_loss: 0.0868 - val_accuracy: 0.3110\n",
      "Epoch 11/200\n",
      "469/469 [==============================] - 1s 1ms/step - loss: 0.0867 - accuracy: 0.3090 - val_loss: 0.0864 - val_accuracy: 0.3170\n",
      "Epoch 12/200\n",
      "469/469 [==============================] - 1s 1ms/step - loss: 0.0863 - accuracy: 0.3162 - val_loss: 0.0860 - val_accuracy: 0.3222\n",
      "Epoch 13/200\n",
      "469/469 [==============================] - 1s 1ms/step - loss: 0.0859 - accuracy: 0.3217 - val_loss: 0.0856 - val_accuracy: 0.3276\n",
      "Epoch 14/200\n",
      "469/469 [==============================] - 1s 1ms/step - loss: 0.0856 - accuracy: 0.3297 - val_loss: 0.0852 - val_accuracy: 0.3347\n",
      "Epoch 15/200\n",
      "469/469 [==============================] - 1s 1ms/step - loss: 0.0852 - accuracy: 0.3360 - val_loss: 0.0849 - val_accuracy: 0.3437\n",
      "Epoch 16/200\n",
      "469/469 [==============================] - 1s 1ms/step - loss: 0.0848 - accuracy: 0.3420 - val_loss: 0.0845 - val_accuracy: 0.3510\n",
      "Epoch 17/200\n",
      "469/469 [==============================] - 1s 1ms/step - loss: 0.0844 - accuracy: 0.3493 - val_loss: 0.0841 - val_accuracy: 0.3598\n",
      "Epoch 18/200\n",
      "469/469 [==============================] - 1s 1ms/step - loss: 0.0841 - accuracy: 0.3562 - val_loss: 0.0837 - val_accuracy: 0.3667\n",
      "Epoch 19/200\n",
      "469/469 [==============================] - 1s 2ms/step - loss: 0.0837 - accuracy: 0.3609 - val_loss: 0.0833 - val_accuracy: 0.3713\n",
      "Epoch 20/200\n",
      "469/469 [==============================] - 1s 1ms/step - loss: 0.0833 - accuracy: 0.3671 - val_loss: 0.0829 - val_accuracy: 0.3798\n",
      "Epoch 21/200\n",
      "469/469 [==============================] - 1s 2ms/step - loss: 0.0829 - accuracy: 0.3749 - val_loss: 0.0825 - val_accuracy: 0.3856\n",
      "Epoch 22/200\n",
      "469/469 [==============================] - 1s 1ms/step - loss: 0.0825 - accuracy: 0.3806 - val_loss: 0.0821 - val_accuracy: 0.3925\n",
      "Epoch 23/200\n",
      "469/469 [==============================] - 1s 1ms/step - loss: 0.0821 - accuracy: 0.3875 - val_loss: 0.0817 - val_accuracy: 0.3996\n",
      "Epoch 24/200\n",
      "469/469 [==============================] - 1s 1ms/step - loss: 0.0817 - accuracy: 0.3943 - val_loss: 0.0813 - val_accuracy: 0.4053\n",
      "Epoch 25/200\n",
      "469/469 [==============================] - 1s 1ms/step - loss: 0.0813 - accuracy: 0.3984 - val_loss: 0.0809 - val_accuracy: 0.4124\n",
      "Epoch 26/200\n",
      "469/469 [==============================] - 1s 1ms/step - loss: 0.0809 - accuracy: 0.4047 - val_loss: 0.0804 - val_accuracy: 0.4184\n",
      "Epoch 27/200\n",
      "469/469 [==============================] - 1s 1ms/step - loss: 0.0805 - accuracy: 0.4095 - val_loss: 0.0800 - val_accuracy: 0.4241\n",
      "Epoch 28/200\n",
      "469/469 [==============================] - 1s 1ms/step - loss: 0.0801 - accuracy: 0.4168 - val_loss: 0.0796 - val_accuracy: 0.4292\n",
      "Epoch 29/200\n",
      "469/469 [==============================] - 1s 1ms/step - loss: 0.0796 - accuracy: 0.4217 - val_loss: 0.0792 - val_accuracy: 0.4340\n",
      "Epoch 30/200\n",
      "469/469 [==============================] - 1s 1ms/step - loss: 0.0792 - accuracy: 0.4272 - val_loss: 0.0787 - val_accuracy: 0.4402\n",
      "Epoch 31/200\n",
      "469/469 [==============================] - 1s 1ms/step - loss: 0.0788 - accuracy: 0.4337 - val_loss: 0.0783 - val_accuracy: 0.4465\n",
      "Epoch 32/200\n",
      "469/469 [==============================] - 1s 1ms/step - loss: 0.0784 - accuracy: 0.4402 - val_loss: 0.0778 - val_accuracy: 0.4536\n",
      "Epoch 33/200\n",
      "469/469 [==============================] - 1s 1ms/step - loss: 0.0779 - accuracy: 0.4467 - val_loss: 0.0774 - val_accuracy: 0.4611\n",
      "Epoch 34/200\n",
      "469/469 [==============================] - 1s 1ms/step - loss: 0.0775 - accuracy: 0.4540 - val_loss: 0.0770 - val_accuracy: 0.4698\n",
      "Epoch 35/200\n",
      "469/469 [==============================] - 1s 1ms/step - loss: 0.0771 - accuracy: 0.4622 - val_loss: 0.0765 - val_accuracy: 0.4777\n",
      "Epoch 36/200\n",
      "469/469 [==============================] - 1s 1ms/step - loss: 0.0766 - accuracy: 0.4703 - val_loss: 0.0760 - val_accuracy: 0.4877\n",
      "Epoch 37/200\n",
      "469/469 [==============================] - 1s 1ms/step - loss: 0.0762 - accuracy: 0.4776 - val_loss: 0.0756 - val_accuracy: 0.4978\n",
      "Epoch 38/200\n",
      "469/469 [==============================] - 1s 1ms/step - loss: 0.0757 - accuracy: 0.4857 - val_loss: 0.0751 - val_accuracy: 0.5068\n",
      "Epoch 39/200\n",
      "469/469 [==============================] - 1s 1ms/step - loss: 0.0753 - accuracy: 0.4947 - val_loss: 0.0746 - val_accuracy: 0.5152\n",
      "Epoch 40/200\n",
      "469/469 [==============================] - 1s 1ms/step - loss: 0.0748 - accuracy: 0.5033 - val_loss: 0.0742 - val_accuracy: 0.5227\n",
      "Epoch 41/200\n",
      "469/469 [==============================] - 1s 1ms/step - loss: 0.0743 - accuracy: 0.5113 - val_loss: 0.0737 - val_accuracy: 0.5290\n",
      "Epoch 42/200\n",
      "469/469 [==============================] - 1s 1ms/step - loss: 0.0739 - accuracy: 0.5185 - val_loss: 0.0732 - val_accuracy: 0.5370\n",
      "Epoch 43/200\n",
      "469/469 [==============================] - 1s 1ms/step - loss: 0.0734 - accuracy: 0.5257 - val_loss: 0.0727 - val_accuracy: 0.5446\n",
      "Epoch 44/200\n",
      "469/469 [==============================] - 1s 1ms/step - loss: 0.0729 - accuracy: 0.5335 - val_loss: 0.0722 - val_accuracy: 0.5509\n",
      "Epoch 45/200\n",
      "469/469 [==============================] - 1s 2ms/step - loss: 0.0725 - accuracy: 0.5394 - val_loss: 0.0718 - val_accuracy: 0.5571\n",
      "Epoch 46/200\n",
      "469/469 [==============================] - 1s 2ms/step - loss: 0.0720 - accuracy: 0.5461 - val_loss: 0.0713 - val_accuracy: 0.5630\n",
      "Epoch 47/200\n",
      "469/469 [==============================] - 1s 1ms/step - loss: 0.0715 - accuracy: 0.5516 - val_loss: 0.0708 - val_accuracy: 0.5680\n",
      "Epoch 48/200\n",
      "469/469 [==============================] - 1s 1ms/step - loss: 0.0710 - accuracy: 0.5568 - val_loss: 0.0703 - val_accuracy: 0.5716\n",
      "Epoch 49/200\n",
      "469/469 [==============================] - 1s 1ms/step - loss: 0.0705 - accuracy: 0.5615 - val_loss: 0.0698 - val_accuracy: 0.5781\n",
      "Epoch 50/200\n",
      "469/469 [==============================] - 1s 1ms/step - loss: 0.0700 - accuracy: 0.5654 - val_loss: 0.0693 - val_accuracy: 0.5818\n",
      "Epoch 51/200\n",
      "469/469 [==============================] - 1s 1ms/step - loss: 0.0695 - accuracy: 0.5696 - val_loss: 0.0688 - val_accuracy: 0.5849\n",
      "Epoch 52/200\n",
      "469/469 [==============================] - 1s 1ms/step - loss: 0.0691 - accuracy: 0.5734 - val_loss: 0.0683 - val_accuracy: 0.5895\n",
      "Epoch 53/200\n",
      "469/469 [==============================] - 1s 1ms/step - loss: 0.0686 - accuracy: 0.5773 - val_loss: 0.0678 - val_accuracy: 0.5937\n",
      "Epoch 54/200\n",
      "469/469 [==============================] - 1s 1ms/step - loss: 0.0681 - accuracy: 0.5809 - val_loss: 0.0672 - val_accuracy: 0.5963\n",
      "Epoch 55/200\n",
      "469/469 [==============================] - 1s 1ms/step - loss: 0.0676 - accuracy: 0.5849 - val_loss: 0.0667 - val_accuracy: 0.5992\n",
      "Epoch 56/200\n",
      "469/469 [==============================] - 1s 1ms/step - loss: 0.0671 - accuracy: 0.5869 - val_loss: 0.0662 - val_accuracy: 0.6027\n",
      "Epoch 57/200\n",
      "469/469 [==============================] - 1s 1ms/step - loss: 0.0666 - accuracy: 0.5903 - val_loss: 0.0657 - val_accuracy: 0.6059\n",
      "Epoch 58/200\n",
      "469/469 [==============================] - 1s 1ms/step - loss: 0.0661 - accuracy: 0.5935 - val_loss: 0.0652 - val_accuracy: 0.6085\n",
      "Epoch 59/200\n",
      "469/469 [==============================] - 1s 1ms/step - loss: 0.0656 - accuracy: 0.5963 - val_loss: 0.0647 - val_accuracy: 0.6113\n",
      "Epoch 60/200\n",
      "469/469 [==============================] - 1s 1ms/step - loss: 0.0651 - accuracy: 0.5992 - val_loss: 0.0642 - val_accuracy: 0.6145\n",
      "Epoch 61/200\n",
      "469/469 [==============================] - 1s 1ms/step - loss: 0.0646 - accuracy: 0.6025 - val_loss: 0.0637 - val_accuracy: 0.6165\n",
      "Epoch 62/200\n",
      "469/469 [==============================] - 1s 1ms/step - loss: 0.0641 - accuracy: 0.6056 - val_loss: 0.0633 - val_accuracy: 0.6179\n",
      "Epoch 63/200\n",
      "469/469 [==============================] - 1s 1ms/step - loss: 0.0637 - accuracy: 0.6080 - val_loss: 0.0628 - val_accuracy: 0.6203\n",
      "Epoch 64/200\n",
      "469/469 [==============================] - 1s 1ms/step - loss: 0.0632 - accuracy: 0.6112 - val_loss: 0.0623 - val_accuracy: 0.6226\n",
      "Epoch 65/200\n",
      "469/469 [==============================] - 1s 1ms/step - loss: 0.0627 - accuracy: 0.6138 - val_loss: 0.0618 - val_accuracy: 0.6253\n",
      "Epoch 66/200\n",
      "469/469 [==============================] - 1s 1ms/step - loss: 0.0622 - accuracy: 0.6165 - val_loss: 0.0613 - val_accuracy: 0.6283\n",
      "Epoch 67/200\n",
      "469/469 [==============================] - 1s 1ms/step - loss: 0.0617 - accuracy: 0.6189 - val_loss: 0.0608 - val_accuracy: 0.6301\n",
      "Epoch 68/200\n",
      "469/469 [==============================] - 1s 1ms/step - loss: 0.0613 - accuracy: 0.6217 - val_loss: 0.0604 - val_accuracy: 0.6333\n",
      "Epoch 69/200\n",
      "469/469 [==============================] - 1s 1ms/step - loss: 0.0608 - accuracy: 0.6250 - val_loss: 0.0599 - val_accuracy: 0.6354\n",
      "Epoch 70/200\n",
      "469/469 [==============================] - 1s 1ms/step - loss: 0.0604 - accuracy: 0.6280 - val_loss: 0.0594 - val_accuracy: 0.6377\n",
      "Epoch 71/200\n",
      "469/469 [==============================] - 1s 1ms/step - loss: 0.0599 - accuracy: 0.6309 - val_loss: 0.0590 - val_accuracy: 0.6413\n",
      "Epoch 72/200\n",
      "469/469 [==============================] - 1s 2ms/step - loss: 0.0595 - accuracy: 0.6334 - val_loss: 0.0585 - val_accuracy: 0.6448\n",
      "Epoch 73/200\n",
      "469/469 [==============================] - 1s 1ms/step - loss: 0.0590 - accuracy: 0.6369 - val_loss: 0.0581 - val_accuracy: 0.6470\n",
      "Epoch 74/200\n",
      "469/469 [==============================] - 1s 2ms/step - loss: 0.0586 - accuracy: 0.6395 - val_loss: 0.0576 - val_accuracy: 0.6502\n",
      "Epoch 75/200\n",
      "469/469 [==============================] - 1s 1ms/step - loss: 0.0581 - accuracy: 0.6424 - val_loss: 0.0572 - val_accuracy: 0.6521\n",
      "Epoch 76/200\n",
      "469/469 [==============================] - 1s 1ms/step - loss: 0.0577 - accuracy: 0.6450 - val_loss: 0.0568 - val_accuracy: 0.6549\n",
      "Epoch 77/200\n",
      "469/469 [==============================] - 1s 1ms/step - loss: 0.0573 - accuracy: 0.6476 - val_loss: 0.0563 - val_accuracy: 0.6577\n",
      "Epoch 78/200\n",
      "469/469 [==============================] - 1s 1ms/step - loss: 0.0569 - accuracy: 0.6504 - val_loss: 0.0559 - val_accuracy: 0.6602\n",
      "Epoch 79/200\n",
      "469/469 [==============================] - 1s 1ms/step - loss: 0.0564 - accuracy: 0.6531 - val_loss: 0.0555 - val_accuracy: 0.6626\n",
      "Epoch 80/200\n",
      "469/469 [==============================] - 1s 1ms/step - loss: 0.0560 - accuracy: 0.6559 - val_loss: 0.0551 - val_accuracy: 0.6663\n",
      "Epoch 81/200\n",
      "469/469 [==============================] - 1s 1ms/step - loss: 0.0556 - accuracy: 0.6590 - val_loss: 0.0547 - val_accuracy: 0.6699\n",
      "Epoch 82/200\n",
      "469/469 [==============================] - 1s 1ms/step - loss: 0.0552 - accuracy: 0.6620 - val_loss: 0.0543 - val_accuracy: 0.6724\n",
      "Epoch 83/200\n",
      "469/469 [==============================] - 1s 2ms/step - loss: 0.0548 - accuracy: 0.6644 - val_loss: 0.0539 - val_accuracy: 0.6753\n",
      "Epoch 84/200\n",
      "469/469 [==============================] - 1s 1ms/step - loss: 0.0544 - accuracy: 0.6674 - val_loss: 0.0535 - val_accuracy: 0.6783\n",
      "Epoch 85/200\n",
      "469/469 [==============================] - 1s 1ms/step - loss: 0.0540 - accuracy: 0.6711 - val_loss: 0.0531 - val_accuracy: 0.6810\n",
      "Epoch 86/200\n",
      "469/469 [==============================] - 1s 1ms/step - loss: 0.0536 - accuracy: 0.6737 - val_loss: 0.0527 - val_accuracy: 0.6844\n",
      "Epoch 87/200\n",
      "469/469 [==============================] - 1s 1ms/step - loss: 0.0533 - accuracy: 0.6769 - val_loss: 0.0523 - val_accuracy: 0.6878\n",
      "Epoch 88/200\n",
      "469/469 [==============================] - 1s 1ms/step - loss: 0.0529 - accuracy: 0.6794 - val_loss: 0.0519 - val_accuracy: 0.6910\n",
      "Epoch 89/200\n",
      "469/469 [==============================] - 1s 1ms/step - loss: 0.0525 - accuracy: 0.6828 - val_loss: 0.0515 - val_accuracy: 0.6948\n",
      "Epoch 90/200\n",
      "469/469 [==============================] - 1s 1ms/step - loss: 0.0522 - accuracy: 0.6869 - val_loss: 0.0512 - val_accuracy: 0.6985\n",
      "Epoch 91/200\n",
      "469/469 [==============================] - 1s 1ms/step - loss: 0.0518 - accuracy: 0.6894 - val_loss: 0.0508 - val_accuracy: 0.7013\n",
      "Epoch 92/200\n",
      "469/469 [==============================] - 1s 1ms/step - loss: 0.0514 - accuracy: 0.6927 - val_loss: 0.0505 - val_accuracy: 0.7054\n",
      "Epoch 93/200\n",
      "469/469 [==============================] - 1s 1ms/step - loss: 0.0511 - accuracy: 0.6963 - val_loss: 0.0501 - val_accuracy: 0.7084\n",
      "Epoch 94/200\n",
      "469/469 [==============================] - 1s 1ms/step - loss: 0.0507 - accuracy: 0.6997 - val_loss: 0.0497 - val_accuracy: 0.7126\n",
      "Epoch 95/200\n",
      "469/469 [==============================] - 1s 1ms/step - loss: 0.0504 - accuracy: 0.7029 - val_loss: 0.0494 - val_accuracy: 0.7169\n",
      "Epoch 96/200\n",
      "469/469 [==============================] - 1s 1ms/step - loss: 0.0500 - accuracy: 0.7062 - val_loss: 0.0490 - val_accuracy: 0.7220\n",
      "Epoch 97/200\n",
      "469/469 [==============================] - 1s 1ms/step - loss: 0.0497 - accuracy: 0.7093 - val_loss: 0.0487 - val_accuracy: 0.7260\n",
      "Epoch 98/200\n",
      "469/469 [==============================] - 1s 2ms/step - loss: 0.0494 - accuracy: 0.7128 - val_loss: 0.0484 - val_accuracy: 0.7292\n",
      "Epoch 99/200\n",
      "469/469 [==============================] - 1s 2ms/step - loss: 0.0490 - accuracy: 0.7165 - val_loss: 0.0480 - val_accuracy: 0.7319\n",
      "Epoch 100/200\n",
      "469/469 [==============================] - 1s 1ms/step - loss: 0.0487 - accuracy: 0.7199 - val_loss: 0.0477 - val_accuracy: 0.7349\n",
      "Epoch 101/200\n",
      "469/469 [==============================] - 1s 1ms/step - loss: 0.0484 - accuracy: 0.7234 - val_loss: 0.0474 - val_accuracy: 0.7390\n",
      "Epoch 102/200\n",
      "469/469 [==============================] - 1s 1ms/step - loss: 0.0481 - accuracy: 0.7274 - val_loss: 0.0471 - val_accuracy: 0.7428\n",
      "Epoch 103/200\n",
      "469/469 [==============================] - 1s 1ms/step - loss: 0.0477 - accuracy: 0.7307 - val_loss: 0.0467 - val_accuracy: 0.7457\n",
      "Epoch 104/200\n",
      "469/469 [==============================] - 1s 1ms/step - loss: 0.0474 - accuracy: 0.7345 - val_loss: 0.0464 - val_accuracy: 0.7487\n",
      "Epoch 105/200\n",
      "469/469 [==============================] - 1s 1ms/step - loss: 0.0471 - accuracy: 0.7373 - val_loss: 0.0461 - val_accuracy: 0.7517\n",
      "Epoch 106/200\n",
      "469/469 [==============================] - 1s 1ms/step - loss: 0.0468 - accuracy: 0.7406 - val_loss: 0.0458 - val_accuracy: 0.7543\n",
      "Epoch 107/200\n",
      "469/469 [==============================] - 1s 1ms/step - loss: 0.0465 - accuracy: 0.7444 - val_loss: 0.0455 - val_accuracy: 0.7575\n",
      "Epoch 108/200\n",
      "469/469 [==============================] - 1s 1ms/step - loss: 0.0462 - accuracy: 0.7475 - val_loss: 0.0452 - val_accuracy: 0.7607\n",
      "Epoch 109/200\n",
      "469/469 [==============================] - 1s 1ms/step - loss: 0.0459 - accuracy: 0.7505 - val_loss: 0.0449 - val_accuracy: 0.7642\n",
      "Epoch 110/200\n",
      "469/469 [==============================] - 1s 1ms/step - loss: 0.0456 - accuracy: 0.7535 - val_loss: 0.0446 - val_accuracy: 0.7667\n",
      "Epoch 111/200\n",
      "469/469 [==============================] - 1s 1ms/step - loss: 0.0453 - accuracy: 0.7563 - val_loss: 0.0443 - val_accuracy: 0.7696\n",
      "Epoch 112/200\n",
      "469/469 [==============================] - 1s 1ms/step - loss: 0.0450 - accuracy: 0.7589 - val_loss: 0.0440 - val_accuracy: 0.7722\n",
      "Epoch 113/200\n",
      "469/469 [==============================] - 1s 1ms/step - loss: 0.0447 - accuracy: 0.7623 - val_loss: 0.0437 - val_accuracy: 0.7752\n",
      "Epoch 114/200\n",
      "469/469 [==============================] - 1s 1ms/step - loss: 0.0444 - accuracy: 0.7657 - val_loss: 0.0434 - val_accuracy: 0.7775\n",
      "Epoch 115/200\n",
      "469/469 [==============================] - 1s 1ms/step - loss: 0.0442 - accuracy: 0.7689 - val_loss: 0.0431 - val_accuracy: 0.7791\n",
      "Epoch 116/200\n",
      "469/469 [==============================] - 1s 1ms/step - loss: 0.0439 - accuracy: 0.7715 - val_loss: 0.0428 - val_accuracy: 0.7820\n",
      "Epoch 117/200\n",
      "469/469 [==============================] - 1s 1ms/step - loss: 0.0436 - accuracy: 0.7748 - val_loss: 0.0425 - val_accuracy: 0.7833\n",
      "Epoch 118/200\n",
      "469/469 [==============================] - 1s 1ms/step - loss: 0.0433 - accuracy: 0.7771 - val_loss: 0.0423 - val_accuracy: 0.7850\n",
      "Epoch 119/200\n",
      "469/469 [==============================] - 1s 1ms/step - loss: 0.0430 - accuracy: 0.7800 - val_loss: 0.0420 - val_accuracy: 0.7887\n",
      "Epoch 120/200\n",
      "469/469 [==============================] - 1s 1ms/step - loss: 0.0428 - accuracy: 0.7826 - val_loss: 0.0417 - val_accuracy: 0.7919\n",
      "Epoch 121/200\n",
      "469/469 [==============================] - 1s 1ms/step - loss: 0.0425 - accuracy: 0.7852 - val_loss: 0.0414 - val_accuracy: 0.7937\n",
      "Epoch 122/200\n",
      "469/469 [==============================] - 1s 1ms/step - loss: 0.0422 - accuracy: 0.7873 - val_loss: 0.0412 - val_accuracy: 0.7965\n",
      "Epoch 123/200\n",
      "469/469 [==============================] - 1s 2ms/step - loss: 0.0420 - accuracy: 0.7897 - val_loss: 0.0409 - val_accuracy: 0.7993\n",
      "Epoch 124/200\n",
      "469/469 [==============================] - 1s 1ms/step - loss: 0.0417 - accuracy: 0.7916 - val_loss: 0.0406 - val_accuracy: 0.8013\n",
      "Epoch 125/200\n",
      "469/469 [==============================] - 1s 2ms/step - loss: 0.0415 - accuracy: 0.7934 - val_loss: 0.0404 - val_accuracy: 0.8032\n",
      "Epoch 126/200\n",
      "469/469 [==============================] - 1s 1ms/step - loss: 0.0412 - accuracy: 0.7956 - val_loss: 0.0401 - val_accuracy: 0.8065\n",
      "Epoch 127/200\n",
      "469/469 [==============================] - 1s 1ms/step - loss: 0.0409 - accuracy: 0.7982 - val_loss: 0.0399 - val_accuracy: 0.8082\n",
      "Epoch 128/200\n",
      "469/469 [==============================] - 1s 1ms/step - loss: 0.0407 - accuracy: 0.8002 - val_loss: 0.0396 - val_accuracy: 0.8105\n",
      "Epoch 129/200\n",
      "469/469 [==============================] - 1s 1ms/step - loss: 0.0404 - accuracy: 0.8023 - val_loss: 0.0394 - val_accuracy: 0.8125\n",
      "Epoch 130/200\n",
      "469/469 [==============================] - 1s 1ms/step - loss: 0.0402 - accuracy: 0.8045 - val_loss: 0.0391 - val_accuracy: 0.8144\n",
      "Epoch 131/200\n",
      "469/469 [==============================] - 1s 1ms/step - loss: 0.0400 - accuracy: 0.8065 - val_loss: 0.0389 - val_accuracy: 0.8166\n",
      "Epoch 132/200\n",
      "469/469 [==============================] - 1s 1ms/step - loss: 0.0397 - accuracy: 0.8082 - val_loss: 0.0386 - val_accuracy: 0.8184\n",
      "Epoch 133/200\n",
      "469/469 [==============================] - 1s 1ms/step - loss: 0.0395 - accuracy: 0.8100 - val_loss: 0.0384 - val_accuracy: 0.8197\n",
      "Epoch 134/200\n",
      "469/469 [==============================] - 1s 1ms/step - loss: 0.0392 - accuracy: 0.8116 - val_loss: 0.0381 - val_accuracy: 0.8212\n",
      "Epoch 135/200\n",
      "469/469 [==============================] - 1s 1ms/step - loss: 0.0390 - accuracy: 0.8131 - val_loss: 0.0379 - val_accuracy: 0.8221\n",
      "Epoch 136/200\n",
      "469/469 [==============================] - 1s 1ms/step - loss: 0.0388 - accuracy: 0.8147 - val_loss: 0.0377 - val_accuracy: 0.8231\n",
      "Epoch 137/200\n",
      "469/469 [==============================] - 1s 1ms/step - loss: 0.0385 - accuracy: 0.8163 - val_loss: 0.0374 - val_accuracy: 0.8251\n",
      "Epoch 138/200\n",
      "469/469 [==============================] - 1s 1ms/step - loss: 0.0383 - accuracy: 0.8177 - val_loss: 0.0372 - val_accuracy: 0.8264\n",
      "Epoch 139/200\n",
      "469/469 [==============================] - 1s 1ms/step - loss: 0.0381 - accuracy: 0.8188 - val_loss: 0.0370 - val_accuracy: 0.8283\n",
      "Epoch 140/200\n",
      "469/469 [==============================] - 1s 1ms/step - loss: 0.0379 - accuracy: 0.8205 - val_loss: 0.0368 - val_accuracy: 0.8299\n",
      "Epoch 141/200\n",
      "469/469 [==============================] - 1s 1ms/step - loss: 0.0376 - accuracy: 0.8218 - val_loss: 0.0365 - val_accuracy: 0.8315\n",
      "Epoch 142/200\n",
      "469/469 [==============================] - 1s 1ms/step - loss: 0.0374 - accuracy: 0.8230 - val_loss: 0.0363 - val_accuracy: 0.8324\n",
      "Epoch 143/200\n",
      "469/469 [==============================] - 1s 1ms/step - loss: 0.0372 - accuracy: 0.8241 - val_loss: 0.0361 - val_accuracy: 0.8342\n",
      "Epoch 144/200\n",
      "469/469 [==============================] - 1s 1ms/step - loss: 0.0370 - accuracy: 0.8254 - val_loss: 0.0359 - val_accuracy: 0.8352\n",
      "Epoch 145/200\n",
      "469/469 [==============================] - 1s 1ms/step - loss: 0.0368 - accuracy: 0.8263 - val_loss: 0.0357 - val_accuracy: 0.8369\n",
      "Epoch 146/200\n",
      "469/469 [==============================] - 1s 1ms/step - loss: 0.0366 - accuracy: 0.8276 - val_loss: 0.0354 - val_accuracy: 0.8377\n",
      "Epoch 147/200\n",
      "469/469 [==============================] - 1s 2ms/step - loss: 0.0364 - accuracy: 0.8289 - val_loss: 0.0352 - val_accuracy: 0.8386\n",
      "Epoch 148/200\n",
      "469/469 [==============================] - 1s 1ms/step - loss: 0.0362 - accuracy: 0.8298 - val_loss: 0.0350 - val_accuracy: 0.8395\n",
      "Epoch 149/200\n",
      "469/469 [==============================] - 1s 2ms/step - loss: 0.0360 - accuracy: 0.8311 - val_loss: 0.0348 - val_accuracy: 0.8409\n",
      "Epoch 150/200\n",
      "469/469 [==============================] - 1s 1ms/step - loss: 0.0358 - accuracy: 0.8321 - val_loss: 0.0346 - val_accuracy: 0.8424\n",
      "Epoch 151/200\n",
      "469/469 [==============================] - 1s 1ms/step - loss: 0.0356 - accuracy: 0.8334 - val_loss: 0.0344 - val_accuracy: 0.8432\n",
      "Epoch 152/200\n",
      "469/469 [==============================] - 1s 1ms/step - loss: 0.0354 - accuracy: 0.8342 - val_loss: 0.0342 - val_accuracy: 0.8438\n",
      "Epoch 153/200\n",
      "469/469 [==============================] - 1s 1ms/step - loss: 0.0352 - accuracy: 0.8352 - val_loss: 0.0340 - val_accuracy: 0.8445\n",
      "Epoch 154/200\n",
      "469/469 [==============================] - 1s 1ms/step - loss: 0.0350 - accuracy: 0.8358 - val_loss: 0.0338 - val_accuracy: 0.8447\n",
      "Epoch 155/200\n",
      "469/469 [==============================] - 1s 1ms/step - loss: 0.0348 - accuracy: 0.8365 - val_loss: 0.0336 - val_accuracy: 0.8452\n",
      "Epoch 156/200\n",
      "469/469 [==============================] - 1s 1ms/step - loss: 0.0346 - accuracy: 0.8373 - val_loss: 0.0335 - val_accuracy: 0.8459\n",
      "Epoch 157/200\n",
      "469/469 [==============================] - 1s 1ms/step - loss: 0.0344 - accuracy: 0.8381 - val_loss: 0.0333 - val_accuracy: 0.8466\n",
      "Epoch 158/200\n",
      "469/469 [==============================] - 1s 1ms/step - loss: 0.0342 - accuracy: 0.8386 - val_loss: 0.0331 - val_accuracy: 0.8474\n",
      "Epoch 159/200\n",
      "469/469 [==============================] - 1s 1ms/step - loss: 0.0340 - accuracy: 0.8393 - val_loss: 0.0329 - val_accuracy: 0.8485\n",
      "Epoch 160/200\n",
      "469/469 [==============================] - 1s 1ms/step - loss: 0.0339 - accuracy: 0.8403 - val_loss: 0.0327 - val_accuracy: 0.8486\n",
      "Epoch 161/200\n",
      "469/469 [==============================] - 1s 1ms/step - loss: 0.0337 - accuracy: 0.8408 - val_loss: 0.0325 - val_accuracy: 0.8498\n",
      "Epoch 162/200\n",
      "469/469 [==============================] - 1s 1ms/step - loss: 0.0335 - accuracy: 0.8415 - val_loss: 0.0324 - val_accuracy: 0.8511\n",
      "Epoch 163/200\n",
      "469/469 [==============================] - 1s 1ms/step - loss: 0.0333 - accuracy: 0.8422 - val_loss: 0.0322 - val_accuracy: 0.8514\n",
      "Epoch 164/200\n",
      "469/469 [==============================] - 1s 1ms/step - loss: 0.0332 - accuracy: 0.8429 - val_loss: 0.0320 - val_accuracy: 0.8522\n",
      "Epoch 165/200\n",
      "469/469 [==============================] - 1s 2ms/step - loss: 0.0330 - accuracy: 0.8437 - val_loss: 0.0318 - val_accuracy: 0.8533\n",
      "Epoch 166/200\n",
      "469/469 [==============================] - 1s 1ms/step - loss: 0.0328 - accuracy: 0.8442 - val_loss: 0.0317 - val_accuracy: 0.8544\n",
      "Epoch 167/200\n",
      "469/469 [==============================] - 1s 1ms/step - loss: 0.0327 - accuracy: 0.8453 - val_loss: 0.0315 - val_accuracy: 0.8550\n",
      "Epoch 168/200\n",
      "469/469 [==============================] - 1s 1ms/step - loss: 0.0325 - accuracy: 0.8458 - val_loss: 0.0313 - val_accuracy: 0.8556\n",
      "Epoch 169/200\n",
      "469/469 [==============================] - 1s 1ms/step - loss: 0.0323 - accuracy: 0.8465 - val_loss: 0.0312 - val_accuracy: 0.8561\n",
      "Epoch 170/200\n",
      "469/469 [==============================] - 1s 1ms/step - loss: 0.0322 - accuracy: 0.8469 - val_loss: 0.0310 - val_accuracy: 0.8569\n",
      "Epoch 171/200\n",
      "469/469 [==============================] - 1s 1ms/step - loss: 0.0320 - accuracy: 0.8476 - val_loss: 0.0309 - val_accuracy: 0.8579\n",
      "Epoch 172/200\n",
      "469/469 [==============================] - 1s 1ms/step - loss: 0.0319 - accuracy: 0.8479 - val_loss: 0.0307 - val_accuracy: 0.8586\n",
      "Epoch 173/200\n",
      "469/469 [==============================] - 1s 2ms/step - loss: 0.0317 - accuracy: 0.8484 - val_loss: 0.0306 - val_accuracy: 0.8589\n",
      "Epoch 174/200\n",
      "469/469 [==============================] - 1s 1ms/step - loss: 0.0315 - accuracy: 0.8486 - val_loss: 0.0304 - val_accuracy: 0.8593\n",
      "Epoch 175/200\n",
      "469/469 [==============================] - 1s 1ms/step - loss: 0.0314 - accuracy: 0.8494 - val_loss: 0.0302 - val_accuracy: 0.8602\n",
      "Epoch 176/200\n",
      "469/469 [==============================] - 1s 1ms/step - loss: 0.0312 - accuracy: 0.8499 - val_loss: 0.0301 - val_accuracy: 0.8609\n",
      "Epoch 177/200\n",
      "469/469 [==============================] - 1s 1ms/step - loss: 0.0311 - accuracy: 0.8504 - val_loss: 0.0300 - val_accuracy: 0.8614\n",
      "Epoch 178/200\n",
      "469/469 [==============================] - 1s 1ms/step - loss: 0.0310 - accuracy: 0.8510 - val_loss: 0.0298 - val_accuracy: 0.8617\n",
      "Epoch 179/200\n",
      "469/469 [==============================] - 1s 1ms/step - loss: 0.0308 - accuracy: 0.8513 - val_loss: 0.0297 - val_accuracy: 0.8619\n",
      "Epoch 180/200\n",
      "469/469 [==============================] - 1s 1ms/step - loss: 0.0307 - accuracy: 0.8521 - val_loss: 0.0295 - val_accuracy: 0.8622\n",
      "Epoch 181/200\n",
      "469/469 [==============================] - 1s 1ms/step - loss: 0.0305 - accuracy: 0.8524 - val_loss: 0.0294 - val_accuracy: 0.8629\n",
      "Epoch 182/200\n",
      "469/469 [==============================] - 1s 1ms/step - loss: 0.0304 - accuracy: 0.8529 - val_loss: 0.0292 - val_accuracy: 0.8635\n",
      "Epoch 183/200\n",
      "469/469 [==============================] - 1s 1ms/step - loss: 0.0303 - accuracy: 0.8534 - val_loss: 0.0291 - val_accuracy: 0.8638\n",
      "Epoch 184/200\n",
      "469/469 [==============================] - 1s 1ms/step - loss: 0.0301 - accuracy: 0.8536 - val_loss: 0.0290 - val_accuracy: 0.8643\n",
      "Epoch 185/200\n",
      "469/469 [==============================] - 1s 1ms/step - loss: 0.0300 - accuracy: 0.8540 - val_loss: 0.0288 - val_accuracy: 0.8650\n",
      "Epoch 186/200\n",
      "469/469 [==============================] - 1s 1ms/step - loss: 0.0299 - accuracy: 0.8545 - val_loss: 0.0287 - val_accuracy: 0.8653\n",
      "Epoch 187/200\n",
      "469/469 [==============================] - 1s 1ms/step - loss: 0.0297 - accuracy: 0.8547 - val_loss: 0.0286 - val_accuracy: 0.8657\n",
      "Epoch 188/200\n",
      "469/469 [==============================] - 1s 1ms/step - loss: 0.0296 - accuracy: 0.8552 - val_loss: 0.0284 - val_accuracy: 0.8661\n",
      "Epoch 189/200\n",
      "469/469 [==============================] - 1s 1ms/step - loss: 0.0295 - accuracy: 0.8557 - val_loss: 0.0283 - val_accuracy: 0.8668\n",
      "Epoch 190/200\n",
      "469/469 [==============================] - 1s 1ms/step - loss: 0.0293 - accuracy: 0.8561 - val_loss: 0.0282 - val_accuracy: 0.8671\n",
      "Epoch 191/200\n",
      "469/469 [==============================] - 1s 1ms/step - loss: 0.0292 - accuracy: 0.8566 - val_loss: 0.0281 - val_accuracy: 0.8677\n",
      "Epoch 192/200\n",
      "469/469 [==============================] - 1s 1ms/step - loss: 0.0291 - accuracy: 0.8570 - val_loss: 0.0279 - val_accuracy: 0.8680\n",
      "Epoch 193/200\n",
      "469/469 [==============================] - 1s 1ms/step - loss: 0.0290 - accuracy: 0.8574 - val_loss: 0.0278 - val_accuracy: 0.8681\n",
      "Epoch 194/200\n",
      "469/469 [==============================] - 1s 1ms/step - loss: 0.0288 - accuracy: 0.8576 - val_loss: 0.0277 - val_accuracy: 0.8683\n",
      "Epoch 195/200\n",
      "469/469 [==============================] - 1s 1ms/step - loss: 0.0287 - accuracy: 0.8582 - val_loss: 0.0276 - val_accuracy: 0.8690\n",
      "Epoch 196/200\n",
      "469/469 [==============================] - 1s 1ms/step - loss: 0.0286 - accuracy: 0.8587 - val_loss: 0.0275 - val_accuracy: 0.8696\n",
      "Epoch 197/200\n",
      "469/469 [==============================] - 1s 1ms/step - loss: 0.0285 - accuracy: 0.8591 - val_loss: 0.0274 - val_accuracy: 0.8703\n",
      "Epoch 198/200\n",
      "469/469 [==============================] - 1s 1ms/step - loss: 0.0284 - accuracy: 0.8596 - val_loss: 0.0272 - val_accuracy: 0.8704\n",
      "Epoch 199/200\n",
      "469/469 [==============================] - 1s 2ms/step - loss: 0.0283 - accuracy: 0.8600 - val_loss: 0.0271 - val_accuracy: 0.8708\n",
      "Epoch 200/200\n",
      "469/469 [==============================] - 1s 1ms/step - loss: 0.0282 - accuracy: 0.8602 - val_loss: 0.0270 - val_accuracy: 0.8710\n"
     ]
    },
    {
     "data": {
      "text/plain": "<keras.callbacks.History at 0x221b478bc40>"
     },
     "execution_count": 28,
     "metadata": {},
     "output_type": "execute_result"
    }
   ],
   "source": [
    "model.fit(X_train, y_train, batch_size=128, epochs=200, verbose=1, validation_data=(X_valid, y_valid))"
   ],
   "metadata": {
    "collapsed": false,
    "ExecuteTime": {
     "start_time": "2023-03-31T16:49:54.192645Z",
     "end_time": "2023-03-31T16:52:00.061439Z"
    }
   }
  },
  {
   "cell_type": "markdown",
   "source": [
    "#### Evaluating model performance"
   ],
   "metadata": {
    "collapsed": false
   }
  },
  {
   "cell_type": "code",
   "execution_count": 29,
   "outputs": [
    {
     "name": "stdout",
     "output_type": "stream",
     "text": [
      "313/313 [==============================] - 0s 702us/step - loss: 0.0270 - accuracy: 0.8710\n"
     ]
    },
    {
     "data": {
      "text/plain": "[0.027015594765543938, 0.8709999918937683]"
     },
     "execution_count": 29,
     "metadata": {},
     "output_type": "execute_result"
    }
   ],
   "source": [
    "model.evaluate(X_valid, y_valid)"
   ],
   "metadata": {
    "collapsed": false,
    "ExecuteTime": {
     "start_time": "2023-03-31T16:53:36.739863Z",
     "end_time": "2023-03-31T16:53:37.048763Z"
    }
   }
  },
  {
   "cell_type": "code",
   "execution_count": 30,
   "outputs": [],
   "source": [
    "valid0 = X_valid[0].reshape(1, 784)"
   ],
   "metadata": {
    "collapsed": false,
    "ExecuteTime": {
     "start_time": "2023-03-31T16:54:07.615555Z",
     "end_time": "2023-03-31T16:54:07.647748Z"
    }
   }
  },
  {
   "cell_type": "code",
   "execution_count": 34,
   "outputs": [
    {
     "name": "stdout",
     "output_type": "stream",
     "text": [
      "1/1 [==============================] - 0s 12ms/step\n"
     ]
    }
   ],
   "source": [
    "predict_0 = model.predict(valid0)"
   ],
   "metadata": {
    "collapsed": false,
    "ExecuteTime": {
     "start_time": "2023-03-31T16:57:26.666506Z",
     "end_time": "2023-03-31T16:57:26.715876Z"
    }
   }
  },
  {
   "cell_type": "code",
   "execution_count": 35,
   "outputs": [
    {
     "data": {
      "text/plain": "array([7], dtype=int64)"
     },
     "execution_count": 35,
     "metadata": {},
     "output_type": "execute_result"
    }
   ],
   "source": [
    "import numpy as np\n",
    "np.argmax(predict_0,axis=1)"
   ],
   "metadata": {
    "collapsed": false,
    "ExecuteTime": {
     "start_time": "2023-03-31T17:04:51.076905Z",
     "end_time": "2023-03-31T17:04:51.096909Z"
    }
   }
  },
  {
   "cell_type": "code",
   "execution_count": null,
   "outputs": [],
   "source": [],
   "metadata": {
    "collapsed": false
   }
  }
 ],
 "metadata": {
  "kernelspec": {
   "display_name": "Python 3",
   "language": "python",
   "name": "python3"
  },
  "language_info": {
   "codemirror_mode": {
    "name": "ipython",
    "version": 2
   },
   "file_extension": ".py",
   "mimetype": "text/x-python",
   "name": "python",
   "nbconvert_exporter": "python",
   "pygments_lexer": "ipython2",
   "version": "2.7.6"
  }
 },
 "nbformat": 4,
 "nbformat_minor": 0
}
