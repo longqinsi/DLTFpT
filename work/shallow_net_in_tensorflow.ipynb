{
 "cells": [
  {
   "cell_type": "markdown",
   "metadata": {
    "collapsed": false
   },
   "source": [
    "# Shallow Neural Network in TensorFlow"
   ]
  },
  {
   "cell_type": "markdown",
   "metadata": {
    "collapsed": false
   },
   "source": [
    "Build a shallow neural network to classify handwritten digits"
   ]
  },
  {
   "cell_type": "markdown",
   "metadata": {
    "collapsed": false
   },
   "source": [
    "#### Load dependencies"
   ]
  },
  {
   "cell_type": "code",
   "execution_count": 1,
   "metadata": {
    "ExecuteTime": {
     "end_time": "2023-04-03T10:40:59.293175Z",
     "start_time": "2023-04-03T10:40:50.080529Z"
    },
    "collapsed": false
   },
   "outputs": [
    {
     "name": "stderr",
     "output_type": "stream",
     "text": [
      "2023-04-03 10:40:50.199984: I tensorflow/core/platform/cpu_feature_guard.cc:193] This TensorFlow binary is optimized with oneAPI Deep Neural Network Library (oneDNN) to use the following CPU instructions in performance-critical operations:  AVX2 AVX_VNNI FMA\n",
      "To enable them in other operations, rebuild TensorFlow with the appropriate compiler flags.\n",
      "2023-04-03 10:40:55.151642: I tensorflow/core/util/port.cc:104] oneDNN custom operations are on. You may see slightly different numerical results due to floating-point round-off errors from different computation orders. To turn them off, set the environment variable `TF_ENABLE_ONEDNN_OPTS=0`.\n",
      "2023-04-03 10:40:55.700623: W tensorflow/compiler/xla/stream_executor/platform/default/dso_loader.cc:64] Could not load dynamic library 'libcudart.so.11.0'; dlerror: libcudart.so.11.0: cannot open shared object file: No such file or directory\n",
      "2023-04-03 10:40:55.700657: I tensorflow/compiler/xla/stream_executor/cuda/cudart_stub.cc:29] Ignore above cudart dlerror if you do not have a GPU set up on your machine.\n",
      "2023-04-03 10:40:57.932581: W tensorflow/compiler/xla/stream_executor/platform/default/dso_loader.cc:64] Could not load dynamic library 'libnvinfer.so.7'; dlerror: libnvinfer.so.7: cannot open shared object file: No such file or directory\n",
      "2023-04-03 10:40:57.932663: W tensorflow/compiler/xla/stream_executor/platform/default/dso_loader.cc:64] Could not load dynamic library 'libnvinfer_plugin.so.7'; dlerror: libnvinfer_plugin.so.7: cannot open shared object file: No such file or directory\n",
      "2023-04-03 10:40:57.932669: W tensorflow/compiler/tf2tensorrt/utils/py_utils.cc:38] TF-TRT Warning: Cannot dlopen some TensorRT libraries. If you would like to use Nvidia GPU with TensorRT, please make sure the missing libraries mentioned above are installed properly.\n"
     ]
    }
   ],
   "source": [
    "import tensorflow\n",
    "from keras.datasets import mnist\n",
    "from keras.utils import to_categorical\n",
    "from keras.models import Sequential\n",
    "from keras.layers import Dense\n",
    "from keras.optimizers import SGD\n",
    "from matplotlib import pyplot as plt"
   ]
  },
  {
   "cell_type": "markdown",
   "metadata": {
    "collapsed": false
   },
   "source": [
    "#### Load data"
   ]
  },
  {
   "cell_type": "code",
   "execution_count": 2,
   "metadata": {
    "ExecuteTime": {
     "end_time": "2023-04-03T10:41:00.636420Z",
     "start_time": "2023-04-03T10:40:59.295172Z"
    },
    "collapsed": false
   },
   "outputs": [],
   "source": [
    "(X_train, y_train), (X_valid, y_valid) = mnist.load_data() # X - inputs, y - outputs"
   ]
  },
  {
   "cell_type": "code",
   "execution_count": 3,
   "metadata": {
    "ExecuteTime": {
     "end_time": "2023-04-03T10:41:00.646453Z",
     "start_time": "2023-04-03T10:41:00.640422Z"
    },
    "collapsed": false
   },
   "outputs": [
    {
     "data": {
      "text/plain": [
       "(60000, 28, 28)"
      ]
     },
     "execution_count": 3,
     "metadata": {},
     "output_type": "execute_result"
    }
   ],
   "source": [
    "X_train.shape"
   ]
  },
  {
   "cell_type": "code",
   "execution_count": 4,
   "metadata": {
    "ExecuteTime": {
     "end_time": "2023-04-03T10:41:01.114769Z",
     "start_time": "2023-04-03T10:41:00.645458Z"
    },
    "collapsed": false
   },
   "outputs": [
    {
     "data": {
      "text/plain": [
       "(60000,)"
      ]
     },
     "execution_count": 4,
     "metadata": {},
     "output_type": "execute_result"
    }
   ],
   "source": [
    "y_train.shape"
   ]
  },
  {
   "cell_type": "code",
   "execution_count": 5,
   "metadata": {
    "ExecuteTime": {
     "end_time": "2023-04-03T10:41:01.622614Z",
     "start_time": "2023-04-03T10:41:01.109221Z"
    },
    "collapsed": false
   },
   "outputs": [
    {
     "data": {
      "text/plain": [
       "array([5, 0, 4, 1, 9, 2, 1, 3, 1, 4, 3, 5], dtype=uint8)"
      ]
     },
     "execution_count": 5,
     "metadata": {},
     "output_type": "execute_result"
    }
   ],
   "source": [
    "y_train[0:12]"
   ]
  },
  {
   "cell_type": "code",
   "execution_count": 6,
   "metadata": {
    "ExecuteTime": {
     "end_time": "2023-04-03T10:41:03.261145Z",
     "start_time": "2023-04-03T10:41:01.614580Z"
    },
    "collapsed": false
   },
   "outputs": [
    {
     "data": {
      "image/png": "[encoded data removed]",
      "text/plain": [
       "<Figure size 500x500 with 12 Axes>"
      ]
     },
     "metadata": {},
     "output_type": "display_data"
    }
   ],
   "source": [
    "plt.figure(figsize=(5,5))\n",
    "for k in range(12):\n",
    "    plt.subplot(3, 4, k+1)\n",
    "    plt.imshow(X_train[k], cmap='Greys')\n",
    "    plt.axis('off')\n",
    "plt.tight_layout()\n",
    "plt.show()"
   ]
  },
  {
   "cell_type": "code",
   "execution_count": 7,
   "metadata": {
    "ExecuteTime": {
     "end_time": "2023-04-03T10:41:03.447808Z",
     "start_time": "2023-04-03T10:41:03.256131Z"
    },
    "collapsed": false
   },
   "outputs": [
    {
     "data": {
      "text/plain": [
       "(10000, 28, 28)"
      ]
     },
     "execution_count": 7,
     "metadata": {},
     "output_type": "execute_result"
    }
   ],
   "source": [
    "X_valid.shape"
   ]
  },
  {
   "cell_type": "code",
   "execution_count": 8,
   "metadata": {
    "ExecuteTime": {
     "end_time": "2023-04-03T10:41:03.702457Z",
     "start_time": "2023-04-03T10:41:03.365518Z"
    },
    "collapsed": false
   },
   "outputs": [
    {
     "data": {
      "text/plain": [
       "(10000,)"
      ]
     },
     "execution_count": 8,
     "metadata": {},
     "output_type": "execute_result"
    }
   ],
   "source": [
    "y_valid.shape"
   ]
  },
  {
   "cell_type": "code",
   "execution_count": 9,
   "metadata": {
    "ExecuteTime": {
     "end_time": "2023-04-03T10:41:04.033808Z",
     "start_time": "2023-04-03T10:41:03.638901Z"
    },
    "collapsed": false
   },
   "outputs": [
    {
     "data": {
      "text/plain": [
       "<matplotlib.image.AxesImage at 0x7fdf96065240>"
      ]
     },
     "execution_count": 9,
     "metadata": {},
     "output_type": "execute_result"
    },
    {
     "data": {
      "image/png": "[encoded data removed]",
      "text/plain": [
       "<Figure size 640x480 with 1 Axes>"
      ]
     },
     "metadata": {},
     "output_type": "display_data"
    }
   ],
   "source": [
    "plt.imshow(X_valid[0], cmap='Greys')"
   ]
  },
  {
   "cell_type": "code",
   "execution_count": 10,
   "metadata": {
    "ExecuteTime": {
     "end_time": "2023-04-03T10:41:04.423265Z",
     "start_time": "2023-04-03T10:41:03.940252Z"
    },
    "collapsed": false
   },
   "outputs": [
    {
     "data": {
      "text/plain": [
       "array([[  0,   0,   0,   0,   0,   0,   0,   0,   0,   0,   0,   0,   0,\n",
       "          0,   0,   0,   0,   0,   0,   0,   0,   0,   0,   0,   0,   0,\n",
       "          0,   0],\n",
       "       [  0,   0,   0,   0,   0,   0,   0,   0,   0,   0,   0,   0,   0,\n",
       "          0,   0,   0,   0,   0,   0,   0,   0,   0,   0,   0,   0,   0,\n",
       "          0,   0],\n",
       "       [  0,   0,   0,   0,   0,   0,   0,   0,   0,   0,   0,   0,   0,\n",
       "          0,   0,   0,   0,   0,   0,   0,   0,   0,   0,   0,   0,   0,\n",
       "          0,   0],\n",
       "       [  0,   0,   0,   0,   0,   0,   0,   0,   0,   0,   0,   0,   0,\n",
       "          0,   0,   0,   0,   0,   0,   0,   0,   0,   0,   0,   0,   0,\n",
       "          0,   0],\n",
       "       [  0,   0,   0,   0,   0,   0,   0,   0,   0,   0,   0,   0,   0,\n",
       "          0,   0,   0,   0,   0,   0,   0,   0,   0,   0,   0,   0,   0,\n",
       "          0,   0],\n",
       "       [  0,   0,   0,   0,   0,   0,   0,   0,   0,   0,   0,   0,   0,\n",
       "          0,   0,   0,   0,   0,   0,   0,   0,   0,   0,   0,   0,   0,\n",
       "          0,   0],\n",
       "       [  0,   0,   0,   0,   0,   0,   0,   0,   0,   0,   0,   0,   0,\n",
       "          0,   0,   0,   0,   0,   0,   0,   0,   0,   0,   0,   0,   0,\n",
       "          0,   0],\n",
       "       [  0,   0,   0,   0,   0,   0,  84, 185, 159, 151,  60,  36,   0,\n",
       "          0,   0,   0,   0,   0,   0,   0,   0,   0,   0,   0,   0,   0,\n",
       "          0,   0],\n",
       "       [  0,   0,   0,   0,   0,   0, 222, 254, 254, 254, 254, 241, 198,\n",
       "        198, 198, 198, 198, 198, 198, 198, 170,  52,   0,   0,   0,   0,\n",
       "          0,   0],\n",
       "       [  0,   0,   0,   0,   0,   0,  67, 114,  72, 114, 163, 227, 254,\n",
       "        225, 254, 254, 254, 250, 229, 254, 254, 140,   0,   0,   0,   0,\n",
       "          0,   0],\n",
       "       [  0,   0,   0,   0,   0,   0,   0,   0,   0,   0,   0,  17,  66,\n",
       "         14,  67,  67,  67,  59,  21, 236, 254, 106,   0,   0,   0,   0,\n",
       "          0,   0],\n",
       "       [  0,   0,   0,   0,   0,   0,   0,   0,   0,   0,   0,   0,   0,\n",
       "          0,   0,   0,   0,   0,  83, 253, 209,  18,   0,   0,   0,   0,\n",
       "          0,   0],\n",
       "       [  0,   0,   0,   0,   0,   0,   0,   0,   0,   0,   0,   0,   0,\n",
       "          0,   0,   0,   0,  22, 233, 255,  83,   0,   0,   0,   0,   0,\n",
       "          0,   0],\n",
       "       [  0,   0,   0,   0,   0,   0,   0,   0,   0,   0,   0,   0,   0,\n",
       "          0,   0,   0,   0, 129, 254, 238,  44,   0,   0,   0,   0,   0,\n",
       "          0,   0],\n",
       "       [  0,   0,   0,   0,   0,   0,   0,   0,   0,   0,   0,   0,   0,\n",
       "          0,   0,   0,  59, 249, 254,  62,   0,   0,   0,   0,   0,   0,\n",
       "          0,   0],\n",
       "       [  0,   0,   0,   0,   0,   0,   0,   0,   0,   0,   0,   0,   0,\n",
       "          0,   0,   0, 133, 254, 187,   5,   0,   0,   0,   0,   0,   0,\n",
       "          0,   0],\n",
       "       [  0,   0,   0,   0,   0,   0,   0,   0,   0,   0,   0,   0,   0,\n",
       "          0,   0,   9, 205, 248,  58,   0,   0,   0,   0,   0,   0,   0,\n",
       "          0,   0],\n",
       "       [  0,   0,   0,   0,   0,   0,   0,   0,   0,   0,   0,   0,   0,\n",
       "          0,   0, 126, 254, 182,   0,   0,   0,   0,   0,   0,   0,   0,\n",
       "          0,   0],\n",
       "       [  0,   0,   0,   0,   0,   0,   0,   0,   0,   0,   0,   0,   0,\n",
       "          0,  75, 251, 240,  57,   0,   0,   0,   0,   0,   0,   0,   0,\n",
       "          0,   0],\n",
       "       [  0,   0,   0,   0,   0,   0,   0,   0,   0,   0,   0,   0,   0,\n",
       "         19, 221, 254, 166,   0,   0,   0,   0,   0,   0,   0,   0,   0,\n",
       "          0,   0],\n",
       "       [  0,   0,   0,   0,   0,   0,   0,   0,   0,   0,   0,   0,   3,\n",
       "        203, 254, 219,  35,   0,   0,   0,   0,   0,   0,   0,   0,   0,\n",
       "          0,   0],\n",
       "       [  0,   0,   0,   0,   0,   0,   0,   0,   0,   0,   0,   0,  38,\n",
       "        254, 254,  77,   0,   0,   0,   0,   0,   0,   0,   0,   0,   0,\n",
       "          0,   0],\n",
       "       [  0,   0,   0,   0,   0,   0,   0,   0,   0,   0,   0,  31, 224,\n",
       "        254, 115,   1,   0,   0,   0,   0,   0,   0,   0,   0,   0,   0,\n",
       "          0,   0],\n",
       "       [  0,   0,   0,   0,   0,   0,   0,   0,   0,   0,   0, 133, 254,\n",
       "        254,  52,   0,   0,   0,   0,   0,   0,   0,   0,   0,   0,   0,\n",
       "          0,   0],\n",
       "       [  0,   0,   0,   0,   0,   0,   0,   0,   0,   0,  61, 242, 254,\n",
       "        254,  52,   0,   0,   0,   0,   0,   0,   0,   0,   0,   0,   0,\n",
       "          0,   0],\n",
       "       [  0,   0,   0,   0,   0,   0,   0,   0,   0,   0, 121, 254, 254,\n",
       "        219,  40,   0,   0,   0,   0,   0,   0,   0,   0,   0,   0,   0,\n",
       "          0,   0],\n",
       "       [  0,   0,   0,   0,   0,   0,   0,   0,   0,   0, 121, 254, 207,\n",
       "         18,   0,   0,   0,   0,   0,   0,   0,   0,   0,   0,   0,   0,\n",
       "          0,   0],\n",
       "       [  0,   0,   0,   0,   0,   0,   0,   0,   0,   0,   0,   0,   0,\n",
       "          0,   0,   0,   0,   0,   0,   0,   0,   0,   0,   0,   0,   0,\n",
       "          0,   0]], dtype=uint8)"
      ]
     },
     "execution_count": 10,
     "metadata": {},
     "output_type": "execute_result"
    }
   ],
   "source": [
    "X_valid[0]"
   ]
  },
  {
   "cell_type": "code",
   "execution_count": 11,
   "metadata": {
    "ExecuteTime": {
     "end_time": "2023-04-03T10:41:05.213917Z",
     "start_time": "2023-04-03T10:41:04.412424Z"
    },
    "collapsed": false
   },
   "outputs": [
    {
     "data": {
      "text/plain": [
       "7"
      ]
     },
     "execution_count": 11,
     "metadata": {},
     "output_type": "execute_result"
    }
   ],
   "source": [
    "y_valid[0]"
   ]
  },
  {
   "cell_type": "markdown",
   "metadata": {
    "collapsed": false
   },
   "source": [
    "#### Preprocess data"
   ]
  },
  {
   "cell_type": "code",
   "execution_count": 12,
   "metadata": {
    "ExecuteTime": {
     "end_time": "2023-04-03T10:41:05.690824Z",
     "start_time": "2023-04-03T10:41:05.209564Z"
    },
    "collapsed": false
   },
   "outputs": [],
   "source": [
    "X_train = X_train.reshape(60000, 784).astype('float32')\n",
    "X_valid = X_valid.reshape(10000, 784).astype('float32')"
   ]
  },
  {
   "cell_type": "code",
   "execution_count": 13,
   "metadata": {
    "ExecuteTime": {
     "end_time": "2023-04-03T10:41:06.798878Z",
     "start_time": "2023-04-03T10:41:05.657786Z"
    },
    "collapsed": false
   },
   "outputs": [],
   "source": [
    "X_train /= 255 # 输入数据的定义域从[0,255]压缩到[0,1]\n",
    "X_valid /= 255"
   ]
  },
  {
   "cell_type": "code",
   "execution_count": 14,
   "metadata": {
    "ExecuteTime": {
     "end_time": "2023-04-03T10:41:08.009899Z",
     "start_time": "2023-04-03T10:41:06.802395Z"
    },
    "collapsed": false
   },
   "outputs": [
    {
     "data": {
      "text/plain": [
       "array([0.        , 0.        , 0.        , 0.        , 0.        ,\n",
       "       0.        , 0.        , 0.        , 0.        , 0.        ,\n",
       "       0.        , 0.        , 0.        , 0.        , 0.        ,\n",
       "       0.        , 0.        , 0.        , 0.        , 0.        ,\n",
       "       0.        , 0.        , 0.        , 0.        , 0.        ,\n",
       "       0.        , 0.        , 0.        , 0.        , 0.        ,\n",
       "       0.        , 0.        , 0.        , 0.        , 0.        ,\n",
       "       0.        , 0.        , 0.        , 0.        , 0.        ,\n",
       "       0.        , 0.        , 0.        , 0.        , 0.        ,\n",
       "       0.        , 0.        , 0.        , 0.        , 0.        ,\n",
       "       0.        , 0.        , 0.        , 0.        , 0.        ,\n",
       "       0.        , 0.        , 0.        , 0.        , 0.        ,\n",
       "       0.        , 0.        , 0.        , 0.        , 0.        ,\n",
       "       0.        , 0.        , 0.        , 0.        , 0.        ,\n",
       "       0.        , 0.        , 0.        , 0.        , 0.        ,\n",
       "       0.        , 0.        , 0.        , 0.        , 0.        ,\n",
       "       0.        , 0.        , 0.        , 0.        , 0.        ,\n",
       "       0.        , 0.        , 0.        , 0.        , 0.        ,\n",
       "       0.        , 0.        , 0.        , 0.        , 0.        ,\n",
       "       0.        , 0.        , 0.        , 0.        , 0.        ,\n",
       "       0.        , 0.        , 0.        , 0.        , 0.        ,\n",
       "       0.        , 0.        , 0.        , 0.        , 0.        ,\n",
       "       0.        , 0.        , 0.        , 0.        , 0.        ,\n",
       "       0.        , 0.        , 0.        , 0.        , 0.        ,\n",
       "       0.        , 0.        , 0.        , 0.        , 0.        ,\n",
       "       0.        , 0.        , 0.        , 0.        , 0.        ,\n",
       "       0.        , 0.        , 0.        , 0.        , 0.        ,\n",
       "       0.        , 0.        , 0.        , 0.        , 0.        ,\n",
       "       0.        , 0.        , 0.        , 0.        , 0.        ,\n",
       "       0.        , 0.        , 0.        , 0.        , 0.        ,\n",
       "       0.        , 0.        , 0.        , 0.        , 0.        ,\n",
       "       0.        , 0.        , 0.        , 0.        , 0.        ,\n",
       "       0.        , 0.        , 0.        , 0.        , 0.        ,\n",
       "       0.        , 0.        , 0.        , 0.        , 0.        ,\n",
       "       0.        , 0.        , 0.        , 0.        , 0.        ,\n",
       "       0.        , 0.        , 0.        , 0.        , 0.        ,\n",
       "       0.        , 0.        , 0.        , 0.        , 0.        ,\n",
       "       0.        , 0.        , 0.        , 0.        , 0.        ,\n",
       "       0.        , 0.        , 0.        , 0.        , 0.        ,\n",
       "       0.        , 0.        , 0.        , 0.        , 0.        ,\n",
       "       0.        , 0.        , 0.32941177, 0.7254902 , 0.62352943,\n",
       "       0.5921569 , 0.23529412, 0.14117648, 0.        , 0.        ,\n",
       "       0.        , 0.        , 0.        , 0.        , 0.        ,\n",
       "       0.        , 0.        , 0.        , 0.        , 0.        ,\n",
       "       0.        , 0.        , 0.        , 0.        , 0.        ,\n",
       "       0.        , 0.        , 0.        , 0.        , 0.        ,\n",
       "       0.87058824, 0.99607843, 0.99607843, 0.99607843, 0.99607843,\n",
       "       0.94509804, 0.7764706 , 0.7764706 , 0.7764706 , 0.7764706 ,\n",
       "       0.7764706 , 0.7764706 , 0.7764706 , 0.7764706 , 0.6666667 ,\n",
       "       0.20392157, 0.        , 0.        , 0.        , 0.        ,\n",
       "       0.        , 0.        , 0.        , 0.        , 0.        ,\n",
       "       0.        , 0.        , 0.        , 0.2627451 , 0.44705883,\n",
       "       0.28235295, 0.44705883, 0.6392157 , 0.8901961 , 0.99607843,\n",
       "       0.88235295, 0.99607843, 0.99607843, 0.99607843, 0.98039216,\n",
       "       0.8980392 , 0.99607843, 0.99607843, 0.54901963, 0.        ,\n",
       "       0.        , 0.        , 0.        , 0.        , 0.        ,\n",
       "       0.        , 0.        , 0.        , 0.        , 0.        ,\n",
       "       0.        , 0.        , 0.        , 0.        , 0.        ,\n",
       "       0.        , 0.06666667, 0.25882354, 0.05490196, 0.2627451 ,\n",
       "       0.2627451 , 0.2627451 , 0.23137255, 0.08235294, 0.9254902 ,\n",
       "       0.99607843, 0.41568628, 0.        , 0.        , 0.        ,\n",
       "       0.        , 0.        , 0.        , 0.        , 0.        ,\n",
       "       0.        , 0.        , 0.        , 0.        , 0.        ,\n",
       "       0.        , 0.        , 0.        , 0.        , 0.        ,\n",
       "       0.        , 0.        , 0.        , 0.        , 0.        ,\n",
       "       0.        , 0.3254902 , 0.99215686, 0.81960785, 0.07058824,\n",
       "       0.        , 0.        , 0.        , 0.        , 0.        ,\n",
       "       0.        , 0.        , 0.        , 0.        , 0.        ,\n",
       "       0.        , 0.        , 0.        , 0.        , 0.        ,\n",
       "       0.        , 0.        , 0.        , 0.        , 0.        ,\n",
       "       0.        , 0.        , 0.        , 0.08627451, 0.9137255 ,\n",
       "       1.        , 0.3254902 , 0.        , 0.        , 0.        ,\n",
       "       0.        , 0.        , 0.        , 0.        , 0.        ,\n",
       "       0.        , 0.        , 0.        , 0.        , 0.        ,\n",
       "       0.        , 0.        , 0.        , 0.        , 0.        ,\n",
       "       0.        , 0.        , 0.        , 0.        , 0.        ,\n",
       "       0.        , 0.5058824 , 0.99607843, 0.93333334, 0.17254902,\n",
       "       0.        , 0.        , 0.        , 0.        , 0.        ,\n",
       "       0.        , 0.        , 0.        , 0.        , 0.        ,\n",
       "       0.        , 0.        , 0.        , 0.        , 0.        ,\n",
       "       0.        , 0.        , 0.        , 0.        , 0.        ,\n",
       "       0.        , 0.        , 0.        , 0.23137255, 0.9764706 ,\n",
       "       0.99607843, 0.24313726, 0.        , 0.        , 0.        ,\n",
       "       0.        , 0.        , 0.        , 0.        , 0.        ,\n",
       "       0.        , 0.        , 0.        , 0.        , 0.        ,\n",
       "       0.        , 0.        , 0.        , 0.        , 0.        ,\n",
       "       0.        , 0.        , 0.        , 0.        , 0.        ,\n",
       "       0.        , 0.52156866, 0.99607843, 0.73333335, 0.01960784,\n",
       "       0.        , 0.        , 0.        , 0.        , 0.        ,\n",
       "       0.        , 0.        , 0.        , 0.        , 0.        ,\n",
       "       0.        , 0.        , 0.        , 0.        , 0.        ,\n",
       "       0.        , 0.        , 0.        , 0.        , 0.        ,\n",
       "       0.        , 0.        , 0.        , 0.03529412, 0.8039216 ,\n",
       "       0.972549  , 0.22745098, 0.        , 0.        , 0.        ,\n",
       "       0.        , 0.        , 0.        , 0.        , 0.        ,\n",
       "       0.        , 0.        , 0.        , 0.        , 0.        ,\n",
       "       0.        , 0.        , 0.        , 0.        , 0.        ,\n",
       "       0.        , 0.        , 0.        , 0.        , 0.        ,\n",
       "       0.        , 0.49411765, 0.99607843, 0.7137255 , 0.        ,\n",
       "       0.        , 0.        , 0.        , 0.        , 0.        ,\n",
       "       0.        , 0.        , 0.        , 0.        , 0.        ,\n",
       "       0.        , 0.        , 0.        , 0.        , 0.        ,\n",
       "       0.        , 0.        , 0.        , 0.        , 0.        ,\n",
       "       0.        , 0.        , 0.        , 0.29411766, 0.9843137 ,\n",
       "       0.9411765 , 0.22352941, 0.        , 0.        , 0.        ,\n",
       "       0.        , 0.        , 0.        , 0.        , 0.        ,\n",
       "       0.        , 0.        , 0.        , 0.        , 0.        ,\n",
       "       0.        , 0.        , 0.        , 0.        , 0.        ,\n",
       "       0.        , 0.        , 0.        , 0.        , 0.        ,\n",
       "       0.07450981, 0.8666667 , 0.99607843, 0.6509804 , 0.        ,\n",
       "       0.        , 0.        , 0.        , 0.        , 0.        ,\n",
       "       0.        , 0.        , 0.        , 0.        , 0.        ,\n",
       "       0.        , 0.        , 0.        , 0.        , 0.        ,\n",
       "       0.        , 0.        , 0.        , 0.        , 0.        ,\n",
       "       0.        , 0.        , 0.01176471, 0.79607844, 0.99607843,\n",
       "       0.85882354, 0.13725491, 0.        , 0.        , 0.        ,\n",
       "       0.        , 0.        , 0.        , 0.        , 0.        ,\n",
       "       0.        , 0.        , 0.        , 0.        , 0.        ,\n",
       "       0.        , 0.        , 0.        , 0.        , 0.        ,\n",
       "       0.        , 0.        , 0.        , 0.        , 0.        ,\n",
       "       0.14901961, 0.99607843, 0.99607843, 0.3019608 , 0.        ,\n",
       "       0.        , 0.        , 0.        , 0.        , 0.        ,\n",
       "       0.        , 0.        , 0.        , 0.        , 0.        ,\n",
       "       0.        , 0.        , 0.        , 0.        , 0.        ,\n",
       "       0.        , 0.        , 0.        , 0.        , 0.        ,\n",
       "       0.        , 0.        , 0.12156863, 0.8784314 , 0.99607843,\n",
       "       0.4509804 , 0.00392157, 0.        , 0.        , 0.        ,\n",
       "       0.        , 0.        , 0.        , 0.        , 0.        ,\n",
       "       0.        , 0.        , 0.        , 0.        , 0.        ,\n",
       "       0.        , 0.        , 0.        , 0.        , 0.        ,\n",
       "       0.        , 0.        , 0.        , 0.        , 0.        ,\n",
       "       0.52156866, 0.99607843, 0.99607843, 0.20392157, 0.        ,\n",
       "       0.        , 0.        , 0.        , 0.        , 0.        ,\n",
       "       0.        , 0.        , 0.        , 0.        , 0.        ,\n",
       "       0.        , 0.        , 0.        , 0.        , 0.        ,\n",
       "       0.        , 0.        , 0.        , 0.        , 0.        ,\n",
       "       0.        , 0.        , 0.23921569, 0.9490196 , 0.99607843,\n",
       "       0.99607843, 0.20392157, 0.        , 0.        , 0.        ,\n",
       "       0.        , 0.        , 0.        , 0.        , 0.        ,\n",
       "       0.        , 0.        , 0.        , 0.        , 0.        ,\n",
       "       0.        , 0.        , 0.        , 0.        , 0.        ,\n",
       "       0.        , 0.        , 0.        , 0.        , 0.        ,\n",
       "       0.4745098 , 0.99607843, 0.99607843, 0.85882354, 0.15686275,\n",
       "       0.        , 0.        , 0.        , 0.        , 0.        ,\n",
       "       0.        , 0.        , 0.        , 0.        , 0.        ,\n",
       "       0.        , 0.        , 0.        , 0.        , 0.        ,\n",
       "       0.        , 0.        , 0.        , 0.        , 0.        ,\n",
       "       0.        , 0.        , 0.        , 0.4745098 , 0.99607843,\n",
       "       0.8117647 , 0.07058824, 0.        , 0.        , 0.        ,\n",
       "       0.        , 0.        , 0.        , 0.        , 0.        ,\n",
       "       0.        , 0.        , 0.        , 0.        , 0.        ,\n",
       "       0.        , 0.        , 0.        , 0.        , 0.        ,\n",
       "       0.        , 0.        , 0.        , 0.        , 0.        ,\n",
       "       0.        , 0.        , 0.        , 0.        , 0.        ,\n",
       "       0.        , 0.        , 0.        , 0.        , 0.        ,\n",
       "       0.        , 0.        , 0.        , 0.        , 0.        ,\n",
       "       0.        , 0.        , 0.        , 0.        ], dtype=float32)"
      ]
     },
     "execution_count": 14,
     "metadata": {},
     "output_type": "execute_result"
    }
   ],
   "source": [
    "X_valid[0]"
   ]
  },
  {
   "cell_type": "code",
   "execution_count": 15,
   "metadata": {
    "ExecuteTime": {
     "end_time": "2023-04-03T10:41:09.110598Z",
     "start_time": "2023-04-03T10:41:08.005892Z"
    },
    "collapsed": false
   },
   "outputs": [],
   "source": [
    "n_classes = 10\n",
    "y_train = to_categorical(y_train, n_classes)\n",
    "y_valid = to_categorical(y_valid, n_classes)"
   ]
  },
  {
   "cell_type": "code",
   "execution_count": 16,
   "metadata": {
    "ExecuteTime": {
     "end_time": "2023-04-03T10:41:09.616758Z",
     "start_time": "2023-04-03T10:41:09.111544Z"
    },
    "collapsed": false
   },
   "outputs": [
    {
     "data": {
      "text/plain": [
       "array([0., 0., 0., 0., 0., 0., 0., 1., 0., 0.], dtype=float32)"
      ]
     },
     "execution_count": 16,
     "metadata": {},
     "output_type": "execute_result"
    }
   ],
   "source": [
    "y_valid[0]"
   ]
  },
  {
   "cell_type": "markdown",
   "metadata": {
    "collapsed": false
   },
   "source": [
    "#### Design NN arch"
   ]
  },
  {
   "cell_type": "code",
   "execution_count": 17,
   "metadata": {
    "ExecuteTime": {
     "end_time": "2023-04-03T10:41:14.590139Z",
     "start_time": "2023-04-03T10:41:09.610182Z"
    },
    "collapsed": false
   },
   "outputs": [
    {
     "name": "stderr",
     "output_type": "stream",
     "text": [
      "2023-04-03 10:41:11.030484: W tensorflow/compiler/xla/stream_executor/platform/default/dso_loader.cc:64] Could not load dynamic library 'libcuda.so.1'; dlerror: libcuda.so.1: cannot open shared object file: No such file or directory\n",
      "2023-04-03 10:41:11.062377: W tensorflow/compiler/xla/stream_executor/cuda/cuda_driver.cc:265] failed call to cuInit: UNKNOWN ERROR (303)\n",
      "2023-04-03 10:41:11.063653: I tensorflow/compiler/xla/stream_executor/cuda/cuda_diagnostics.cc:156] kernel driver does not appear to be running on this host (office-wsl): /proc/driver/nvidia/version does not exist\n",
      "2023-04-03 10:41:11.186812: I tensorflow/core/platform/cpu_feature_guard.cc:193] This TensorFlow binary is optimized with oneAPI Deep Neural Network Library (oneDNN) to use the following CPU instructions in performance-critical operations:  AVX2 AVX_VNNI FMA\n",
      "To enable them in other operations, rebuild TensorFlow with the appropriate compiler flags.\n"
     ]
    }
   ],
   "source": [
    "model = Sequential()\n",
    "\n",
    "# hidden layer:\n",
    "model.add(Dense(64, activation='sigmoid', input_shape=(784,)))\n",
    "\n",
    "# output layer:\n",
    "model.add(Dense(10, activation='softmax'))"
   ]
  },
  {
   "cell_type": "code",
   "execution_count": 18,
   "metadata": {
    "ExecuteTime": {
     "end_time": "2023-04-03T10:41:14.718613Z",
     "start_time": "2023-04-03T10:41:14.590139Z"
    },
    "collapsed": false
   },
   "outputs": [
    {
     "name": "stdout",
     "output_type": "stream",
     "text": [
      "Model: \"sequential\"\n",
      "_________________________________________________________________\n",
      " Layer (type)                Output Shape              Param #   \n",
      "=================================================================\n",
      " dense (Dense)               (None, 64)                50240     \n",
      "                                                                 \n",
      " dense_1 (Dense)             (None, 10)                650       \n",
      "                                                                 \n",
      "=================================================================\n",
      "Total params: 50,890\n",
      "Trainable params: 50,890\n",
      "Non-trainable params: 0\n",
      "_________________________________________________________________\n"
     ]
    }
   ],
   "source": [
    "model.summary()"
   ]
  },
  {
   "cell_type": "markdown",
   "metadata": {
    "collapsed": false
   },
   "source": [
    "#### Compile model"
   ]
  },
  {
   "cell_type": "code",
   "execution_count": 19,
   "metadata": {
    "ExecuteTime": {
     "end_time": "2023-04-03T10:41:14.948228Z",
     "start_time": "2023-04-03T10:41:14.642275Z"
    },
    "collapsed": false
   },
   "outputs": [
    {
     "name": "stderr",
     "output_type": "stream",
     "text": [
      "/home/longqinsi/anaconda3/lib/python3.10/site-packages/keras/optimizers/optimizer_v2/gradient_descent.py:114: UserWarning: The `lr` argument is deprecated, use `learning_rate` instead.\n",
      "  super().__init__(name, **kwargs)\n"
     ]
    }
   ],
   "source": [
    "model.compile(loss='mean_squared_error', optimizer=SGD(lr=0.01), metrics=['accuracy']) # SGD: stochastic gradient descent,随机梯度下降法"
   ]
  },
  {
   "cell_type": "markdown",
   "metadata": {
    "collapsed": false
   },
   "source": [
    "#### Train!"
   ]
  },
  {
   "cell_type": "code",
   "execution_count": 20,
   "metadata": {
    "ExecuteTime": {
     "end_time": "2023-04-03T10:45:10.033178Z",
     "start_time": "2023-04-03T10:41:14.942226Z"
    },
    "collapsed": false
   },
   "outputs": [
    {
     "name": "stdout",
     "output_type": "stream",
     "text": [
      "Epoch 1/200\n",
      "469/469 [==============================] - 3s 3ms/step - loss: 0.0914 - accuracy: 0.0874 - val_loss: 0.0910 - val_accuracy: 0.0942\n",
      "Epoch 2/200\n",
      "469/469 [==============================] - 1s 2ms/step - loss: 0.0907 - accuracy: 0.0940 - val_loss: 0.0904 - val_accuracy: 0.1026\n",
      "Epoch 3/200\n",
      "469/469 [==============================] - 1s 2ms/step - loss: 0.0901 - accuracy: 0.1036 - val_loss: 0.0899 - val_accuracy: 0.1154\n",
      "Epoch 4/200\n",
      "469/469 [==============================] - 1s 2ms/step - loss: 0.0897 - accuracy: 0.1191 - val_loss: 0.0895 - val_accuracy: 0.1357\n",
      "Epoch 5/200\n",
      "469/469 [==============================] - 1s 2ms/step - loss: 0.0893 - accuracy: 0.1517 - val_loss: 0.0892 - val_accuracy: 0.1876\n",
      "Epoch 6/200\n",
      "469/469 [==============================] - 1s 2ms/step - loss: 0.0890 - accuracy: 0.2072 - val_loss: 0.0888 - val_accuracy: 0.2425\n",
      "Epoch 7/200\n",
      "469/469 [==============================] - 1s 2ms/step - loss: 0.0887 - accuracy: 0.2596 - val_loss: 0.0885 - val_accuracy: 0.2875\n",
      "Epoch 8/200\n",
      "469/469 [==============================] - 1s 3ms/step - loss: 0.0884 - accuracy: 0.2993 - val_loss: 0.0882 - val_accuracy: 0.3184\n",
      "Epoch 9/200\n",
      "469/469 [==============================] - 1s 3ms/step - loss: 0.0881 - accuracy: 0.3277 - val_loss: 0.0879 - val_accuracy: 0.3424\n",
      "Epoch 10/200\n",
      "469/469 [==============================] - 1s 3ms/step - loss: 0.0878 - accuracy: 0.3494 - val_loss: 0.0876 - val_accuracy: 0.3571\n",
      "Epoch 11/200\n",
      "469/469 [==============================] - 1s 2ms/step - loss: 0.0875 - accuracy: 0.3653 - val_loss: 0.0873 - val_accuracy: 0.3703\n",
      "Epoch 12/200\n",
      "469/469 [==============================] - 1s 2ms/step - loss: 0.0873 - accuracy: 0.3778 - val_loss: 0.0870 - val_accuracy: 0.3836\n",
      "Epoch 13/200\n",
      "469/469 [==============================] - 1s 2ms/step - loss: 0.0870 - accuracy: 0.3899 - val_loss: 0.0867 - val_accuracy: 0.3958\n",
      "Epoch 14/200\n",
      "469/469 [==============================] - 1s 2ms/step - loss: 0.0867 - accuracy: 0.4014 - val_loss: 0.0864 - val_accuracy: 0.4074\n",
      "Epoch 15/200\n",
      "469/469 [==============================] - 1s 2ms/step - loss: 0.0864 - accuracy: 0.4134 - val_loss: 0.0861 - val_accuracy: 0.4184\n",
      "Epoch 16/200\n",
      "469/469 [==============================] - 1s 2ms/step - loss: 0.0861 - accuracy: 0.4223 - val_loss: 0.0858 - val_accuracy: 0.4261\n",
      "Epoch 17/200\n",
      "469/469 [==============================] - 1s 2ms/step - loss: 0.0858 - accuracy: 0.4299 - val_loss: 0.0855 - val_accuracy: 0.4334\n",
      "Epoch 18/200\n",
      "469/469 [==============================] - 1s 3ms/step - loss: 0.0854 - accuracy: 0.4362 - val_loss: 0.0852 - val_accuracy: 0.4393\n",
      "Epoch 19/200\n",
      "469/469 [==============================] - 1s 3ms/step - loss: 0.0851 - accuracy: 0.4424 - val_loss: 0.0849 - val_accuracy: 0.4449\n",
      "Epoch 20/200\n",
      "469/469 [==============================] - 1s 2ms/step - loss: 0.0848 - accuracy: 0.4472 - val_loss: 0.0845 - val_accuracy: 0.4492\n",
      "Epoch 21/200\n",
      "469/469 [==============================] - 1s 2ms/step - loss: 0.0845 - accuracy: 0.4509 - val_loss: 0.0842 - val_accuracy: 0.4530\n",
      "Epoch 22/200\n",
      "469/469 [==============================] - 1s 2ms/step - loss: 0.0841 - accuracy: 0.4553 - val_loss: 0.0838 - val_accuracy: 0.4548\n",
      "Epoch 23/200\n",
      "469/469 [==============================] - 1s 2ms/step - loss: 0.0838 - accuracy: 0.4588 - val_loss: 0.0834 - val_accuracy: 0.4571\n",
      "Epoch 24/200\n",
      "469/469 [==============================] - 1s 2ms/step - loss: 0.0834 - accuracy: 0.4619 - val_loss: 0.0831 - val_accuracy: 0.4601\n",
      "Epoch 25/200\n",
      "469/469 [==============================] - 1s 2ms/step - loss: 0.0830 - accuracy: 0.4654 - val_loss: 0.0827 - val_accuracy: 0.4626\n",
      "Epoch 26/200\n",
      "469/469 [==============================] - 1s 2ms/step - loss: 0.0827 - accuracy: 0.4676 - val_loss: 0.0823 - val_accuracy: 0.4655\n",
      "Epoch 27/200\n",
      "469/469 [==============================] - 1s 3ms/step - loss: 0.0823 - accuracy: 0.4698 - val_loss: 0.0819 - val_accuracy: 0.4682\n",
      "Epoch 28/200\n",
      "469/469 [==============================] - 1s 3ms/step - loss: 0.0819 - accuracy: 0.4734 - val_loss: 0.0815 - val_accuracy: 0.4703\n",
      "Epoch 29/200\n",
      "469/469 [==============================] - 1s 2ms/step - loss: 0.0815 - accuracy: 0.4750 - val_loss: 0.0811 - val_accuracy: 0.4727\n",
      "Epoch 30/200\n",
      "469/469 [==============================] - 1s 2ms/step - loss: 0.0810 - accuracy: 0.4765 - val_loss: 0.0806 - val_accuracy: 0.4758\n",
      "Epoch 31/200\n",
      "469/469 [==============================] - 1s 2ms/step - loss: 0.0806 - accuracy: 0.4809 - val_loss: 0.0802 - val_accuracy: 0.4777\n",
      "Epoch 32/200\n",
      "469/469 [==============================] - 1s 2ms/step - loss: 0.0802 - accuracy: 0.4823 - val_loss: 0.0797 - val_accuracy: 0.4806\n",
      "Epoch 33/200\n",
      "469/469 [==============================] - 1s 2ms/step - loss: 0.0797 - accuracy: 0.4853 - val_loss: 0.0793 - val_accuracy: 0.4836\n",
      "Epoch 34/200\n",
      "469/469 [==============================] - 1s 3ms/step - loss: 0.0793 - accuracy: 0.4879 - val_loss: 0.0788 - val_accuracy: 0.4858\n",
      "Epoch 35/200\n",
      "469/469 [==============================] - 1s 3ms/step - loss: 0.0788 - accuracy: 0.4912 - val_loss: 0.0783 - val_accuracy: 0.4889\n",
      "Epoch 36/200\n",
      "469/469 [==============================] - 2s 3ms/step - loss: 0.0783 - accuracy: 0.4934 - val_loss: 0.0778 - val_accuracy: 0.4921\n",
      "Epoch 37/200\n",
      "469/469 [==============================] - 1s 3ms/step - loss: 0.0779 - accuracy: 0.4964 - val_loss: 0.0774 - val_accuracy: 0.4970\n",
      "Epoch 38/200\n",
      "469/469 [==============================] - 1s 2ms/step - loss: 0.0774 - accuracy: 0.4992 - val_loss: 0.0768 - val_accuracy: 0.5001\n",
      "Epoch 39/200\n",
      "469/469 [==============================] - 1s 2ms/step - loss: 0.0769 - accuracy: 0.5039 - val_loss: 0.0763 - val_accuracy: 0.5042\n",
      "Epoch 40/200\n",
      "469/469 [==============================] - 1s 2ms/step - loss: 0.0764 - accuracy: 0.5067 - val_loss: 0.0758 - val_accuracy: 0.5086\n",
      "Epoch 41/200\n",
      "469/469 [==============================] - 1s 2ms/step - loss: 0.0759 - accuracy: 0.5119 - val_loss: 0.0753 - val_accuracy: 0.5131\n",
      "Epoch 42/200\n",
      "469/469 [==============================] - 1s 3ms/step - loss: 0.0753 - accuracy: 0.5161 - val_loss: 0.0748 - val_accuracy: 0.5180\n",
      "Epoch 43/200\n",
      "469/469 [==============================] - 2s 3ms/step - loss: 0.0748 - accuracy: 0.5205 - val_loss: 0.0742 - val_accuracy: 0.5234\n",
      "Epoch 44/200\n",
      "469/469 [==============================] - 2s 4ms/step - loss: 0.0743 - accuracy: 0.5247 - val_loss: 0.0737 - val_accuracy: 0.5279\n",
      "Epoch 45/200\n",
      "469/469 [==============================] - 1s 3ms/step - loss: 0.0737 - accuracy: 0.5298 - val_loss: 0.0731 - val_accuracy: 0.5335\n",
      "Epoch 46/200\n",
      "469/469 [==============================] - 1s 2ms/step - loss: 0.0732 - accuracy: 0.5350 - val_loss: 0.0726 - val_accuracy: 0.5378\n",
      "Epoch 47/200\n",
      "469/469 [==============================] - 1s 2ms/step - loss: 0.0727 - accuracy: 0.5401 - val_loss: 0.0720 - val_accuracy: 0.5440\n",
      "Epoch 48/200\n",
      "469/469 [==============================] - 1s 2ms/step - loss: 0.0721 - accuracy: 0.5464 - val_loss: 0.0715 - val_accuracy: 0.5512\n",
      "Epoch 49/200\n",
      "469/469 [==============================] - 1s 2ms/step - loss: 0.0716 - accuracy: 0.5519 - val_loss: 0.0709 - val_accuracy: 0.5580\n",
      "Epoch 50/200\n",
      "469/469 [==============================] - 1s 2ms/step - loss: 0.0710 - accuracy: 0.5564 - val_loss: 0.0704 - val_accuracy: 0.5648\n",
      "Epoch 51/200\n",
      "469/469 [==============================] - 1s 3ms/step - loss: 0.0705 - accuracy: 0.5629 - val_loss: 0.0698 - val_accuracy: 0.5711\n",
      "Epoch 52/200\n",
      "469/469 [==============================] - 1s 3ms/step - loss: 0.0699 - accuracy: 0.5688 - val_loss: 0.0692 - val_accuracy: 0.5775\n",
      "Epoch 53/200\n",
      "469/469 [==============================] - 1s 3ms/step - loss: 0.0694 - accuracy: 0.5754 - val_loss: 0.0687 - val_accuracy: 0.5848\n",
      "Epoch 54/200\n",
      "469/469 [==============================] - 1s 2ms/step - loss: 0.0688 - accuracy: 0.5812 - val_loss: 0.0681 - val_accuracy: 0.5910\n",
      "Epoch 55/200\n",
      "469/469 [==============================] - 1s 2ms/step - loss: 0.0683 - accuracy: 0.5870 - val_loss: 0.0676 - val_accuracy: 0.5964\n",
      "Epoch 56/200\n",
      "469/469 [==============================] - 1s 2ms/step - loss: 0.0677 - accuracy: 0.5922 - val_loss: 0.0670 - val_accuracy: 0.6032\n",
      "Epoch 57/200\n",
      "469/469 [==============================] - 1s 2ms/step - loss: 0.0672 - accuracy: 0.5995 - val_loss: 0.0664 - val_accuracy: 0.6092\n",
      "Epoch 58/200\n",
      "469/469 [==============================] - 1s 2ms/step - loss: 0.0666 - accuracy: 0.6058 - val_loss: 0.0659 - val_accuracy: 0.6156\n",
      "Epoch 59/200\n",
      "469/469 [==============================] - 1s 2ms/step - loss: 0.0661 - accuracy: 0.6111 - val_loss: 0.0653 - val_accuracy: 0.6210\n",
      "Epoch 60/200\n",
      "469/469 [==============================] - 1s 3ms/step - loss: 0.0655 - accuracy: 0.6159 - val_loss: 0.0648 - val_accuracy: 0.6269\n",
      "Epoch 61/200\n",
      "469/469 [==============================] - 1s 3ms/step - loss: 0.0650 - accuracy: 0.6223 - val_loss: 0.0642 - val_accuracy: 0.6325\n",
      "Epoch 62/200\n",
      "469/469 [==============================] - 1s 3ms/step - loss: 0.0645 - accuracy: 0.6278 - val_loss: 0.0637 - val_accuracy: 0.6383\n",
      "Epoch 63/200\n",
      "469/469 [==============================] - 1s 2ms/step - loss: 0.0639 - accuracy: 0.6328 - val_loss: 0.0632 - val_accuracy: 0.6421\n",
      "Epoch 64/200\n",
      "469/469 [==============================] - 1s 2ms/step - loss: 0.0634 - accuracy: 0.6381 - val_loss: 0.0626 - val_accuracy: 0.6474\n",
      "Epoch 65/200\n",
      "469/469 [==============================] - 1s 2ms/step - loss: 0.0629 - accuracy: 0.6424 - val_loss: 0.0621 - val_accuracy: 0.6518\n",
      "Epoch 66/200\n",
      "469/469 [==============================] - 1s 2ms/step - loss: 0.0624 - accuracy: 0.6469 - val_loss: 0.0616 - val_accuracy: 0.6575\n",
      "Epoch 67/200\n",
      "469/469 [==============================] - 1s 2ms/step - loss: 0.0619 - accuracy: 0.6516 - val_loss: 0.0611 - val_accuracy: 0.6614\n",
      "Epoch 68/200\n",
      "469/469 [==============================] - 1s 3ms/step - loss: 0.0613 - accuracy: 0.6562 - val_loss: 0.0605 - val_accuracy: 0.6669\n",
      "Epoch 69/200\n",
      "469/469 [==============================] - 1s 3ms/step - loss: 0.0608 - accuracy: 0.6598 - val_loss: 0.0600 - val_accuracy: 0.6710\n",
      "Epoch 70/200\n",
      "469/469 [==============================] - 1s 3ms/step - loss: 0.0603 - accuracy: 0.6638 - val_loss: 0.0595 - val_accuracy: 0.6740\n",
      "Epoch 71/200\n",
      "469/469 [==============================] - 1s 3ms/step - loss: 0.0598 - accuracy: 0.6681 - val_loss: 0.0590 - val_accuracy: 0.6780\n",
      "Epoch 72/200\n",
      "469/469 [==============================] - 1s 2ms/step - loss: 0.0594 - accuracy: 0.6723 - val_loss: 0.0585 - val_accuracy: 0.6813\n",
      "Epoch 73/200\n",
      "469/469 [==============================] - 1s 2ms/step - loss: 0.0589 - accuracy: 0.6756 - val_loss: 0.0580 - val_accuracy: 0.6846\n",
      "Epoch 74/200\n",
      "469/469 [==============================] - 1s 2ms/step - loss: 0.0584 - accuracy: 0.6788 - val_loss: 0.0576 - val_accuracy: 0.6872\n",
      "Epoch 75/200\n",
      "469/469 [==============================] - 1s 2ms/step - loss: 0.0579 - accuracy: 0.6823 - val_loss: 0.0571 - val_accuracy: 0.6905\n",
      "Epoch 76/200\n",
      "469/469 [==============================] - 1s 2ms/step - loss: 0.0575 - accuracy: 0.6855 - val_loss: 0.0566 - val_accuracy: 0.6934\n",
      "Epoch 77/200\n",
      "469/469 [==============================] - 1s 3ms/step - loss: 0.0570 - accuracy: 0.6895 - val_loss: 0.0561 - val_accuracy: 0.6972\n",
      "Epoch 78/200\n",
      "469/469 [==============================] - 1s 3ms/step - loss: 0.0565 - accuracy: 0.6922 - val_loss: 0.0557 - val_accuracy: 0.6997\n",
      "Epoch 79/200\n",
      "469/469 [==============================] - 1s 3ms/step - loss: 0.0561 - accuracy: 0.6959 - val_loss: 0.0552 - val_accuracy: 0.7029\n",
      "Epoch 80/200\n",
      "469/469 [==============================] - 1s 2ms/step - loss: 0.0556 - accuracy: 0.6988 - val_loss: 0.0548 - val_accuracy: 0.7069\n",
      "Epoch 81/200\n",
      "469/469 [==============================] - 1s 2ms/step - loss: 0.0552 - accuracy: 0.7022 - val_loss: 0.0543 - val_accuracy: 0.7101\n",
      "Epoch 82/200\n",
      "469/469 [==============================] - 1s 2ms/step - loss: 0.0548 - accuracy: 0.7040 - val_loss: 0.0539 - val_accuracy: 0.7133\n",
      "Epoch 83/200\n",
      "469/469 [==============================] - 1s 2ms/step - loss: 0.0543 - accuracy: 0.7073 - val_loss: 0.0535 - val_accuracy: 0.7165\n",
      "Epoch 84/200\n",
      "469/469 [==============================] - 1s 2ms/step - loss: 0.0539 - accuracy: 0.7105 - val_loss: 0.0530 - val_accuracy: 0.7193\n",
      "Epoch 85/200\n",
      "469/469 [==============================] - 1s 2ms/step - loss: 0.0535 - accuracy: 0.7129 - val_loss: 0.0526 - val_accuracy: 0.7223\n",
      "Epoch 86/200\n",
      "469/469 [==============================] - 1s 2ms/step - loss: 0.0531 - accuracy: 0.7150 - val_loss: 0.0522 - val_accuracy: 0.7258\n",
      "Epoch 87/200\n",
      "469/469 [==============================] - 1s 3ms/step - loss: 0.0527 - accuracy: 0.7180 - val_loss: 0.0518 - val_accuracy: 0.7284\n",
      "Epoch 88/200\n",
      "469/469 [==============================] - 1s 3ms/step - loss: 0.0523 - accuracy: 0.7211 - val_loss: 0.0514 - val_accuracy: 0.7305\n",
      "Epoch 89/200\n",
      "469/469 [==============================] - 1s 2ms/step - loss: 0.0519 - accuracy: 0.7237 - val_loss: 0.0510 - val_accuracy: 0.7344\n",
      "Epoch 90/200\n",
      "469/469 [==============================] - 1s 2ms/step - loss: 0.0515 - accuracy: 0.7263 - val_loss: 0.0506 - val_accuracy: 0.7365\n",
      "Epoch 91/200\n",
      "469/469 [==============================] - 1s 2ms/step - loss: 0.0511 - accuracy: 0.7284 - val_loss: 0.0502 - val_accuracy: 0.7395\n",
      "Epoch 92/200\n",
      "469/469 [==============================] - 1s 2ms/step - loss: 0.0508 - accuracy: 0.7309 - val_loss: 0.0499 - val_accuracy: 0.7419\n",
      "Epoch 93/200\n",
      "469/469 [==============================] - 1s 2ms/step - loss: 0.0504 - accuracy: 0.7328 - val_loss: 0.0495 - val_accuracy: 0.7448\n",
      "Epoch 94/200\n",
      "469/469 [==============================] - 1s 2ms/step - loss: 0.0500 - accuracy: 0.7351 - val_loss: 0.0491 - val_accuracy: 0.7482\n",
      "Epoch 95/200\n",
      "469/469 [==============================] - 1s 3ms/step - loss: 0.0497 - accuracy: 0.7369 - val_loss: 0.0488 - val_accuracy: 0.7502\n",
      "Epoch 96/200\n",
      "469/469 [==============================] - 1s 3ms/step - loss: 0.0493 - accuracy: 0.7395 - val_loss: 0.0484 - val_accuracy: 0.7532\n",
      "Epoch 97/200\n",
      "469/469 [==============================] - 1s 3ms/step - loss: 0.0490 - accuracy: 0.7422 - val_loss: 0.0481 - val_accuracy: 0.7551\n",
      "Epoch 98/200\n",
      "469/469 [==============================] - 1s 2ms/step - loss: 0.0486 - accuracy: 0.7439 - val_loss: 0.0477 - val_accuracy: 0.7569\n",
      "Epoch 99/200\n",
      "469/469 [==============================] - 1s 2ms/step - loss: 0.0483 - accuracy: 0.7457 - val_loss: 0.0474 - val_accuracy: 0.7589\n",
      "Epoch 100/200\n",
      "469/469 [==============================] - 1s 2ms/step - loss: 0.0480 - accuracy: 0.7477 - val_loss: 0.0470 - val_accuracy: 0.7610\n",
      "Epoch 101/200\n",
      "469/469 [==============================] - 1s 2ms/step - loss: 0.0476 - accuracy: 0.7491 - val_loss: 0.0467 - val_accuracy: 0.7626\n",
      "Epoch 102/200\n",
      "469/469 [==============================] - 1s 2ms/step - loss: 0.0473 - accuracy: 0.7505 - val_loss: 0.0464 - val_accuracy: 0.7642\n",
      "Epoch 103/200\n",
      "469/469 [==============================] - 1s 2ms/step - loss: 0.0470 - accuracy: 0.7522 - val_loss: 0.0461 - val_accuracy: 0.7656\n",
      "Epoch 104/200\n",
      "469/469 [==============================] - 1s 3ms/step - loss: 0.0467 - accuracy: 0.7540 - val_loss: 0.0457 - val_accuracy: 0.7678\n",
      "Epoch 105/200\n",
      "469/469 [==============================] - 1s 3ms/step - loss: 0.0464 - accuracy: 0.7557 - val_loss: 0.0454 - val_accuracy: 0.7690\n",
      "Epoch 106/200\n",
      "469/469 [==============================] - 1s 3ms/step - loss: 0.0461 - accuracy: 0.7574 - val_loss: 0.0451 - val_accuracy: 0.7702\n",
      "Epoch 107/200\n",
      "469/469 [==============================] - 1s 2ms/step - loss: 0.0458 - accuracy: 0.7584 - val_loss: 0.0448 - val_accuracy: 0.7707\n",
      "Epoch 108/200\n",
      "469/469 [==============================] - 1s 2ms/step - loss: 0.0455 - accuracy: 0.7597 - val_loss: 0.0445 - val_accuracy: 0.7717\n",
      "Epoch 109/200\n",
      "469/469 [==============================] - 1s 2ms/step - loss: 0.0452 - accuracy: 0.7611 - val_loss: 0.0442 - val_accuracy: 0.7736\n",
      "Epoch 110/200\n",
      "469/469 [==============================] - 1s 2ms/step - loss: 0.0449 - accuracy: 0.7622 - val_loss: 0.0439 - val_accuracy: 0.7749\n",
      "Epoch 111/200\n",
      "469/469 [==============================] - 1s 2ms/step - loss: 0.0446 - accuracy: 0.7636 - val_loss: 0.0437 - val_accuracy: 0.7758\n",
      "Epoch 112/200\n",
      "469/469 [==============================] - 1s 2ms/step - loss: 0.0443 - accuracy: 0.7646 - val_loss: 0.0434 - val_accuracy: 0.7770\n",
      "Epoch 113/200\n",
      "469/469 [==============================] - 1s 3ms/step - loss: 0.0440 - accuracy: 0.7658 - val_loss: 0.0431 - val_accuracy: 0.7783\n",
      "Epoch 114/200\n",
      "469/469 [==============================] - 1s 3ms/step - loss: 0.0438 - accuracy: 0.7668 - val_loss: 0.0428 - val_accuracy: 0.7793\n",
      "Epoch 115/200\n",
      "469/469 [==============================] - 1s 3ms/step - loss: 0.0435 - accuracy: 0.7681 - val_loss: 0.0426 - val_accuracy: 0.7801\n",
      "Epoch 116/200\n",
      "469/469 [==============================] - 1s 2ms/step - loss: 0.0432 - accuracy: 0.7689 - val_loss: 0.0423 - val_accuracy: 0.7814\n",
      "Epoch 117/200\n",
      "469/469 [==============================] - 1s 2ms/step - loss: 0.0430 - accuracy: 0.7700 - val_loss: 0.0420 - val_accuracy: 0.7831\n",
      "Epoch 118/200\n",
      "469/469 [==============================] - 1s 2ms/step - loss: 0.0427 - accuracy: 0.7712 - val_loss: 0.0418 - val_accuracy: 0.7835\n",
      "Epoch 119/200\n",
      "469/469 [==============================] - 1s 2ms/step - loss: 0.0425 - accuracy: 0.7722 - val_loss: 0.0415 - val_accuracy: 0.7845\n",
      "Epoch 120/200\n",
      "469/469 [==============================] - 1s 2ms/step - loss: 0.0422 - accuracy: 0.7729 - val_loss: 0.0413 - val_accuracy: 0.7854\n",
      "Epoch 121/200\n",
      "469/469 [==============================] - 1s 3ms/step - loss: 0.0420 - accuracy: 0.7739 - val_loss: 0.0410 - val_accuracy: 0.7860\n",
      "Epoch 122/200\n",
      "469/469 [==============================] - 1s 3ms/step - loss: 0.0417 - accuracy: 0.7750 - val_loss: 0.0408 - val_accuracy: 0.7869\n",
      "Epoch 123/200\n",
      "469/469 [==============================] - 1s 3ms/step - loss: 0.0415 - accuracy: 0.7758 - val_loss: 0.0405 - val_accuracy: 0.7872\n",
      "Epoch 124/200\n",
      "469/469 [==============================] - 1s 2ms/step - loss: 0.0412 - accuracy: 0.7766 - val_loss: 0.0403 - val_accuracy: 0.7876\n",
      "Epoch 125/200\n",
      "469/469 [==============================] - 1s 2ms/step - loss: 0.0410 - accuracy: 0.7771 - val_loss: 0.0400 - val_accuracy: 0.7885\n",
      "Epoch 126/200\n",
      "469/469 [==============================] - 1s 2ms/step - loss: 0.0408 - accuracy: 0.7778 - val_loss: 0.0398 - val_accuracy: 0.7888\n",
      "Epoch 127/200\n",
      "469/469 [==============================] - 1s 2ms/step - loss: 0.0405 - accuracy: 0.7786 - val_loss: 0.0396 - val_accuracy: 0.7900\n",
      "Epoch 128/200\n",
      "469/469 [==============================] - 1s 2ms/step - loss: 0.0403 - accuracy: 0.7795 - val_loss: 0.0393 - val_accuracy: 0.7906\n",
      "Epoch 129/200\n",
      "469/469 [==============================] - 1s 2ms/step - loss: 0.0401 - accuracy: 0.7801 - val_loss: 0.0391 - val_accuracy: 0.7910\n",
      "Epoch 130/200\n",
      "469/469 [==============================] - 1s 3ms/step - loss: 0.0399 - accuracy: 0.7808 - val_loss: 0.0389 - val_accuracy: 0.7914\n",
      "Epoch 131/200\n",
      "469/469 [==============================] - 1s 3ms/step - loss: 0.0396 - accuracy: 0.7816 - val_loss: 0.0387 - val_accuracy: 0.7918\n",
      "Epoch 132/200\n",
      "469/469 [==============================] - 1s 3ms/step - loss: 0.0394 - accuracy: 0.7822 - val_loss: 0.0385 - val_accuracy: 0.7925\n",
      "Epoch 133/200\n",
      "469/469 [==============================] - 1s 2ms/step - loss: 0.0392 - accuracy: 0.7828 - val_loss: 0.0382 - val_accuracy: 0.7933\n",
      "Epoch 134/200\n",
      "469/469 [==============================] - 1s 2ms/step - loss: 0.0390 - accuracy: 0.7840 - val_loss: 0.0380 - val_accuracy: 0.7949\n",
      "Epoch 135/200\n",
      "469/469 [==============================] - 1s 2ms/step - loss: 0.0388 - accuracy: 0.7846 - val_loss: 0.0378 - val_accuracy: 0.7957\n",
      "Epoch 136/200\n",
      "469/469 [==============================] - 1s 2ms/step - loss: 0.0386 - accuracy: 0.7854 - val_loss: 0.0376 - val_accuracy: 0.7967\n",
      "Epoch 137/200\n",
      "469/469 [==============================] - 1s 2ms/step - loss: 0.0384 - accuracy: 0.7864 - val_loss: 0.0374 - val_accuracy: 0.7983\n",
      "Epoch 138/200\n",
      "469/469 [==============================] - 1s 2ms/step - loss: 0.0382 - accuracy: 0.7875 - val_loss: 0.0372 - val_accuracy: 0.7991\n",
      "Epoch 139/200\n",
      "469/469 [==============================] - 1s 3ms/step - loss: 0.0380 - accuracy: 0.7883 - val_loss: 0.0370 - val_accuracy: 0.7999\n",
      "Epoch 140/200\n",
      "469/469 [==============================] - 1s 3ms/step - loss: 0.0378 - accuracy: 0.7897 - val_loss: 0.0368 - val_accuracy: 0.8005\n",
      "Epoch 141/200\n",
      "469/469 [==============================] - 1s 3ms/step - loss: 0.0376 - accuracy: 0.7912 - val_loss: 0.0366 - val_accuracy: 0.8015\n",
      "Epoch 142/200\n",
      "469/469 [==============================] - 1s 2ms/step - loss: 0.0374 - accuracy: 0.7924 - val_loss: 0.0364 - val_accuracy: 0.8022\n",
      "Epoch 143/200\n",
      "469/469 [==============================] - 1s 2ms/step - loss: 0.0372 - accuracy: 0.7939 - val_loss: 0.0362 - val_accuracy: 0.8033\n",
      "Epoch 144/200\n",
      "469/469 [==============================] - 1s 2ms/step - loss: 0.0370 - accuracy: 0.7951 - val_loss: 0.0360 - val_accuracy: 0.8038\n",
      "Epoch 145/200\n",
      "469/469 [==============================] - 1s 2ms/step - loss: 0.0368 - accuracy: 0.7967 - val_loss: 0.0358 - val_accuracy: 0.8048\n",
      "Epoch 146/200\n",
      "469/469 [==============================] - 1s 2ms/step - loss: 0.0366 - accuracy: 0.7979 - val_loss: 0.0356 - val_accuracy: 0.8068\n",
      "Epoch 147/200\n",
      "469/469 [==============================] - 1s 2ms/step - loss: 0.0364 - accuracy: 0.7993 - val_loss: 0.0355 - val_accuracy: 0.8087\n",
      "Epoch 148/200\n",
      "469/469 [==============================] - 1s 3ms/step - loss: 0.0362 - accuracy: 0.8005 - val_loss: 0.0353 - val_accuracy: 0.8099\n",
      "Epoch 149/200\n",
      "469/469 [==============================] - 1s 3ms/step - loss: 0.0361 - accuracy: 0.8019 - val_loss: 0.0351 - val_accuracy: 0.8118\n",
      "Epoch 150/200\n",
      "469/469 [==============================] - 2s 3ms/step - loss: 0.0359 - accuracy: 0.8032 - val_loss: 0.0349 - val_accuracy: 0.8125\n",
      "Epoch 151/200\n",
      "469/469 [==============================] - 1s 3ms/step - loss: 0.0357 - accuracy: 0.8049 - val_loss: 0.0347 - val_accuracy: 0.8138\n",
      "Epoch 152/200\n",
      "469/469 [==============================] - 1s 2ms/step - loss: 0.0355 - accuracy: 0.8065 - val_loss: 0.0345 - val_accuracy: 0.8153\n",
      "Epoch 153/200\n",
      "469/469 [==============================] - 1s 2ms/step - loss: 0.0354 - accuracy: 0.8083 - val_loss: 0.0344 - val_accuracy: 0.8169\n",
      "Epoch 154/200\n",
      "469/469 [==============================] - 1s 2ms/step - loss: 0.0352 - accuracy: 0.8097 - val_loss: 0.0342 - val_accuracy: 0.8188\n",
      "Epoch 155/200\n",
      "469/469 [==============================] - 1s 2ms/step - loss: 0.0350 - accuracy: 0.8111 - val_loss: 0.0340 - val_accuracy: 0.8203\n",
      "Epoch 156/200\n",
      "469/469 [==============================] - 1s 2ms/step - loss: 0.0348 - accuracy: 0.8122 - val_loss: 0.0339 - val_accuracy: 0.8216\n",
      "Epoch 157/200\n",
      "469/469 [==============================] - 1s 3ms/step - loss: 0.0347 - accuracy: 0.8132 - val_loss: 0.0337 - val_accuracy: 0.8235\n",
      "Epoch 158/200\n",
      "469/469 [==============================] - 2s 3ms/step - loss: 0.0345 - accuracy: 0.8145 - val_loss: 0.0335 - val_accuracy: 0.8250\n",
      "Epoch 159/200\n",
      "469/469 [==============================] - 1s 3ms/step - loss: 0.0344 - accuracy: 0.8159 - val_loss: 0.0334 - val_accuracy: 0.8260\n",
      "Epoch 160/200\n",
      "469/469 [==============================] - 1s 2ms/step - loss: 0.0342 - accuracy: 0.8170 - val_loss: 0.0332 - val_accuracy: 0.8279\n",
      "Epoch 161/200\n",
      "469/469 [==============================] - 1s 2ms/step - loss: 0.0340 - accuracy: 0.8185 - val_loss: 0.0330 - val_accuracy: 0.8289\n",
      "Epoch 162/200\n",
      "469/469 [==============================] - 1s 2ms/step - loss: 0.0339 - accuracy: 0.8197 - val_loss: 0.0329 - val_accuracy: 0.8300\n",
      "Epoch 163/200\n",
      "469/469 [==============================] - 1s 2ms/step - loss: 0.0337 - accuracy: 0.8213 - val_loss: 0.0327 - val_accuracy: 0.8314\n",
      "Epoch 164/200\n",
      "469/469 [==============================] - 1s 2ms/step - loss: 0.0336 - accuracy: 0.8226 - val_loss: 0.0326 - val_accuracy: 0.8326\n",
      "Epoch 165/200\n",
      "469/469 [==============================] - 1s 3ms/step - loss: 0.0334 - accuracy: 0.8237 - val_loss: 0.0324 - val_accuracy: 0.8339\n",
      "Epoch 166/200\n",
      "469/469 [==============================] - 1s 3ms/step - loss: 0.0333 - accuracy: 0.8247 - val_loss: 0.0323 - val_accuracy: 0.8353\n",
      "Epoch 167/200\n",
      "469/469 [==============================] - 1s 3ms/step - loss: 0.0331 - accuracy: 0.8261 - val_loss: 0.0321 - val_accuracy: 0.8360\n",
      "Epoch 168/200\n",
      "469/469 [==============================] - 1s 2ms/step - loss: 0.0329 - accuracy: 0.8275 - val_loss: 0.0320 - val_accuracy: 0.8372\n",
      "Epoch 169/200\n",
      "469/469 [==============================] - 1s 2ms/step - loss: 0.0328 - accuracy: 0.8287 - val_loss: 0.0318 - val_accuracy: 0.8384\n",
      "Epoch 170/200\n",
      "469/469 [==============================] - 1s 3ms/step - loss: 0.0327 - accuracy: 0.8297 - val_loss: 0.0317 - val_accuracy: 0.8398\n",
      "Epoch 171/200\n",
      "469/469 [==============================] - 1s 2ms/step - loss: 0.0325 - accuracy: 0.8308 - val_loss: 0.0315 - val_accuracy: 0.8415\n",
      "Epoch 172/200\n",
      "469/469 [==============================] - 1s 3ms/step - loss: 0.0324 - accuracy: 0.8316 - val_loss: 0.0314 - val_accuracy: 0.8426\n",
      "Epoch 173/200\n",
      "469/469 [==============================] - 2s 4ms/step - loss: 0.0322 - accuracy: 0.8329 - val_loss: 0.0312 - val_accuracy: 0.8435\n",
      "Epoch 174/200\n",
      "469/469 [==============================] - 2s 4ms/step - loss: 0.0321 - accuracy: 0.8335 - val_loss: 0.0311 - val_accuracy: 0.8444\n",
      "Epoch 175/200\n",
      "469/469 [==============================] - 2s 4ms/step - loss: 0.0319 - accuracy: 0.8345 - val_loss: 0.0309 - val_accuracy: 0.8446\n",
      "Epoch 176/200\n",
      "469/469 [==============================] - 1s 3ms/step - loss: 0.0318 - accuracy: 0.8353 - val_loss: 0.0308 - val_accuracy: 0.8453\n",
      "Epoch 177/200\n",
      "469/469 [==============================] - 2s 5ms/step - loss: 0.0317 - accuracy: 0.8361 - val_loss: 0.0307 - val_accuracy: 0.8459\n",
      "Epoch 178/200\n",
      "469/469 [==============================] - 1s 2ms/step - loss: 0.0315 - accuracy: 0.8370 - val_loss: 0.0305 - val_accuracy: 0.8465\n",
      "Epoch 179/200\n",
      "469/469 [==============================] - 1s 3ms/step - loss: 0.0314 - accuracy: 0.8378 - val_loss: 0.0304 - val_accuracy: 0.8471\n",
      "Epoch 180/200\n",
      "469/469 [==============================] - 2s 4ms/step - loss: 0.0313 - accuracy: 0.8390 - val_loss: 0.0303 - val_accuracy: 0.8484\n",
      "Epoch 181/200\n",
      "469/469 [==============================] - 2s 3ms/step - loss: 0.0311 - accuracy: 0.8397 - val_loss: 0.0301 - val_accuracy: 0.8494\n",
      "Epoch 182/200\n",
      "469/469 [==============================] - 1s 3ms/step - loss: 0.0310 - accuracy: 0.8407 - val_loss: 0.0300 - val_accuracy: 0.8503\n",
      "Epoch 183/200\n",
      "469/469 [==============================] - 1s 3ms/step - loss: 0.0309 - accuracy: 0.8412 - val_loss: 0.0299 - val_accuracy: 0.8512\n",
      "Epoch 184/200\n",
      "469/469 [==============================] - 1s 3ms/step - loss: 0.0307 - accuracy: 0.8424 - val_loss: 0.0297 - val_accuracy: 0.8520\n",
      "Epoch 185/200\n",
      "469/469 [==============================] - 2s 4ms/step - loss: 0.0306 - accuracy: 0.8430 - val_loss: 0.0296 - val_accuracy: 0.8531\n",
      "Epoch 186/200\n",
      "469/469 [==============================] - 2s 5ms/step - loss: 0.0305 - accuracy: 0.8436 - val_loss: 0.0295 - val_accuracy: 0.8535\n",
      "Epoch 187/200\n",
      "469/469 [==============================] - 2s 4ms/step - loss: 0.0304 - accuracy: 0.8442 - val_loss: 0.0294 - val_accuracy: 0.8542\n",
      "Epoch 188/200\n",
      "469/469 [==============================] - 2s 3ms/step - loss: 0.0303 - accuracy: 0.8448 - val_loss: 0.0292 - val_accuracy: 0.8548\n",
      "Epoch 189/200\n",
      "469/469 [==============================] - 1s 3ms/step - loss: 0.0301 - accuracy: 0.8454 - val_loss: 0.0291 - val_accuracy: 0.8550\n",
      "Epoch 190/200\n",
      "469/469 [==============================] - 1s 2ms/step - loss: 0.0300 - accuracy: 0.8460 - val_loss: 0.0290 - val_accuracy: 0.8556\n",
      "Epoch 191/200\n",
      "469/469 [==============================] - 1s 2ms/step - loss: 0.0299 - accuracy: 0.8467 - val_loss: 0.0289 - val_accuracy: 0.8560\n",
      "Epoch 192/200\n",
      "469/469 [==============================] - 1s 2ms/step - loss: 0.0298 - accuracy: 0.8473 - val_loss: 0.0288 - val_accuracy: 0.8565\n",
      "Epoch 193/200\n",
      "469/469 [==============================] - 1s 3ms/step - loss: 0.0297 - accuracy: 0.8480 - val_loss: 0.0286 - val_accuracy: 0.8571\n",
      "Epoch 194/200\n",
      "469/469 [==============================] - 1s 3ms/step - loss: 0.0295 - accuracy: 0.8486 - val_loss: 0.0285 - val_accuracy: 0.8577\n",
      "Epoch 195/200\n",
      "469/469 [==============================] - 1s 3ms/step - loss: 0.0294 - accuracy: 0.8490 - val_loss: 0.0284 - val_accuracy: 0.8577\n",
      "Epoch 196/200\n",
      "469/469 [==============================] - 2s 3ms/step - loss: 0.0293 - accuracy: 0.8499 - val_loss: 0.0283 - val_accuracy: 0.8582\n",
      "Epoch 197/200\n",
      "469/469 [==============================] - 1s 3ms/step - loss: 0.0292 - accuracy: 0.8505 - val_loss: 0.0282 - val_accuracy: 0.8588\n",
      "Epoch 198/200\n",
      "469/469 [==============================] - 1s 3ms/step - loss: 0.0291 - accuracy: 0.8511 - val_loss: 0.0281 - val_accuracy: 0.8596\n",
      "Epoch 199/200\n",
      "469/469 [==============================] - 1s 2ms/step - loss: 0.0290 - accuracy: 0.8517 - val_loss: 0.0280 - val_accuracy: 0.8599\n",
      "Epoch 200/200\n",
      "469/469 [==============================] - 1s 3ms/step - loss: 0.0289 - accuracy: 0.8520 - val_loss: 0.0279 - val_accuracy: 0.8603\n"
     ]
    },
    {
     "data": {
      "text/plain": [
       "<keras.callbacks.History at 0x7fdf97299c60>"
      ]
     },
     "execution_count": 20,
     "metadata": {},
     "output_type": "execute_result"
    }
   ],
   "source": [
    "model.fit(X_train, y_train, batch_size=128, epochs=200, verbose=1, validation_data=(X_valid, y_valid))"
   ]
  },
  {
   "cell_type": "markdown",
   "metadata": {
    "collapsed": false
   },
   "source": [
    "#### Evaluating model performance"
   ]
  },
  {
   "cell_type": "code",
   "execution_count": 21,
   "metadata": {
    "ExecuteTime": {
     "end_time": "2023-04-03T10:45:10.796074Z",
     "start_time": "2023-04-03T10:45:09.911819Z"
    },
    "collapsed": false
   },
   "outputs": [
    {
     "name": "stdout",
     "output_type": "stream",
     "text": [
      "313/313 [==============================] - 1s 2ms/step - loss: 0.0279 - accuracy: 0.8603\n"
     ]
    },
    {
     "data": {
      "text/plain": [
       "[0.027858341112732887, 0.8603000044822693]"
      ]
     },
     "execution_count": 21,
     "metadata": {},
     "output_type": "execute_result"
    }
   ],
   "source": [
    "model.evaluate(X_valid, y_valid)"
   ]
  },
  {
   "cell_type": "code",
   "execution_count": 22,
   "metadata": {
    "ExecuteTime": {
     "end_time": "2023-04-03T10:45:10.799330Z",
     "start_time": "2023-04-03T10:45:10.733430Z"
    },
    "collapsed": false
   },
   "outputs": [],
   "source": [
    "valid0 = X_valid[0].reshape(1, 784)"
   ]
  },
  {
   "cell_type": "code",
   "execution_count": 23,
   "metadata": {
    "ExecuteTime": {
     "end_time": "2023-04-03T10:45:11.311327Z",
     "start_time": "2023-04-03T10:45:10.733430Z"
    },
    "collapsed": false
   },
   "outputs": [
    {
     "name": "stdout",
     "output_type": "stream",
     "text": [
      "1/1 [==============================] - 0s 124ms/step\n"
     ]
    }
   ],
   "source": [
    "predict_0 = model.predict(valid0)"
   ]
  },
  {
   "cell_type": "code",
   "execution_count": 24,
   "metadata": {
    "ExecuteTime": {
     "end_time": "2023-04-03T10:45:11.558171Z",
     "start_time": "2023-04-03T10:45:11.307083Z"
    },
    "collapsed": false
   },
   "outputs": [
    {
     "data": {
      "text/plain": [
       "array([7])"
      ]
     },
     "execution_count": 24,
     "metadata": {},
     "output_type": "execute_result"
    }
   ],
   "source": [
    "import numpy as np\n",
    "np.argmax(predict_0,axis=1)"
   ]
  },
  {
   "cell_type": "code",
   "execution_count": 24,
   "metadata": {
    "ExecuteTime": {
     "end_time": "2023-04-03T10:45:11.558171Z",
     "start_time": "2023-04-03T10:45:11.555561Z"
    },
    "collapsed": false
   },
   "outputs": [],
   "source": []
  }
 ],
 "metadata": {
  "kernelspec": {
   "display_name": "Python 3",
   "language": "python",
   "name": "python3"
  },
  "language_info": {
   "codemirror_mode": {
    "name": "ipython",
    "version": 2
   },
   "file_extension": ".py",
   "mimetype": "text/x-python",
   "name": "python",
   "nbconvert_exporter": "python",
   "pygments_lexer": "ipython2",
   "version": "2.7.6"
  }
 },
 "nbformat": 4,
 "nbformat_minor": 0
}
