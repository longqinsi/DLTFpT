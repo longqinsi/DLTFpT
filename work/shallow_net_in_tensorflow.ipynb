{
 "cells": [
  {
   "cell_type": "markdown",
   "metadata": {
    "collapsed": false
   },
   "source": [
    "# Shallow Neural Network in TensorFlow"
   ]
  },
  {
   "cell_type": "markdown",
   "metadata": {
    "collapsed": false
   },
   "source": [
    "Build a shallow neural network to classify handwritten digits"
   ]
  },
  {
   "cell_type": "markdown",
   "metadata": {
    "collapsed": false
   },
   "source": [
    "#### Load dependencies"
   ]
  },
  {
   "cell_type": "code",
   "execution_count": 1,
   "metadata": {
    "ExecuteTime": {
     "end_time": "2023-04-02T23:15:16.876791Z",
     "start_time": "2023-04-02T23:15:15.276031Z"
    },
    "collapsed": false
   },
   "outputs": [
    {
     "name": "stderr",
     "output_type": "stream",
     "text": [
      "2023-04-02 23:15:14.280268: I tensorflow/core/platform/cpu_feature_guard.cc:193] This TensorFlow binary is optimized with oneAPI Deep Neural Network Library (oneDNN) to use the following CPU instructions in performance-critical operations:  AVX2 FMA\n",
      "To enable them in other operations, rebuild TensorFlow with the appropriate compiler flags.\n",
      "2023-04-02 23:15:14.380300: W tensorflow/compiler/xla/stream_executor/platform/default/dso_loader.cc:64] Could not load dynamic library 'libcudart.so.11.0'; dlerror: libcudart.so.11.0: cannot open shared object file: No such file or directory\n",
      "2023-04-02 23:15:14.380319: I tensorflow/compiler/xla/stream_executor/cuda/cudart_stub.cc:29] Ignore above cudart dlerror if you do not have a GPU set up on your machine.\n",
      "2023-04-02 23:15:14.870238: W tensorflow/compiler/xla/stream_executor/platform/default/dso_loader.cc:64] Could not load dynamic library 'libnvinfer.so.7'; dlerror: libnvinfer.so.7: cannot open shared object file: No such file or directory\n",
      "2023-04-02 23:15:14.870311: W tensorflow/compiler/xla/stream_executor/platform/default/dso_loader.cc:64] Could not load dynamic library 'libnvinfer_plugin.so.7'; dlerror: libnvinfer_plugin.so.7: cannot open shared object file: No such file or directory\n",
      "2023-04-02 23:15:14.870318: W tensorflow/compiler/tf2tensorrt/utils/py_utils.cc:38] TF-TRT Warning: Cannot dlopen some TensorRT libraries. If you would like to use Nvidia GPU with TensorRT, please make sure the missing libraries mentioned above are installed properly.\n"
     ]
    }
   ],
   "source": [
    "import tensorflow\n",
    "from keras.datasets import mnist\n",
    "from keras.utils import to_categorical\n",
    "from keras.models import Sequential\n",
    "from keras.layers import Dense\n",
    "from keras.optimizers import SGD\n",
    "from matplotlib import pyplot as plt"
   ]
  },
  {
   "cell_type": "markdown",
   "metadata": {
    "collapsed": false
   },
   "source": [
    "#### Load data"
   ]
  },
  {
   "cell_type": "code",
   "execution_count": 2,
   "metadata": {
    "ExecuteTime": {
     "end_time": "2023-04-02T23:15:20.921399Z",
     "start_time": "2023-04-02T23:15:16.880892Z"
    },
    "collapsed": false
   },
   "outputs": [
    {
     "name": "stdout",
     "output_type": "stream",
     "text": [
      "Downloading data from https://storage.googleapis.com/tensorflow/tf-keras-datasets/mnist.npz\n",
      "11490434/11490434 [==============================] - 3s 0us/step\n"
     ]
    }
   ],
   "source": [
    "(X_train, y_train), (X_valid, y_valid) = mnist.load_data() # X - inputs, y - outputs"
   ]
  },
  {
   "cell_type": "code",
   "execution_count": 3,
   "metadata": {
    "ExecuteTime": {
     "end_time": "2023-04-02T23:15:20.927155Z",
     "start_time": "2023-04-02T23:15:20.921181Z"
    },
    "collapsed": false
   },
   "outputs": [
    {
     "data": {
      "text/plain": [
       "(60000, 28, 28)"
      ]
     },
     "execution_count": 3,
     "metadata": {},
     "output_type": "execute_result"
    }
   ],
   "source": [
    "X_train.shape"
   ]
  },
  {
   "cell_type": "code",
   "execution_count": 4,
   "metadata": {
    "ExecuteTime": {
     "end_time": "2023-04-02T23:15:21.166826Z",
     "start_time": "2023-04-02T23:15:20.921644Z"
    },
    "collapsed": false
   },
   "outputs": [
    {
     "data": {
      "text/plain": [
       "(60000,)"
      ]
     },
     "execution_count": 4,
     "metadata": {},
     "output_type": "execute_result"
    }
   ],
   "source": [
    "y_train.shape"
   ]
  },
  {
   "cell_type": "code",
   "execution_count": 5,
   "metadata": {
    "ExecuteTime": {
     "end_time": "2023-04-02T23:15:21.326684Z",
     "start_time": "2023-04-02T23:15:21.166626Z"
    },
    "collapsed": false
   },
   "outputs": [
    {
     "data": {
      "text/plain": [
       "array([5, 0, 4, 1, 9, 2, 1, 3, 1, 4, 3, 5], dtype=uint8)"
      ]
     },
     "execution_count": 5,
     "metadata": {},
     "output_type": "execute_result"
    }
   ],
   "source": [
    "y_train[0:12]"
   ]
  },
  {
   "cell_type": "code",
   "execution_count": 6,
   "metadata": {
    "ExecuteTime": {
     "end_time": "2023-04-02T23:15:21.847531Z",
     "start_time": "2023-04-02T23:15:21.329366Z"
    },
    "collapsed": false
   },
   "outputs": [
    {
     "data": {
      "image/png": "[encoded data removed]",
      "text/plain": [
       "<Figure size 500x500 with 12 Axes>"
      ]
     },
     "metadata": {},
     "output_type": "display_data"
    }
   ],
   "source": [
    "plt.figure(figsize=(5,5))\n",
    "for k in range(12):\n",
    "    plt.subplot(3, 4, k+1)\n",
    "    plt.imshow(X_train[k], cmap='Greys')\n",
    "    plt.axis('off')\n",
    "plt.tight_layout()\n",
    "plt.show()"
   ]
  },
  {
   "cell_type": "code",
   "execution_count": 7,
   "metadata": {
    "ExecuteTime": {
     "end_time": "2023-04-02T23:15:21.847976Z",
     "start_time": "2023-04-02T23:15:21.847349Z"
    },
    "collapsed": false
   },
   "outputs": [
    {
     "data": {
      "text/plain": [
       "(10000, 28, 28)"
      ]
     },
     "execution_count": 7,
     "metadata": {},
     "output_type": "execute_result"
    }
   ],
   "source": [
    "X_valid.shape"
   ]
  },
  {
   "cell_type": "code",
   "execution_count": 8,
   "metadata": {
    "ExecuteTime": {
     "end_time": "2023-04-02T23:15:21.948799Z",
     "start_time": "2023-04-02T23:15:21.847674Z"
    },
    "collapsed": false
   },
   "outputs": [
    {
     "data": {
      "text/plain": [
       "(10000,)"
      ]
     },
     "execution_count": 8,
     "metadata": {},
     "output_type": "execute_result"
    }
   ],
   "source": [
    "y_valid.shape"
   ]
  },
  {
   "cell_type": "code",
   "execution_count": 9,
   "metadata": {
    "ExecuteTime": {
     "end_time": "2023-04-02T23:15:22.220693Z",
     "start_time": "2023-04-02T23:15:21.949533Z"
    },
    "collapsed": false
   },
   "outputs": [
    {
     "data": {
      "text/plain": [
       "<matplotlib.image.AxesImage at 0x7f12f5fc4430>"
      ]
     },
     "execution_count": 9,
     "metadata": {},
     "output_type": "execute_result"
    },
    {
     "data": {
      "image/png": "[encoded data removed]",
      "text/plain": [
       "<Figure size 640x480 with 1 Axes>"
      ]
     },
     "metadata": {},
     "output_type": "display_data"
    }
   ],
   "source": [
    "plt.imshow(X_valid[0], cmap='Greys')"
   ]
  },
  {
   "cell_type": "code",
   "execution_count": 10,
   "metadata": {
    "ExecuteTime": {
     "end_time": "2023-04-02T23:15:22.269354Z",
     "start_time": "2023-04-02T23:15:22.220028Z"
    },
    "collapsed": false
   },
   "outputs": [
    {
     "data": {
      "text/plain": [
       "array([[  0,   0,   0,   0,   0,   0,   0,   0,   0,   0,   0,   0,   0,\n",
       "          0,   0,   0,   0,   0,   0,   0,   0,   0,   0,   0,   0,   0,\n",
       "          0,   0],\n",
       "       [  0,   0,   0,   0,   0,   0,   0,   0,   0,   0,   0,   0,   0,\n",
       "          0,   0,   0,   0,   0,   0,   0,   0,   0,   0,   0,   0,   0,\n",
       "          0,   0],\n",
       "       [  0,   0,   0,   0,   0,   0,   0,   0,   0,   0,   0,   0,   0,\n",
       "          0,   0,   0,   0,   0,   0,   0,   0,   0,   0,   0,   0,   0,\n",
       "          0,   0],\n",
       "       [  0,   0,   0,   0,   0,   0,   0,   0,   0,   0,   0,   0,   0,\n",
       "          0,   0,   0,   0,   0,   0,   0,   0,   0,   0,   0,   0,   0,\n",
       "          0,   0],\n",
       "       [  0,   0,   0,   0,   0,   0,   0,   0,   0,   0,   0,   0,   0,\n",
       "          0,   0,   0,   0,   0,   0,   0,   0,   0,   0,   0,   0,   0,\n",
       "          0,   0],\n",
       "       [  0,   0,   0,   0,   0,   0,   0,   0,   0,   0,   0,   0,   0,\n",
       "          0,   0,   0,   0,   0,   0,   0,   0,   0,   0,   0,   0,   0,\n",
       "          0,   0],\n",
       "       [  0,   0,   0,   0,   0,   0,   0,   0,   0,   0,   0,   0,   0,\n",
       "          0,   0,   0,   0,   0,   0,   0,   0,   0,   0,   0,   0,   0,\n",
       "          0,   0],\n",
       "       [  0,   0,   0,   0,   0,   0,  84, 185, 159, 151,  60,  36,   0,\n",
       "          0,   0,   0,   0,   0,   0,   0,   0,   0,   0,   0,   0,   0,\n",
       "          0,   0],\n",
       "       [  0,   0,   0,   0,   0,   0, 222, 254, 254, 254, 254, 241, 198,\n",
       "        198, 198, 198, 198, 198, 198, 198, 170,  52,   0,   0,   0,   0,\n",
       "          0,   0],\n",
       "       [  0,   0,   0,   0,   0,   0,  67, 114,  72, 114, 163, 227, 254,\n",
       "        225, 254, 254, 254, 250, 229, 254, 254, 140,   0,   0,   0,   0,\n",
       "          0,   0],\n",
       "       [  0,   0,   0,   0,   0,   0,   0,   0,   0,   0,   0,  17,  66,\n",
       "         14,  67,  67,  67,  59,  21, 236, 254, 106,   0,   0,   0,   0,\n",
       "          0,   0],\n",
       "       [  0,   0,   0,   0,   0,   0,   0,   0,   0,   0,   0,   0,   0,\n",
       "          0,   0,   0,   0,   0,  83, 253, 209,  18,   0,   0,   0,   0,\n",
       "          0,   0],\n",
       "       [  0,   0,   0,   0,   0,   0,   0,   0,   0,   0,   0,   0,   0,\n",
       "          0,   0,   0,   0,  22, 233, 255,  83,   0,   0,   0,   0,   0,\n",
       "          0,   0],\n",
       "       [  0,   0,   0,   0,   0,   0,   0,   0,   0,   0,   0,   0,   0,\n",
       "          0,   0,   0,   0, 129, 254, 238,  44,   0,   0,   0,   0,   0,\n",
       "          0,   0],\n",
       "       [  0,   0,   0,   0,   0,   0,   0,   0,   0,   0,   0,   0,   0,\n",
       "          0,   0,   0,  59, 249, 254,  62,   0,   0,   0,   0,   0,   0,\n",
       "          0,   0],\n",
       "       [  0,   0,   0,   0,   0,   0,   0,   0,   0,   0,   0,   0,   0,\n",
       "          0,   0,   0, 133, 254, 187,   5,   0,   0,   0,   0,   0,   0,\n",
       "          0,   0],\n",
       "       [  0,   0,   0,   0,   0,   0,   0,   0,   0,   0,   0,   0,   0,\n",
       "          0,   0,   9, 205, 248,  58,   0,   0,   0,   0,   0,   0,   0,\n",
       "          0,   0],\n",
       "       [  0,   0,   0,   0,   0,   0,   0,   0,   0,   0,   0,   0,   0,\n",
       "          0,   0, 126, 254, 182,   0,   0,   0,   0,   0,   0,   0,   0,\n",
       "          0,   0],\n",
       "       [  0,   0,   0,   0,   0,   0,   0,   0,   0,   0,   0,   0,   0,\n",
       "          0,  75, 251, 240,  57,   0,   0,   0,   0,   0,   0,   0,   0,\n",
       "          0,   0],\n",
       "       [  0,   0,   0,   0,   0,   0,   0,   0,   0,   0,   0,   0,   0,\n",
       "         19, 221, 254, 166,   0,   0,   0,   0,   0,   0,   0,   0,   0,\n",
       "          0,   0],\n",
       "       [  0,   0,   0,   0,   0,   0,   0,   0,   0,   0,   0,   0,   3,\n",
       "        203, 254, 219,  35,   0,   0,   0,   0,   0,   0,   0,   0,   0,\n",
       "          0,   0],\n",
       "       [  0,   0,   0,   0,   0,   0,   0,   0,   0,   0,   0,   0,  38,\n",
       "        254, 254,  77,   0,   0,   0,   0,   0,   0,   0,   0,   0,   0,\n",
       "          0,   0],\n",
       "       [  0,   0,   0,   0,   0,   0,   0,   0,   0,   0,   0,  31, 224,\n",
       "        254, 115,   1,   0,   0,   0,   0,   0,   0,   0,   0,   0,   0,\n",
       "          0,   0],\n",
       "       [  0,   0,   0,   0,   0,   0,   0,   0,   0,   0,   0, 133, 254,\n",
       "        254,  52,   0,   0,   0,   0,   0,   0,   0,   0,   0,   0,   0,\n",
       "          0,   0],\n",
       "       [  0,   0,   0,   0,   0,   0,   0,   0,   0,   0,  61, 242, 254,\n",
       "        254,  52,   0,   0,   0,   0,   0,   0,   0,   0,   0,   0,   0,\n",
       "          0,   0],\n",
       "       [  0,   0,   0,   0,   0,   0,   0,   0,   0,   0, 121, 254, 254,\n",
       "        219,  40,   0,   0,   0,   0,   0,   0,   0,   0,   0,   0,   0,\n",
       "          0,   0],\n",
       "       [  0,   0,   0,   0,   0,   0,   0,   0,   0,   0, 121, 254, 207,\n",
       "         18,   0,   0,   0,   0,   0,   0,   0,   0,   0,   0,   0,   0,\n",
       "          0,   0],\n",
       "       [  0,   0,   0,   0,   0,   0,   0,   0,   0,   0,   0,   0,   0,\n",
       "          0,   0,   0,   0,   0,   0,   0,   0,   0,   0,   0,   0,   0,\n",
       "          0,   0]], dtype=uint8)"
      ]
     },
     "execution_count": 10,
     "metadata": {},
     "output_type": "execute_result"
    }
   ],
   "source": [
    "X_valid[0]"
   ]
  },
  {
   "cell_type": "code",
   "execution_count": 11,
   "metadata": {
    "ExecuteTime": {
     "end_time": "2023-04-02T23:15:22.349223Z",
     "start_time": "2023-04-02T23:15:22.266224Z"
    },
    "collapsed": false
   },
   "outputs": [
    {
     "data": {
      "text/plain": [
       "7"
      ]
     },
     "execution_count": 11,
     "metadata": {},
     "output_type": "execute_result"
    }
   ],
   "source": [
    "y_valid[0]"
   ]
  },
  {
   "cell_type": "markdown",
   "metadata": {
    "collapsed": false
   },
   "source": [
    "#### Preprocess data"
   ]
  },
  {
   "cell_type": "code",
   "execution_count": 12,
   "metadata": {
    "ExecuteTime": {
     "end_time": "2023-04-02T23:15:22.522751Z",
     "start_time": "2023-04-02T23:15:22.348716Z"
    },
    "collapsed": false
   },
   "outputs": [],
   "source": [
    "X_train = X_train.reshape(60000, 784).astype('float32')\n",
    "X_valid = X_valid.reshape(10000, 784).astype('float32')"
   ]
  },
  {
   "cell_type": "code",
   "execution_count": 13,
   "metadata": {
    "ExecuteTime": {
     "end_time": "2023-04-02T23:15:22.573786Z",
     "start_time": "2023-04-02T23:15:22.573415Z"
    },
    "collapsed": false
   },
   "outputs": [],
   "source": [
    "X_train /= 255 # 输入数据的定义域从[0,255]压缩到[0,1]\n",
    "X_valid /= 255"
   ]
  },
  {
   "cell_type": "code",
   "execution_count": 14,
   "metadata": {
    "ExecuteTime": {
     "end_time": "2023-04-02T23:15:22.675241Z",
     "start_time": "2023-04-02T23:15:22.573623Z"
    },
    "collapsed": false
   },
   "outputs": [
    {
     "data": {
      "text/plain": [
       "array([0.        , 0.        , 0.        , 0.        , 0.        ,\n",
       "       0.        , 0.        , 0.        , 0.        , 0.        ,\n",
       "       0.        , 0.        , 0.        , 0.        , 0.        ,\n",
       "       0.        , 0.        , 0.        , 0.        , 0.        ,\n",
       "       0.        , 0.        , 0.        , 0.        , 0.        ,\n",
       "       0.        , 0.        , 0.        , 0.        , 0.        ,\n",
       "       0.        , 0.        , 0.        , 0.        , 0.        ,\n",
       "       0.        , 0.        , 0.        , 0.        , 0.        ,\n",
       "       0.        , 0.        , 0.        , 0.        , 0.        ,\n",
       "       0.        , 0.        , 0.        , 0.        , 0.        ,\n",
       "       0.        , 0.        , 0.        , 0.        , 0.        ,\n",
       "       0.        , 0.        , 0.        , 0.        , 0.        ,\n",
       "       0.        , 0.        , 0.        , 0.        , 0.        ,\n",
       "       0.        , 0.        , 0.        , 0.        , 0.        ,\n",
       "       0.        , 0.        , 0.        , 0.        , 0.        ,\n",
       "       0.        , 0.        , 0.        , 0.        , 0.        ,\n",
       "       0.        , 0.        , 0.        , 0.        , 0.        ,\n",
       "       0.        , 0.        , 0.        , 0.        , 0.        ,\n",
       "       0.        , 0.        , 0.        , 0.        , 0.        ,\n",
       "       0.        , 0.        , 0.        , 0.        , 0.        ,\n",
       "       0.        , 0.        , 0.        , 0.        , 0.        ,\n",
       "       0.        , 0.        , 0.        , 0.        , 0.        ,\n",
       "       0.        , 0.        , 0.        , 0.        , 0.        ,\n",
       "       0.        , 0.        , 0.        , 0.        , 0.        ,\n",
       "       0.        , 0.        , 0.        , 0.        , 0.        ,\n",
       "       0.        , 0.        , 0.        , 0.        , 0.        ,\n",
       "       0.        , 0.        , 0.        , 0.        , 0.        ,\n",
       "       0.        , 0.        , 0.        , 0.        , 0.        ,\n",
       "       0.        , 0.        , 0.        , 0.        , 0.        ,\n",
       "       0.        , 0.        , 0.        , 0.        , 0.        ,\n",
       "       0.        , 0.        , 0.        , 0.        , 0.        ,\n",
       "       0.        , 0.        , 0.        , 0.        , 0.        ,\n",
       "       0.        , 0.        , 0.        , 0.        , 0.        ,\n",
       "       0.        , 0.        , 0.        , 0.        , 0.        ,\n",
       "       0.        , 0.        , 0.        , 0.        , 0.        ,\n",
       "       0.        , 0.        , 0.        , 0.        , 0.        ,\n",
       "       0.        , 0.        , 0.        , 0.        , 0.        ,\n",
       "       0.        , 0.        , 0.        , 0.        , 0.        ,\n",
       "       0.        , 0.        , 0.        , 0.        , 0.        ,\n",
       "       0.        , 0.        , 0.        , 0.        , 0.        ,\n",
       "       0.        , 0.        , 0.32941177, 0.7254902 , 0.62352943,\n",
       "       0.5921569 , 0.23529412, 0.14117648, 0.        , 0.        ,\n",
       "       0.        , 0.        , 0.        , 0.        , 0.        ,\n",
       "       0.        , 0.        , 0.        , 0.        , 0.        ,\n",
       "       0.        , 0.        , 0.        , 0.        , 0.        ,\n",
       "       0.        , 0.        , 0.        , 0.        , 0.        ,\n",
       "       0.87058824, 0.99607843, 0.99607843, 0.99607843, 0.99607843,\n",
       "       0.94509804, 0.7764706 , 0.7764706 , 0.7764706 , 0.7764706 ,\n",
       "       0.7764706 , 0.7764706 , 0.7764706 , 0.7764706 , 0.6666667 ,\n",
       "       0.20392157, 0.        , 0.        , 0.        , 0.        ,\n",
       "       0.        , 0.        , 0.        , 0.        , 0.        ,\n",
       "       0.        , 0.        , 0.        , 0.2627451 , 0.44705883,\n",
       "       0.28235295, 0.44705883, 0.6392157 , 0.8901961 , 0.99607843,\n",
       "       0.88235295, 0.99607843, 0.99607843, 0.99607843, 0.98039216,\n",
       "       0.8980392 , 0.99607843, 0.99607843, 0.54901963, 0.        ,\n",
       "       0.        , 0.        , 0.        , 0.        , 0.        ,\n",
       "       0.        , 0.        , 0.        , 0.        , 0.        ,\n",
       "       0.        , 0.        , 0.        , 0.        , 0.        ,\n",
       "       0.        , 0.06666667, 0.25882354, 0.05490196, 0.2627451 ,\n",
       "       0.2627451 , 0.2627451 , 0.23137255, 0.08235294, 0.9254902 ,\n",
       "       0.99607843, 0.41568628, 0.        , 0.        , 0.        ,\n",
       "       0.        , 0.        , 0.        , 0.        , 0.        ,\n",
       "       0.        , 0.        , 0.        , 0.        , 0.        ,\n",
       "       0.        , 0.        , 0.        , 0.        , 0.        ,\n",
       "       0.        , 0.        , 0.        , 0.        , 0.        ,\n",
       "       0.        , 0.3254902 , 0.99215686, 0.81960785, 0.07058824,\n",
       "       0.        , 0.        , 0.        , 0.        , 0.        ,\n",
       "       0.        , 0.        , 0.        , 0.        , 0.        ,\n",
       "       0.        , 0.        , 0.        , 0.        , 0.        ,\n",
       "       0.        , 0.        , 0.        , 0.        , 0.        ,\n",
       "       0.        , 0.        , 0.        , 0.08627451, 0.9137255 ,\n",
       "       1.        , 0.3254902 , 0.        , 0.        , 0.        ,\n",
       "       0.        , 0.        , 0.        , 0.        , 0.        ,\n",
       "       0.        , 0.        , 0.        , 0.        , 0.        ,\n",
       "       0.        , 0.        , 0.        , 0.        , 0.        ,\n",
       "       0.        , 0.        , 0.        , 0.        , 0.        ,\n",
       "       0.        , 0.5058824 , 0.99607843, 0.93333334, 0.17254902,\n",
       "       0.        , 0.        , 0.        , 0.        , 0.        ,\n",
       "       0.        , 0.        , 0.        , 0.        , 0.        ,\n",
       "       0.        , 0.        , 0.        , 0.        , 0.        ,\n",
       "       0.        , 0.        , 0.        , 0.        , 0.        ,\n",
       "       0.        , 0.        , 0.        , 0.23137255, 0.9764706 ,\n",
       "       0.99607843, 0.24313726, 0.        , 0.        , 0.        ,\n",
       "       0.        , 0.        , 0.        , 0.        , 0.        ,\n",
       "       0.        , 0.        , 0.        , 0.        , 0.        ,\n",
       "       0.        , 0.        , 0.        , 0.        , 0.        ,\n",
       "       0.        , 0.        , 0.        , 0.        , 0.        ,\n",
       "       0.        , 0.52156866, 0.99607843, 0.73333335, 0.01960784,\n",
       "       0.        , 0.        , 0.        , 0.        , 0.        ,\n",
       "       0.        , 0.        , 0.        , 0.        , 0.        ,\n",
       "       0.        , 0.        , 0.        , 0.        , 0.        ,\n",
       "       0.        , 0.        , 0.        , 0.        , 0.        ,\n",
       "       0.        , 0.        , 0.        , 0.03529412, 0.8039216 ,\n",
       "       0.972549  , 0.22745098, 0.        , 0.        , 0.        ,\n",
       "       0.        , 0.        , 0.        , 0.        , 0.        ,\n",
       "       0.        , 0.        , 0.        , 0.        , 0.        ,\n",
       "       0.        , 0.        , 0.        , 0.        , 0.        ,\n",
       "       0.        , 0.        , 0.        , 0.        , 0.        ,\n",
       "       0.        , 0.49411765, 0.99607843, 0.7137255 , 0.        ,\n",
       "       0.        , 0.        , 0.        , 0.        , 0.        ,\n",
       "       0.        , 0.        , 0.        , 0.        , 0.        ,\n",
       "       0.        , 0.        , 0.        , 0.        , 0.        ,\n",
       "       0.        , 0.        , 0.        , 0.        , 0.        ,\n",
       "       0.        , 0.        , 0.        , 0.29411766, 0.9843137 ,\n",
       "       0.9411765 , 0.22352941, 0.        , 0.        , 0.        ,\n",
       "       0.        , 0.        , 0.        , 0.        , 0.        ,\n",
       "       0.        , 0.        , 0.        , 0.        , 0.        ,\n",
       "       0.        , 0.        , 0.        , 0.        , 0.        ,\n",
       "       0.        , 0.        , 0.        , 0.        , 0.        ,\n",
       "       0.07450981, 0.8666667 , 0.99607843, 0.6509804 , 0.        ,\n",
       "       0.        , 0.        , 0.        , 0.        , 0.        ,\n",
       "       0.        , 0.        , 0.        , 0.        , 0.        ,\n",
       "       0.        , 0.        , 0.        , 0.        , 0.        ,\n",
       "       0.        , 0.        , 0.        , 0.        , 0.        ,\n",
       "       0.        , 0.        , 0.01176471, 0.79607844, 0.99607843,\n",
       "       0.85882354, 0.13725491, 0.        , 0.        , 0.        ,\n",
       "       0.        , 0.        , 0.        , 0.        , 0.        ,\n",
       "       0.        , 0.        , 0.        , 0.        , 0.        ,\n",
       "       0.        , 0.        , 0.        , 0.        , 0.        ,\n",
       "       0.        , 0.        , 0.        , 0.        , 0.        ,\n",
       "       0.14901961, 0.99607843, 0.99607843, 0.3019608 , 0.        ,\n",
       "       0.        , 0.        , 0.        , 0.        , 0.        ,\n",
       "       0.        , 0.        , 0.        , 0.        , 0.        ,\n",
       "       0.        , 0.        , 0.        , 0.        , 0.        ,\n",
       "       0.        , 0.        , 0.        , 0.        , 0.        ,\n",
       "       0.        , 0.        , 0.12156863, 0.8784314 , 0.99607843,\n",
       "       0.4509804 , 0.00392157, 0.        , 0.        , 0.        ,\n",
       "       0.        , 0.        , 0.        , 0.        , 0.        ,\n",
       "       0.        , 0.        , 0.        , 0.        , 0.        ,\n",
       "       0.        , 0.        , 0.        , 0.        , 0.        ,\n",
       "       0.        , 0.        , 0.        , 0.        , 0.        ,\n",
       "       0.52156866, 0.99607843, 0.99607843, 0.20392157, 0.        ,\n",
       "       0.        , 0.        , 0.        , 0.        , 0.        ,\n",
       "       0.        , 0.        , 0.        , 0.        , 0.        ,\n",
       "       0.        , 0.        , 0.        , 0.        , 0.        ,\n",
       "       0.        , 0.        , 0.        , 0.        , 0.        ,\n",
       "       0.        , 0.        , 0.23921569, 0.9490196 , 0.99607843,\n",
       "       0.99607843, 0.20392157, 0.        , 0.        , 0.        ,\n",
       "       0.        , 0.        , 0.        , 0.        , 0.        ,\n",
       "       0.        , 0.        , 0.        , 0.        , 0.        ,\n",
       "       0.        , 0.        , 0.        , 0.        , 0.        ,\n",
       "       0.        , 0.        , 0.        , 0.        , 0.        ,\n",
       "       0.4745098 , 0.99607843, 0.99607843, 0.85882354, 0.15686275,\n",
       "       0.        , 0.        , 0.        , 0.        , 0.        ,\n",
       "       0.        , 0.        , 0.        , 0.        , 0.        ,\n",
       "       0.        , 0.        , 0.        , 0.        , 0.        ,\n",
       "       0.        , 0.        , 0.        , 0.        , 0.        ,\n",
       "       0.        , 0.        , 0.        , 0.4745098 , 0.99607843,\n",
       "       0.8117647 , 0.07058824, 0.        , 0.        , 0.        ,\n",
       "       0.        , 0.        , 0.        , 0.        , 0.        ,\n",
       "       0.        , 0.        , 0.        , 0.        , 0.        ,\n",
       "       0.        , 0.        , 0.        , 0.        , 0.        ,\n",
       "       0.        , 0.        , 0.        , 0.        , 0.        ,\n",
       "       0.        , 0.        , 0.        , 0.        , 0.        ,\n",
       "       0.        , 0.        , 0.        , 0.        , 0.        ,\n",
       "       0.        , 0.        , 0.        , 0.        , 0.        ,\n",
       "       0.        , 0.        , 0.        , 0.        ], dtype=float32)"
      ]
     },
     "execution_count": 14,
     "metadata": {},
     "output_type": "execute_result"
    }
   ],
   "source": [
    "X_valid[0]"
   ]
  },
  {
   "cell_type": "code",
   "execution_count": 15,
   "metadata": {
    "ExecuteTime": {
     "end_time": "2023-04-02T23:15:22.757638Z",
     "start_time": "2023-04-02T23:15:22.674281Z"
    },
    "collapsed": false
   },
   "outputs": [],
   "source": [
    "n_classes = 10\n",
    "y_train = to_categorical(y_train, n_classes)\n",
    "y_valid = to_categorical(y_valid, n_classes)"
   ]
  },
  {
   "cell_type": "code",
   "execution_count": 16,
   "metadata": {
    "ExecuteTime": {
     "end_time": "2023-04-02T23:15:22.861612Z",
     "start_time": "2023-04-02T23:15:22.757378Z"
    },
    "collapsed": false
   },
   "outputs": [
    {
     "data": {
      "text/plain": [
       "array([0., 0., 0., 0., 0., 0., 0., 1., 0., 0.], dtype=float32)"
      ]
     },
     "execution_count": 16,
     "metadata": {},
     "output_type": "execute_result"
    }
   ],
   "source": [
    "y_valid[0]"
   ]
  },
  {
   "cell_type": "markdown",
   "metadata": {
    "collapsed": false
   },
   "source": [
    "#### Design NN arch"
   ]
  },
  {
   "cell_type": "code",
   "execution_count": 17,
   "metadata": {
    "ExecuteTime": {
     "end_time": "2023-04-02T23:15:23.224159Z",
     "start_time": "2023-04-02T23:15:22.861164Z"
    },
    "collapsed": false
   },
   "outputs": [
    {
     "name": "stderr",
     "output_type": "stream",
     "text": [
      "2023-04-02 23:15:22.073740: W tensorflow/compiler/xla/stream_executor/platform/default/dso_loader.cc:64] Could not load dynamic library 'libcuda.so.1'; dlerror: libcuda.so.1: cannot open shared object file: No such file or directory\n",
      "2023-04-02 23:15:22.073909: W tensorflow/compiler/xla/stream_executor/cuda/cuda_driver.cc:265] failed call to cuInit: UNKNOWN ERROR (303)\n",
      "2023-04-02 23:15:22.074197: I tensorflow/compiler/xla/stream_executor/cuda/cuda_diagnostics.cc:156] kernel driver does not appear to be running on this host (home-wsl): /proc/driver/nvidia/version does not exist\n",
      "2023-04-02 23:15:22.075069: I tensorflow/core/platform/cpu_feature_guard.cc:193] This TensorFlow binary is optimized with oneAPI Deep Neural Network Library (oneDNN) to use the following CPU instructions in performance-critical operations:  AVX2 FMA\n",
      "To enable them in other operations, rebuild TensorFlow with the appropriate compiler flags.\n"
     ]
    }
   ],
   "source": [
    "model = Sequential()\n",
    "\n",
    "# hidden layer:\n",
    "# 定义第一个隐藏层时，也需要通过input_shape参数定义输入层\n",
    "model.add(Dense(64, activation='sigmoid', input_shape=(784,)))\n",
    "\n",
    "# output layer:\n",
    "model.add(Dense(10, activation='softmax'))"
   ]
  },
  {
   "cell_type": "code",
   "execution_count": 18,
   "metadata": {
    "ExecuteTime": {
     "end_time": "2023-04-02T23:15:23.289715Z",
     "start_time": "2023-04-02T23:15:23.229137Z"
    },
    "collapsed": false
   },
   "outputs": [
    {
     "name": "stdout",
     "output_type": "stream",
     "text": [
      "Model: \"sequential\"\n",
      "_________________________________________________________________\n",
      " Layer (type)                Output Shape              Param #   \n",
      "=================================================================\n",
      " dense (Dense)               (None, 64)                50240     \n",
      "                                                                 \n",
      " dense_1 (Dense)             (None, 10)                650       \n",
      "                                                                 \n",
      "=================================================================\n",
      "Total params: 50,890\n",
      "Trainable params: 50,890\n",
      "Non-trainable params: 0\n",
      "_________________________________________________________________\n"
     ]
    }
   ],
   "source": [
    "model.summary()"
   ]
  },
  {
   "cell_type": "markdown",
   "metadata": {
    "collapsed": false
   },
   "source": [
    "隐藏层的输入参数中包含的权重数量"
   ]
  },
  {
   "cell_type": "code",
   "execution_count": 27,
   "metadata": {
    "ExecuteTime": {
     "end_time": "2023-04-04T10:14:01.023491Z",
     "start_time": "2023-04-04T10:14:00.976435Z"
    },
    "collapsed": false
   },
   "outputs": [
    {
     "data": {
      "text/plain": [
       "50176"
      ]
     },
     "execution_count": 27,
     "metadata": {},
     "output_type": "execute_result"
    }
   ],
   "source": [
    "(64*784)"
   ]
  },
  {
   "cell_type": "markdown",
   "metadata": {
    "collapsed": false
   },
   "source": [
    "隐藏层的参数总数=权重数量+偏置数量"
   ]
  },
  {
   "cell_type": "code",
   "execution_count": 28,
   "metadata": {
    "ExecuteTime": {
     "end_time": "2023-04-04T10:17:21.105765Z",
     "start_time": "2023-04-04T10:17:21.093767Z"
    },
    "collapsed": false
   },
   "outputs": [
    {
     "data": {
      "text/plain": [
       "50240"
      ]
     },
     "execution_count": 28,
     "metadata": {},
     "output_type": "execute_result"
    }
   ],
   "source": [
    "(64*784)+64"
   ]
  },
  {
   "cell_type": "markdown",
   "metadata": {
    "collapsed": false
   },
   "source": [
    "输出层的参数总数"
   ]
  },
  {
   "cell_type": "code",
   "execution_count": 29,
   "metadata": {
    "ExecuteTime": {
     "end_time": "2023-04-04T10:18:51.303261Z",
     "start_time": "2023-04-04T10:18:51.256028Z"
    },
    "collapsed": false
   },
   "outputs": [
    {
     "data": {
      "text/plain": [
       "650"
      ]
     },
     "execution_count": 29,
     "metadata": {},
     "output_type": "execute_result"
    }
   ],
   "source": [
    "(10*64)+10"
   ]
  },
  {
   "cell_type": "markdown",
   "metadata": {
    "collapsed": false
   },
   "source": [
    "#### Compile model"
   ]
  },
  {
   "cell_type": "code",
   "execution_count": 19,
   "metadata": {
    "ExecuteTime": {
     "end_time": "2023-04-02T23:15:23.372909Z",
     "start_time": "2023-04-02T23:15:23.276038Z"
    },
    "collapsed": false
   },
   "outputs": [
    {
     "name": "stderr",
     "output_type": "stream",
     "text": [
      "WARNING:absl:`lr` is deprecated, please use `learning_rate` instead, or use the legacy optimizer, e.g.,tf.keras.optimizers.legacy.SGD.\n"
     ]
    }
   ],
   "source": [
    "# 在模型编译步骤中把优化器设置为SGD，以使用随机梯度下降（stochastic gradient descent)\n",
    "model.compile(loss='mean_squared_error', optimizer=SGD(learning_rate=0.01), metrics=['accuracy']) # SGD: stochastic gradient descent,随机梯度下降法"
   ]
  },
  {
   "cell_type": "markdown",
   "metadata": {
    "collapsed": false
   },
   "source": [
    "#### Train!"
   ]
  },
  {
   "cell_type": "code",
   "execution_count": 20,
   "metadata": {
    "ExecuteTime": {
     "end_time": "2023-04-02T23:18:12.936587Z",
     "start_time": "2023-04-02T23:15:23.372529Z"
    },
    "collapsed": false
   },
   "outputs": [
    {
     "name": "stdout",
     "output_type": "stream",
     "text": [
      "Epoch 1/200\n"
     ]
    },
    {
     "name": "stderr",
     "output_type": "stream",
     "text": [
      "2023-04-02 23:15:22.585348: W tensorflow/tsl/framework/cpu_allocator_impl.cc:82] Allocation of 188160000 exceeds 10% of free system memory.\n"
     ]
    },
    {
     "name": "stdout",
     "output_type": "stream",
     "text": [
      "469/469 [==============================] - 1s 2ms/step - loss: 0.0918 - accuracy: 0.1038 - val_loss: 0.0913 - val_accuracy: 0.1090\n",
      "Epoch 2/200\n",
      "469/469 [==============================] - 1s 2ms/step - loss: 0.0909 - accuracy: 0.1179 - val_loss: 0.0906 - val_accuracy: 0.1208\n",
      "Epoch 3/200\n",
      "469/469 [==============================] - 1s 2ms/step - loss: 0.0903 - accuracy: 0.1392 - val_loss: 0.0901 - val_accuracy: 0.1446\n",
      "Epoch 4/200\n",
      "469/469 [==============================] - 1s 2ms/step - loss: 0.0899 - accuracy: 0.1681 - val_loss: 0.0896 - val_accuracy: 0.1833\n",
      "Epoch 5/200\n",
      "469/469 [==============================] - 1s 2ms/step - loss: 0.0895 - accuracy: 0.2051 - val_loss: 0.0893 - val_accuracy: 0.2224\n",
      "Epoch 6/200\n",
      "469/469 [==============================] - 1s 2ms/step - loss: 0.0891 - accuracy: 0.2398 - val_loss: 0.0889 - val_accuracy: 0.2527\n",
      "Epoch 7/200\n",
      "469/469 [==============================] - 1s 2ms/step - loss: 0.0888 - accuracy: 0.2693 - val_loss: 0.0886 - val_accuracy: 0.2790\n",
      "Epoch 8/200\n",
      "469/469 [==============================] - 1s 2ms/step - loss: 0.0885 - accuracy: 0.2904 - val_loss: 0.0883 - val_accuracy: 0.2979\n",
      "Epoch 9/200\n",
      "469/469 [==============================] - 1s 2ms/step - loss: 0.0882 - accuracy: 0.3099 - val_loss: 0.0880 - val_accuracy: 0.3178\n",
      "Epoch 10/200\n",
      "469/469 [==============================] - 1s 2ms/step - loss: 0.0879 - accuracy: 0.3331 - val_loss: 0.0877 - val_accuracy: 0.3434\n",
      "Epoch 11/200\n",
      "469/469 [==============================] - 1s 2ms/step - loss: 0.0876 - accuracy: 0.3630 - val_loss: 0.0874 - val_accuracy: 0.3792\n",
      "Epoch 12/200\n",
      "469/469 [==============================] - 1s 2ms/step - loss: 0.0873 - accuracy: 0.3963 - val_loss: 0.0871 - val_accuracy: 0.4124\n",
      "Epoch 13/200\n",
      "469/469 [==============================] - 1s 2ms/step - loss: 0.0871 - accuracy: 0.4232 - val_loss: 0.0868 - val_accuracy: 0.4385\n",
      "Epoch 14/200\n",
      "469/469 [==============================] - 1s 2ms/step - loss: 0.0868 - accuracy: 0.4389 - val_loss: 0.0865 - val_accuracy: 0.4508\n",
      "Epoch 15/200\n",
      "469/469 [==============================] - 1s 2ms/step - loss: 0.0865 - accuracy: 0.4498 - val_loss: 0.0863 - val_accuracy: 0.4595\n",
      "Epoch 16/200\n",
      "469/469 [==============================] - 1s 2ms/step - loss: 0.0862 - accuracy: 0.4572 - val_loss: 0.0860 - val_accuracy: 0.4658\n",
      "Epoch 17/200\n",
      "469/469 [==============================] - 1s 2ms/step - loss: 0.0859 - accuracy: 0.4629 - val_loss: 0.0857 - val_accuracy: 0.4736\n",
      "Epoch 18/200\n",
      "469/469 [==============================] - 1s 2ms/step - loss: 0.0856 - accuracy: 0.4680 - val_loss: 0.0854 - val_accuracy: 0.4771\n",
      "Epoch 19/200\n",
      "469/469 [==============================] - 1s 2ms/step - loss: 0.0853 - accuracy: 0.4723 - val_loss: 0.0850 - val_accuracy: 0.4798\n",
      "Epoch 20/200\n",
      "469/469 [==============================] - 1s 2ms/step - loss: 0.0850 - accuracy: 0.4735 - val_loss: 0.0847 - val_accuracy: 0.4840\n",
      "Epoch 21/200\n",
      "469/469 [==============================] - 1s 2ms/step - loss: 0.0847 - accuracy: 0.4761 - val_loss: 0.0844 - val_accuracy: 0.4872\n",
      "Epoch 22/200\n",
      "469/469 [==============================] - 1s 2ms/step - loss: 0.0844 - accuracy: 0.4787 - val_loss: 0.0841 - val_accuracy: 0.4867\n",
      "Epoch 23/200\n",
      "469/469 [==============================] - 1s 2ms/step - loss: 0.0840 - accuracy: 0.4801 - val_loss: 0.0837 - val_accuracy: 0.4873\n",
      "Epoch 24/200\n",
      "469/469 [==============================] - 1s 2ms/step - loss: 0.0837 - accuracy: 0.4818 - val_loss: 0.0834 - val_accuracy: 0.4882\n",
      "Epoch 25/200\n",
      "469/469 [==============================] - 1s 2ms/step - loss: 0.0834 - accuracy: 0.4813 - val_loss: 0.0830 - val_accuracy: 0.4907\n",
      "Epoch 26/200\n",
      "469/469 [==============================] - 1s 2ms/step - loss: 0.0830 - accuracy: 0.4827 - val_loss: 0.0826 - val_accuracy: 0.4914\n",
      "Epoch 27/200\n",
      "469/469 [==============================] - 1s 2ms/step - loss: 0.0826 - accuracy: 0.4832 - val_loss: 0.0823 - val_accuracy: 0.4919\n",
      "Epoch 28/200\n",
      "469/469 [==============================] - 1s 2ms/step - loss: 0.0823 - accuracy: 0.4846 - val_loss: 0.0819 - val_accuracy: 0.4926\n",
      "Epoch 29/200\n",
      "469/469 [==============================] - 1s 2ms/step - loss: 0.0819 - accuracy: 0.4865 - val_loss: 0.0815 - val_accuracy: 0.4938\n",
      "Epoch 30/200\n",
      "469/469 [==============================] - 1s 2ms/step - loss: 0.0815 - accuracy: 0.4872 - val_loss: 0.0811 - val_accuracy: 0.4957\n",
      "Epoch 31/200\n",
      "469/469 [==============================] - 1s 2ms/step - loss: 0.0811 - accuracy: 0.4901 - val_loss: 0.0807 - val_accuracy: 0.4988\n",
      "Epoch 32/200\n",
      "469/469 [==============================] - 1s 2ms/step - loss: 0.0807 - accuracy: 0.4927 - val_loss: 0.0802 - val_accuracy: 0.5015\n",
      "Epoch 33/200\n",
      "469/469 [==============================] - 1s 2ms/step - loss: 0.0803 - accuracy: 0.4942 - val_loss: 0.0798 - val_accuracy: 0.5056\n",
      "Epoch 34/200\n",
      "469/469 [==============================] - 1s 2ms/step - loss: 0.0798 - accuracy: 0.4987 - val_loss: 0.0794 - val_accuracy: 0.5075\n",
      "Epoch 35/200\n",
      "469/469 [==============================] - 1s 2ms/step - loss: 0.0794 - accuracy: 0.5011 - val_loss: 0.0789 - val_accuracy: 0.5113\n",
      "Epoch 36/200\n",
      "469/469 [==============================] - 1s 2ms/step - loss: 0.0790 - accuracy: 0.5048 - val_loss: 0.0785 - val_accuracy: 0.5145\n",
      "Epoch 37/200\n",
      "469/469 [==============================] - 1s 2ms/step - loss: 0.0785 - accuracy: 0.5076 - val_loss: 0.0780 - val_accuracy: 0.5170\n",
      "Epoch 38/200\n",
      "469/469 [==============================] - 1s 2ms/step - loss: 0.0780 - accuracy: 0.5115 - val_loss: 0.0775 - val_accuracy: 0.5212\n",
      "Epoch 39/200\n",
      "469/469 [==============================] - 1s 2ms/step - loss: 0.0776 - accuracy: 0.5145 - val_loss: 0.0770 - val_accuracy: 0.5243\n",
      "Epoch 40/200\n",
      "469/469 [==============================] - 1s 2ms/step - loss: 0.0771 - accuracy: 0.5188 - val_loss: 0.0765 - val_accuracy: 0.5295\n",
      "Epoch 41/200\n",
      "469/469 [==============================] - 1s 2ms/step - loss: 0.0766 - accuracy: 0.5228 - val_loss: 0.0761 - val_accuracy: 0.5342\n",
      "Epoch 42/200\n",
      "469/469 [==============================] - 1s 2ms/step - loss: 0.0761 - accuracy: 0.5266 - val_loss: 0.0756 - val_accuracy: 0.5384\n",
      "Epoch 43/200\n",
      "469/469 [==============================] - 1s 2ms/step - loss: 0.0756 - accuracy: 0.5314 - val_loss: 0.0750 - val_accuracy: 0.5437\n",
      "Epoch 44/200\n",
      "469/469 [==============================] - 1s 2ms/step - loss: 0.0751 - accuracy: 0.5361 - val_loss: 0.0745 - val_accuracy: 0.5485\n",
      "Epoch 45/200\n",
      "469/469 [==============================] - 1s 2ms/step - loss: 0.0746 - accuracy: 0.5398 - val_loss: 0.0740 - val_accuracy: 0.5523\n",
      "Epoch 46/200\n",
      "469/469 [==============================] - 1s 2ms/step - loss: 0.0741 - accuracy: 0.5443 - val_loss: 0.0735 - val_accuracy: 0.5573\n",
      "Epoch 47/200\n",
      "469/469 [==============================] - 1s 2ms/step - loss: 0.0736 - accuracy: 0.5494 - val_loss: 0.0730 - val_accuracy: 0.5611\n",
      "Epoch 48/200\n",
      "469/469 [==============================] - 1s 2ms/step - loss: 0.0731 - accuracy: 0.5531 - val_loss: 0.0724 - val_accuracy: 0.5660\n",
      "Epoch 49/200\n",
      "469/469 [==============================] - 1s 2ms/step - loss: 0.0725 - accuracy: 0.5584 - val_loss: 0.0719 - val_accuracy: 0.5701\n",
      "Epoch 50/200\n",
      "469/469 [==============================] - 1s 2ms/step - loss: 0.0720 - accuracy: 0.5624 - val_loss: 0.0713 - val_accuracy: 0.5752\n",
      "Epoch 51/200\n",
      "469/469 [==============================] - 1s 2ms/step - loss: 0.0715 - accuracy: 0.5671 - val_loss: 0.0708 - val_accuracy: 0.5793\n",
      "Epoch 52/200\n",
      "469/469 [==============================] - 1s 2ms/step - loss: 0.0710 - accuracy: 0.5711 - val_loss: 0.0703 - val_accuracy: 0.5826\n",
      "Epoch 53/200\n",
      "469/469 [==============================] - 1s 2ms/step - loss: 0.0704 - accuracy: 0.5751 - val_loss: 0.0697 - val_accuracy: 0.5865\n",
      "Epoch 54/200\n",
      "469/469 [==============================] - 1s 2ms/step - loss: 0.0699 - accuracy: 0.5786 - val_loss: 0.0692 - val_accuracy: 0.5894\n",
      "Epoch 55/200\n",
      "469/469 [==============================] - 1s 2ms/step - loss: 0.0693 - accuracy: 0.5829 - val_loss: 0.0686 - val_accuracy: 0.5935\n",
      "Epoch 56/200\n",
      "469/469 [==============================] - 1s 2ms/step - loss: 0.0688 - accuracy: 0.5871 - val_loss: 0.0681 - val_accuracy: 0.5975\n",
      "Epoch 57/200\n",
      "469/469 [==============================] - 1s 2ms/step - loss: 0.0683 - accuracy: 0.5910 - val_loss: 0.0675 - val_accuracy: 0.6023\n",
      "Epoch 58/200\n",
      "469/469 [==============================] - 1s 2ms/step - loss: 0.0677 - accuracy: 0.5954 - val_loss: 0.0670 - val_accuracy: 0.6062\n",
      "Epoch 59/200\n",
      "469/469 [==============================] - 1s 2ms/step - loss: 0.0672 - accuracy: 0.5992 - val_loss: 0.0664 - val_accuracy: 0.6094\n",
      "Epoch 60/200\n",
      "469/469 [==============================] - 1s 2ms/step - loss: 0.0666 - accuracy: 0.6029 - val_loss: 0.0659 - val_accuracy: 0.6120\n",
      "Epoch 61/200\n",
      "469/469 [==============================] - 1s 2ms/step - loss: 0.0661 - accuracy: 0.6068 - val_loss: 0.0653 - val_accuracy: 0.6151\n",
      "Epoch 62/200\n",
      "469/469 [==============================] - 1s 2ms/step - loss: 0.0655 - accuracy: 0.6108 - val_loss: 0.0648 - val_accuracy: 0.6190\n",
      "Epoch 63/200\n",
      "469/469 [==============================] - 1s 2ms/step - loss: 0.0650 - accuracy: 0.6139 - val_loss: 0.0642 - val_accuracy: 0.6226\n",
      "Epoch 64/200\n",
      "469/469 [==============================] - 1s 2ms/step - loss: 0.0645 - accuracy: 0.6174 - val_loss: 0.0637 - val_accuracy: 0.6258\n",
      "Epoch 65/200\n",
      "469/469 [==============================] - 1s 2ms/step - loss: 0.0639 - accuracy: 0.6215 - val_loss: 0.0631 - val_accuracy: 0.6287\n",
      "Epoch 66/200\n",
      "469/469 [==============================] - 1s 2ms/step - loss: 0.0634 - accuracy: 0.6249 - val_loss: 0.0626 - val_accuracy: 0.6310\n",
      "Epoch 67/200\n",
      "469/469 [==============================] - 1s 2ms/step - loss: 0.0629 - accuracy: 0.6280 - val_loss: 0.0620 - val_accuracy: 0.6340\n",
      "Epoch 68/200\n",
      "469/469 [==============================] - 1s 2ms/step - loss: 0.0623 - accuracy: 0.6311 - val_loss: 0.0615 - val_accuracy: 0.6367\n",
      "Epoch 69/200\n",
      "469/469 [==============================] - 1s 2ms/step - loss: 0.0618 - accuracy: 0.6345 - val_loss: 0.0610 - val_accuracy: 0.6402\n",
      "Epoch 70/200\n",
      "469/469 [==============================] - 1s 2ms/step - loss: 0.0613 - accuracy: 0.6376 - val_loss: 0.0604 - val_accuracy: 0.6439\n",
      "Epoch 71/200\n",
      "469/469 [==============================] - 1s 2ms/step - loss: 0.0608 - accuracy: 0.6417 - val_loss: 0.0599 - val_accuracy: 0.6474\n",
      "Epoch 72/200\n",
      "469/469 [==============================] - 1s 2ms/step - loss: 0.0603 - accuracy: 0.6453 - val_loss: 0.0594 - val_accuracy: 0.6510\n",
      "Epoch 73/200\n",
      "469/469 [==============================] - 1s 2ms/step - loss: 0.0598 - accuracy: 0.6485 - val_loss: 0.0589 - val_accuracy: 0.6553\n",
      "Epoch 74/200\n",
      "469/469 [==============================] - 1s 2ms/step - loss: 0.0593 - accuracy: 0.6515 - val_loss: 0.0584 - val_accuracy: 0.6584\n",
      "Epoch 75/200\n",
      "469/469 [==============================] - 1s 2ms/step - loss: 0.0588 - accuracy: 0.6552 - val_loss: 0.0579 - val_accuracy: 0.6616\n",
      "Epoch 76/200\n",
      "469/469 [==============================] - 1s 2ms/step - loss: 0.0583 - accuracy: 0.6586 - val_loss: 0.0574 - val_accuracy: 0.6660\n",
      "Epoch 77/200\n",
      "469/469 [==============================] - 1s 2ms/step - loss: 0.0578 - accuracy: 0.6621 - val_loss: 0.0569 - val_accuracy: 0.6703\n",
      "Epoch 78/200\n",
      "469/469 [==============================] - 1s 2ms/step - loss: 0.0573 - accuracy: 0.6655 - val_loss: 0.0564 - val_accuracy: 0.6738\n",
      "Epoch 79/200\n",
      "469/469 [==============================] - 1s 2ms/step - loss: 0.0568 - accuracy: 0.6688 - val_loss: 0.0559 - val_accuracy: 0.6788\n",
      "Epoch 80/200\n",
      "469/469 [==============================] - 1s 2ms/step - loss: 0.0564 - accuracy: 0.6721 - val_loss: 0.0554 - val_accuracy: 0.6825\n",
      "Epoch 81/200\n",
      "469/469 [==============================] - 1s 2ms/step - loss: 0.0559 - accuracy: 0.6754 - val_loss: 0.0549 - val_accuracy: 0.6862\n",
      "Epoch 82/200\n",
      "469/469 [==============================] - 1s 2ms/step - loss: 0.0554 - accuracy: 0.6795 - val_loss: 0.0545 - val_accuracy: 0.6900\n",
      "Epoch 83/200\n",
      "469/469 [==============================] - 1s 2ms/step - loss: 0.0550 - accuracy: 0.6828 - val_loss: 0.0540 - val_accuracy: 0.6938\n",
      "Epoch 84/200\n",
      "469/469 [==============================] - 1s 2ms/step - loss: 0.0545 - accuracy: 0.6861 - val_loss: 0.0536 - val_accuracy: 0.6984\n",
      "Epoch 85/200\n",
      "469/469 [==============================] - 1s 2ms/step - loss: 0.0541 - accuracy: 0.6899 - val_loss: 0.0531 - val_accuracy: 0.7018\n",
      "Epoch 86/200\n",
      "469/469 [==============================] - 1s 2ms/step - loss: 0.0536 - accuracy: 0.6932 - val_loss: 0.0527 - val_accuracy: 0.7048\n",
      "Epoch 87/200\n",
      "469/469 [==============================] - 1s 2ms/step - loss: 0.0532 - accuracy: 0.6962 - val_loss: 0.0522 - val_accuracy: 0.7075\n",
      "Epoch 88/200\n",
      "469/469 [==============================] - 1s 2ms/step - loss: 0.0528 - accuracy: 0.6998 - val_loss: 0.0518 - val_accuracy: 0.7108\n",
      "Epoch 89/200\n",
      "469/469 [==============================] - 1s 2ms/step - loss: 0.0523 - accuracy: 0.7030 - val_loss: 0.0514 - val_accuracy: 0.7150\n",
      "Epoch 90/200\n",
      "469/469 [==============================] - 1s 2ms/step - loss: 0.0519 - accuracy: 0.7066 - val_loss: 0.0509 - val_accuracy: 0.7183\n",
      "Epoch 91/200\n",
      "469/469 [==============================] - 1s 2ms/step - loss: 0.0515 - accuracy: 0.7105 - val_loss: 0.0505 - val_accuracy: 0.7224\n",
      "Epoch 92/200\n",
      "469/469 [==============================] - 1s 2ms/step - loss: 0.0511 - accuracy: 0.7133 - val_loss: 0.0501 - val_accuracy: 0.7254\n",
      "Epoch 93/200\n",
      "469/469 [==============================] - 1s 2ms/step - loss: 0.0507 - accuracy: 0.7170 - val_loss: 0.0497 - val_accuracy: 0.7286\n",
      "Epoch 94/200\n",
      "469/469 [==============================] - 1s 2ms/step - loss: 0.0503 - accuracy: 0.7205 - val_loss: 0.0493 - val_accuracy: 0.7331\n",
      "Epoch 95/200\n",
      "469/469 [==============================] - 1s 2ms/step - loss: 0.0499 - accuracy: 0.7239 - val_loss: 0.0489 - val_accuracy: 0.7362\n",
      "Epoch 96/200\n",
      "469/469 [==============================] - 1s 2ms/step - loss: 0.0495 - accuracy: 0.7270 - val_loss: 0.0485 - val_accuracy: 0.7397\n",
      "Epoch 97/200\n",
      "469/469 [==============================] - 1s 2ms/step - loss: 0.0492 - accuracy: 0.7300 - val_loss: 0.0481 - val_accuracy: 0.7424\n",
      "Epoch 98/200\n",
      "469/469 [==============================] - 1s 2ms/step - loss: 0.0488 - accuracy: 0.7332 - val_loss: 0.0478 - val_accuracy: 0.7463\n",
      "Epoch 99/200\n",
      "469/469 [==============================] - 1s 2ms/step - loss: 0.0484 - accuracy: 0.7374 - val_loss: 0.0474 - val_accuracy: 0.7505\n",
      "Epoch 100/200\n",
      "469/469 [==============================] - 1s 2ms/step - loss: 0.0480 - accuracy: 0.7401 - val_loss: 0.0470 - val_accuracy: 0.7544\n",
      "Epoch 101/200\n",
      "469/469 [==============================] - 1s 2ms/step - loss: 0.0477 - accuracy: 0.7431 - val_loss: 0.0467 - val_accuracy: 0.7570\n",
      "Epoch 102/200\n",
      "469/469 [==============================] - 1s 2ms/step - loss: 0.0473 - accuracy: 0.7463 - val_loss: 0.0463 - val_accuracy: 0.7588\n",
      "Epoch 103/200\n",
      "469/469 [==============================] - 1s 2ms/step - loss: 0.0470 - accuracy: 0.7495 - val_loss: 0.0460 - val_accuracy: 0.7615\n",
      "Epoch 104/200\n",
      "469/469 [==============================] - 1s 2ms/step - loss: 0.0466 - accuracy: 0.7523 - val_loss: 0.0456 - val_accuracy: 0.7654\n",
      "Epoch 105/200\n",
      "469/469 [==============================] - 1s 2ms/step - loss: 0.0463 - accuracy: 0.7552 - val_loss: 0.0453 - val_accuracy: 0.7683\n",
      "Epoch 106/200\n",
      "469/469 [==============================] - 1s 2ms/step - loss: 0.0459 - accuracy: 0.7576 - val_loss: 0.0449 - val_accuracy: 0.7715\n",
      "Epoch 107/200\n",
      "469/469 [==============================] - 1s 2ms/step - loss: 0.0456 - accuracy: 0.7600 - val_loss: 0.0446 - val_accuracy: 0.7735\n",
      "Epoch 108/200\n",
      "469/469 [==============================] - 1s 2ms/step - loss: 0.0453 - accuracy: 0.7631 - val_loss: 0.0442 - val_accuracy: 0.7759\n",
      "Epoch 109/200\n",
      "469/469 [==============================] - 1s 2ms/step - loss: 0.0450 - accuracy: 0.7656 - val_loss: 0.0439 - val_accuracy: 0.7771\n",
      "Epoch 110/200\n",
      "469/469 [==============================] - 1s 2ms/step - loss: 0.0446 - accuracy: 0.7679 - val_loss: 0.0436 - val_accuracy: 0.7794\n",
      "Epoch 111/200\n",
      "469/469 [==============================] - 1s 2ms/step - loss: 0.0443 - accuracy: 0.7706 - val_loss: 0.0433 - val_accuracy: 0.7819\n",
      "Epoch 112/200\n",
      "469/469 [==============================] - 1s 2ms/step - loss: 0.0440 - accuracy: 0.7734 - val_loss: 0.0430 - val_accuracy: 0.7845\n",
      "Epoch 113/200\n",
      "469/469 [==============================] - 1s 2ms/step - loss: 0.0437 - accuracy: 0.7761 - val_loss: 0.0427 - val_accuracy: 0.7871\n",
      "Epoch 114/200\n",
      "469/469 [==============================] - 1s 2ms/step - loss: 0.0434 - accuracy: 0.7784 - val_loss: 0.0423 - val_accuracy: 0.7889\n",
      "Epoch 115/200\n",
      "469/469 [==============================] - 1s 2ms/step - loss: 0.0431 - accuracy: 0.7802 - val_loss: 0.0420 - val_accuracy: 0.7921\n",
      "Epoch 116/200\n",
      "469/469 [==============================] - 1s 2ms/step - loss: 0.0428 - accuracy: 0.7821 - val_loss: 0.0417 - val_accuracy: 0.7955\n",
      "Epoch 117/200\n",
      "469/469 [==============================] - 1s 2ms/step - loss: 0.0425 - accuracy: 0.7843 - val_loss: 0.0414 - val_accuracy: 0.7978\n",
      "Epoch 118/200\n",
      "469/469 [==============================] - 1s 2ms/step - loss: 0.0422 - accuracy: 0.7865 - val_loss: 0.0412 - val_accuracy: 0.7996\n",
      "Epoch 119/200\n",
      "469/469 [==============================] - 1s 2ms/step - loss: 0.0419 - accuracy: 0.7886 - val_loss: 0.0409 - val_accuracy: 0.8031\n",
      "Epoch 120/200\n",
      "469/469 [==============================] - 1s 2ms/step - loss: 0.0417 - accuracy: 0.7907 - val_loss: 0.0406 - val_accuracy: 0.8045\n",
      "Epoch 121/200\n",
      "469/469 [==============================] - 1s 2ms/step - loss: 0.0414 - accuracy: 0.7926 - val_loss: 0.0403 - val_accuracy: 0.8057\n",
      "Epoch 122/200\n",
      "469/469 [==============================] - 1s 2ms/step - loss: 0.0411 - accuracy: 0.7946 - val_loss: 0.0400 - val_accuracy: 0.8072\n",
      "Epoch 123/200\n",
      "469/469 [==============================] - 1s 2ms/step - loss: 0.0408 - accuracy: 0.7963 - val_loss: 0.0398 - val_accuracy: 0.8088\n",
      "Epoch 124/200\n",
      "469/469 [==============================] - 1s 2ms/step - loss: 0.0406 - accuracy: 0.7979 - val_loss: 0.0395 - val_accuracy: 0.8112\n",
      "Epoch 125/200\n",
      "469/469 [==============================] - 1s 2ms/step - loss: 0.0403 - accuracy: 0.8005 - val_loss: 0.0392 - val_accuracy: 0.8134\n",
      "Epoch 126/200\n",
      "469/469 [==============================] - 1s 2ms/step - loss: 0.0400 - accuracy: 0.8020 - val_loss: 0.0390 - val_accuracy: 0.8154\n",
      "Epoch 127/200\n",
      "469/469 [==============================] - 1s 2ms/step - loss: 0.0398 - accuracy: 0.8037 - val_loss: 0.0387 - val_accuracy: 0.8163\n",
      "Epoch 128/200\n",
      "469/469 [==============================] - 1s 2ms/step - loss: 0.0395 - accuracy: 0.8053 - val_loss: 0.0384 - val_accuracy: 0.8175\n",
      "Epoch 129/200\n",
      "469/469 [==============================] - 1s 2ms/step - loss: 0.0393 - accuracy: 0.8070 - val_loss: 0.0382 - val_accuracy: 0.8193\n",
      "Epoch 130/200\n",
      "469/469 [==============================] - 1s 2ms/step - loss: 0.0390 - accuracy: 0.8090 - val_loss: 0.0379 - val_accuracy: 0.8204\n",
      "Epoch 131/200\n",
      "469/469 [==============================] - 1s 2ms/step - loss: 0.0388 - accuracy: 0.8109 - val_loss: 0.0377 - val_accuracy: 0.8220\n",
      "Epoch 132/200\n",
      "469/469 [==============================] - 1s 2ms/step - loss: 0.0385 - accuracy: 0.8124 - val_loss: 0.0374 - val_accuracy: 0.8241\n",
      "Epoch 133/200\n",
      "469/469 [==============================] - 1s 2ms/step - loss: 0.0383 - accuracy: 0.8136 - val_loss: 0.0372 - val_accuracy: 0.8253\n",
      "Epoch 134/200\n",
      "469/469 [==============================] - 1s 2ms/step - loss: 0.0381 - accuracy: 0.8149 - val_loss: 0.0370 - val_accuracy: 0.8261\n",
      "Epoch 135/200\n",
      "469/469 [==============================] - 1s 2ms/step - loss: 0.0378 - accuracy: 0.8165 - val_loss: 0.0367 - val_accuracy: 0.8276\n",
      "Epoch 136/200\n",
      "469/469 [==============================] - 1s 2ms/step - loss: 0.0376 - accuracy: 0.8177 - val_loss: 0.0365 - val_accuracy: 0.8291\n",
      "Epoch 137/200\n",
      "469/469 [==============================] - 1s 2ms/step - loss: 0.0374 - accuracy: 0.8187 - val_loss: 0.0363 - val_accuracy: 0.8307\n",
      "Epoch 138/200\n",
      "469/469 [==============================] - 1s 2ms/step - loss: 0.0372 - accuracy: 0.8199 - val_loss: 0.0360 - val_accuracy: 0.8319\n",
      "Epoch 139/200\n",
      "469/469 [==============================] - 1s 2ms/step - loss: 0.0369 - accuracy: 0.8208 - val_loss: 0.0358 - val_accuracy: 0.8328\n",
      "Epoch 140/200\n",
      "469/469 [==============================] - 1s 2ms/step - loss: 0.0367 - accuracy: 0.8221 - val_loss: 0.0356 - val_accuracy: 0.8339\n",
      "Epoch 141/200\n",
      "469/469 [==============================] - 1s 2ms/step - loss: 0.0365 - accuracy: 0.8232 - val_loss: 0.0354 - val_accuracy: 0.8346\n",
      "Epoch 142/200\n",
      "469/469 [==============================] - 1s 2ms/step - loss: 0.0363 - accuracy: 0.8241 - val_loss: 0.0352 - val_accuracy: 0.8357\n",
      "Epoch 143/200\n",
      "469/469 [==============================] - 1s 2ms/step - loss: 0.0361 - accuracy: 0.8254 - val_loss: 0.0350 - val_accuracy: 0.8365\n",
      "Epoch 144/200\n",
      "469/469 [==============================] - 1s 2ms/step - loss: 0.0359 - accuracy: 0.8263 - val_loss: 0.0347 - val_accuracy: 0.8376\n",
      "Epoch 145/200\n",
      "469/469 [==============================] - 1s 2ms/step - loss: 0.0357 - accuracy: 0.8271 - val_loss: 0.0345 - val_accuracy: 0.8384\n",
      "Epoch 146/200\n",
      "469/469 [==============================] - 1s 2ms/step - loss: 0.0355 - accuracy: 0.8281 - val_loss: 0.0343 - val_accuracy: 0.8394\n",
      "Epoch 147/200\n",
      "469/469 [==============================] - 1s 2ms/step - loss: 0.0353 - accuracy: 0.8289 - val_loss: 0.0341 - val_accuracy: 0.8405\n",
      "Epoch 148/200\n",
      "469/469 [==============================] - 1s 2ms/step - loss: 0.0351 - accuracy: 0.8303 - val_loss: 0.0339 - val_accuracy: 0.8409\n",
      "Epoch 149/200\n",
      "469/469 [==============================] - 1s 2ms/step - loss: 0.0349 - accuracy: 0.8313 - val_loss: 0.0337 - val_accuracy: 0.8419\n",
      "Epoch 150/200\n",
      "469/469 [==============================] - 1s 2ms/step - loss: 0.0347 - accuracy: 0.8323 - val_loss: 0.0336 - val_accuracy: 0.8425\n",
      "Epoch 151/200\n",
      "469/469 [==============================] - 1s 2ms/step - loss: 0.0345 - accuracy: 0.8333 - val_loss: 0.0334 - val_accuracy: 0.8431\n",
      "Epoch 152/200\n",
      "469/469 [==============================] - 1s 2ms/step - loss: 0.0343 - accuracy: 0.8341 - val_loss: 0.0332 - val_accuracy: 0.8439\n",
      "Epoch 153/200\n",
      "469/469 [==============================] - 1s 2ms/step - loss: 0.0341 - accuracy: 0.8348 - val_loss: 0.0330 - val_accuracy: 0.8446\n",
      "Epoch 154/200\n",
      "469/469 [==============================] - 1s 2ms/step - loss: 0.0339 - accuracy: 0.8356 - val_loss: 0.0328 - val_accuracy: 0.8448\n",
      "Epoch 155/200\n",
      "469/469 [==============================] - 1s 2ms/step - loss: 0.0338 - accuracy: 0.8364 - val_loss: 0.0326 - val_accuracy: 0.8454\n",
      "Epoch 156/200\n",
      "469/469 [==============================] - 1s 2ms/step - loss: 0.0336 - accuracy: 0.8372 - val_loss: 0.0324 - val_accuracy: 0.8464\n",
      "Epoch 157/200\n",
      "469/469 [==============================] - 1s 2ms/step - loss: 0.0334 - accuracy: 0.8379 - val_loss: 0.0323 - val_accuracy: 0.8469\n",
      "Epoch 158/200\n",
      "469/469 [==============================] - 1s 2ms/step - loss: 0.0332 - accuracy: 0.8385 - val_loss: 0.0321 - val_accuracy: 0.8478\n",
      "Epoch 159/200\n",
      "469/469 [==============================] - 1s 2ms/step - loss: 0.0331 - accuracy: 0.8395 - val_loss: 0.0319 - val_accuracy: 0.8486\n",
      "Epoch 160/200\n",
      "469/469 [==============================] - 1s 2ms/step - loss: 0.0329 - accuracy: 0.8402 - val_loss: 0.0318 - val_accuracy: 0.8493\n",
      "Epoch 161/200\n",
      "469/469 [==============================] - 1s 2ms/step - loss: 0.0327 - accuracy: 0.8409 - val_loss: 0.0316 - val_accuracy: 0.8501\n",
      "Epoch 162/200\n",
      "469/469 [==============================] - 1s 2ms/step - loss: 0.0326 - accuracy: 0.8415 - val_loss: 0.0314 - val_accuracy: 0.8504\n",
      "Epoch 163/200\n",
      "469/469 [==============================] - 1s 2ms/step - loss: 0.0324 - accuracy: 0.8419 - val_loss: 0.0313 - val_accuracy: 0.8511\n",
      "Epoch 164/200\n",
      "469/469 [==============================] - 1s 2ms/step - loss: 0.0322 - accuracy: 0.8426 - val_loss: 0.0311 - val_accuracy: 0.8512\n",
      "Epoch 165/200\n",
      "469/469 [==============================] - 1s 2ms/step - loss: 0.0321 - accuracy: 0.8432 - val_loss: 0.0309 - val_accuracy: 0.8521\n",
      "Epoch 166/200\n",
      "469/469 [==============================] - 1s 2ms/step - loss: 0.0319 - accuracy: 0.8440 - val_loss: 0.0308 - val_accuracy: 0.8527\n",
      "Epoch 167/200\n",
      "469/469 [==============================] - 1s 2ms/step - loss: 0.0318 - accuracy: 0.8444 - val_loss: 0.0306 - val_accuracy: 0.8531\n",
      "Epoch 168/200\n",
      "469/469 [==============================] - 1s 2ms/step - loss: 0.0316 - accuracy: 0.8447 - val_loss: 0.0305 - val_accuracy: 0.8537\n",
      "Epoch 169/200\n",
      "469/469 [==============================] - 1s 2ms/step - loss: 0.0315 - accuracy: 0.8453 - val_loss: 0.0303 - val_accuracy: 0.8548\n",
      "Epoch 170/200\n",
      "469/469 [==============================] - 1s 2ms/step - loss: 0.0313 - accuracy: 0.8458 - val_loss: 0.0302 - val_accuracy: 0.8555\n",
      "Epoch 171/200\n",
      "469/469 [==============================] - 1s 2ms/step - loss: 0.0312 - accuracy: 0.8465 - val_loss: 0.0300 - val_accuracy: 0.8557\n",
      "Epoch 172/200\n",
      "469/469 [==============================] - 1s 2ms/step - loss: 0.0310 - accuracy: 0.8469 - val_loss: 0.0299 - val_accuracy: 0.8563\n",
      "Epoch 173/200\n",
      "469/469 [==============================] - 1s 2ms/step - loss: 0.0309 - accuracy: 0.8473 - val_loss: 0.0297 - val_accuracy: 0.8567\n",
      "Epoch 174/200\n",
      "469/469 [==============================] - 1s 2ms/step - loss: 0.0307 - accuracy: 0.8479 - val_loss: 0.0296 - val_accuracy: 0.8575\n",
      "Epoch 175/200\n",
      "469/469 [==============================] - 1s 2ms/step - loss: 0.0306 - accuracy: 0.8486 - val_loss: 0.0295 - val_accuracy: 0.8581\n",
      "Epoch 176/200\n",
      "469/469 [==============================] - 1s 2ms/step - loss: 0.0305 - accuracy: 0.8491 - val_loss: 0.0293 - val_accuracy: 0.8589\n",
      "Epoch 177/200\n",
      "469/469 [==============================] - 1s 2ms/step - loss: 0.0303 - accuracy: 0.8497 - val_loss: 0.0292 - val_accuracy: 0.8595\n",
      "Epoch 178/200\n",
      "469/469 [==============================] - 1s 2ms/step - loss: 0.0302 - accuracy: 0.8501 - val_loss: 0.0290 - val_accuracy: 0.8600\n",
      "Epoch 179/200\n",
      "469/469 [==============================] - 1s 2ms/step - loss: 0.0301 - accuracy: 0.8506 - val_loss: 0.0289 - val_accuracy: 0.8605\n",
      "Epoch 180/200\n",
      "469/469 [==============================] - 1s 2ms/step - loss: 0.0299 - accuracy: 0.8513 - val_loss: 0.0288 - val_accuracy: 0.8606\n",
      "Epoch 181/200\n",
      "469/469 [==============================] - 1s 2ms/step - loss: 0.0298 - accuracy: 0.8517 - val_loss: 0.0287 - val_accuracy: 0.8612\n",
      "Epoch 182/200\n",
      "469/469 [==============================] - 1s 2ms/step - loss: 0.0297 - accuracy: 0.8522 - val_loss: 0.0285 - val_accuracy: 0.8616\n",
      "Epoch 183/200\n",
      "469/469 [==============================] - 1s 2ms/step - loss: 0.0296 - accuracy: 0.8525 - val_loss: 0.0284 - val_accuracy: 0.8621\n",
      "Epoch 184/200\n",
      "469/469 [==============================] - 1s 2ms/step - loss: 0.0294 - accuracy: 0.8531 - val_loss: 0.0283 - val_accuracy: 0.8624\n",
      "Epoch 185/200\n",
      "469/469 [==============================] - 1s 2ms/step - loss: 0.0293 - accuracy: 0.8534 - val_loss: 0.0282 - val_accuracy: 0.8631\n",
      "Epoch 186/200\n",
      "469/469 [==============================] - 1s 2ms/step - loss: 0.0292 - accuracy: 0.8536 - val_loss: 0.0280 - val_accuracy: 0.8638\n",
      "Epoch 187/200\n",
      "469/469 [==============================] - 1s 2ms/step - loss: 0.0291 - accuracy: 0.8540 - val_loss: 0.0279 - val_accuracy: 0.8642\n",
      "Epoch 188/200\n",
      "469/469 [==============================] - 1s 2ms/step - loss: 0.0289 - accuracy: 0.8544 - val_loss: 0.0278 - val_accuracy: 0.8646\n",
      "Epoch 189/200\n",
      "469/469 [==============================] - 1s 2ms/step - loss: 0.0288 - accuracy: 0.8547 - val_loss: 0.0277 - val_accuracy: 0.8647\n",
      "Epoch 190/200\n",
      "469/469 [==============================] - 1s 2ms/step - loss: 0.0287 - accuracy: 0.8549 - val_loss: 0.0276 - val_accuracy: 0.8652\n",
      "Epoch 191/200\n",
      "469/469 [==============================] - 1s 2ms/step - loss: 0.0286 - accuracy: 0.8553 - val_loss: 0.0275 - val_accuracy: 0.8652\n",
      "Epoch 192/200\n",
      "469/469 [==============================] - 1s 2ms/step - loss: 0.0285 - accuracy: 0.8557 - val_loss: 0.0273 - val_accuracy: 0.8656\n",
      "Epoch 193/200\n",
      "469/469 [==============================] - 1s 2ms/step - loss: 0.0284 - accuracy: 0.8559 - val_loss: 0.0272 - val_accuracy: 0.8661\n",
      "Epoch 194/200\n",
      "469/469 [==============================] - 1s 2ms/step - loss: 0.0283 - accuracy: 0.8565 - val_loss: 0.0271 - val_accuracy: 0.8663\n",
      "Epoch 195/200\n",
      "469/469 [==============================] - 1s 2ms/step - loss: 0.0282 - accuracy: 0.8569 - val_loss: 0.0270 - val_accuracy: 0.8671\n",
      "Epoch 196/200\n",
      "469/469 [==============================] - 1s 2ms/step - loss: 0.0281 - accuracy: 0.8573 - val_loss: 0.0269 - val_accuracy: 0.8677\n",
      "Epoch 197/200\n",
      "469/469 [==============================] - 1s 2ms/step - loss: 0.0279 - accuracy: 0.8576 - val_loss: 0.0268 - val_accuracy: 0.8680\n",
      "Epoch 198/200\n",
      "469/469 [==============================] - 1s 2ms/step - loss: 0.0278 - accuracy: 0.8580 - val_loss: 0.0267 - val_accuracy: 0.8683\n",
      "Epoch 199/200\n",
      "469/469 [==============================] - 1s 2ms/step - loss: 0.0277 - accuracy: 0.8586 - val_loss: 0.0266 - val_accuracy: 0.8685\n",
      "Epoch 200/200\n",
      "469/469 [==============================] - 1s 2ms/step - loss: 0.0276 - accuracy: 0.8588 - val_loss: 0.0265 - val_accuracy: 0.8691\n"
     ]
    },
    {
     "data": {
      "text/plain": [
       "<keras.callbacks.History at 0x7f12f71da5f0>"
      ]
     },
     "execution_count": 20,
     "metadata": {},
     "output_type": "execute_result"
    }
   ],
   "source": [
    "# 批次大小(batch siye)、网络训练总次数(epochs)都是超参数(hyper parameter)\n",
    "model.fit(X_train, y_train, batch_size=128, epochs=200, verbose=1, validation_data=(X_valid, y_valid))"
   ]
  },
  {
   "cell_type": "markdown",
   "metadata": {
    "collapsed": false
   },
   "source": [
    "#### Evaluating model performance"
   ]
  },
  {
   "cell_type": "code",
   "execution_count": 21,
   "metadata": {
    "ExecuteTime": {
     "end_time": "2023-04-02T23:18:13.299889Z",
     "start_time": "2023-04-02T23:18:12.934353Z"
    },
    "collapsed": false
   },
   "outputs": [
    {
     "name": "stdout",
     "output_type": "stream",
     "text": [
      "313/313 [==============================] - 0s 1ms/step - loss: 0.0265 - accuracy: 0.8691\n"
     ]
    },
    {
     "data": {
      "text/plain": [
       "[0.026485485956072807, 0.8690999746322632]"
      ]
     },
     "execution_count": 21,
     "metadata": {},
     "output_type": "execute_result"
    }
   ],
   "source": [
    "model.evaluate(X_valid, y_valid)"
   ]
  },
  {
   "cell_type": "code",
   "execution_count": 22,
   "metadata": {
    "ExecuteTime": {
     "end_time": "2023-04-02T23:18:13.300400Z",
     "start_time": "2023-04-02T23:18:13.299002Z"
    },
    "collapsed": false
   },
   "outputs": [],
   "source": [
    "valid0 = X_valid[0].reshape(1, 784)"
   ]
  },
  {
   "cell_type": "code",
   "execution_count": 23,
   "metadata": {
    "ExecuteTime": {
     "end_time": "2023-04-02T23:18:13.551236Z",
     "start_time": "2023-04-02T23:18:13.299278Z"
    },
    "collapsed": false
   },
   "outputs": [
    {
     "name": "stdout",
     "output_type": "stream",
     "text": [
      "1/1 [==============================] - 0s 51ms/step\n"
     ]
    }
   ],
   "source": [
    "predict_0 = model.predict(valid0)"
   ]
  },
  {
   "cell_type": "code",
   "execution_count": 24,
   "metadata": {
    "ExecuteTime": {
     "end_time": "2023-04-02T23:18:13.655545Z",
     "start_time": "2023-04-02T23:18:13.559511Z"
    },
    "collapsed": false
   },
   "outputs": [
    {
     "data": {
      "text/plain": [
       "array([7])"
      ]
     },
     "execution_count": 24,
     "metadata": {},
     "output_type": "execute_result"
    }
   ],
   "source": [
    "import numpy as np\n",
    "np.argmax(predict_0,axis=1)"
   ]
  },
  {
   "cell_type": "code",
   "execution_count": 24,
   "metadata": {
    "ExecuteTime": {
     "end_time": "2023-04-02T23:18:13.665964Z",
     "start_time": "2023-04-02T23:18:13.662092Z"
    },
    "collapsed": false
   },
   "outputs": [],
   "source": []
  }
 ],
 "metadata": {
  "kernelspec": {
   "display_name": "Python 3",
   "language": "python",
   "name": "python3"
  },
  "language_info": {
   "codemirror_mode": {
    "name": "ipython",
    "version": 2
   },
   "file_extension": ".py",
   "mimetype": "text/x-python",
   "name": "python",
   "nbconvert_exporter": "python",
   "pygments_lexer": "ipython2",
   "version": "2.7.6"
  }
 },
 "nbformat": 4,
 "nbformat_minor": 0
}
