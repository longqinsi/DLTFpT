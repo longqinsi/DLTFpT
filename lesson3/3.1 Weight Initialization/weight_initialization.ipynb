{
 "cells": [
  {
   "cell_type": "markdown",
   "metadata": {},
   "source": [
    "# Weight Initialization"
   ]
  },
  {
   "cell_type": "markdown",
   "metadata": {},
   "source": [
    "In this notebook, we experiment with weight initialization approaches to examine their impact on layer outputs."
   ]
  },
  {
   "cell_type": "markdown",
   "metadata": {},
   "source": [
    "[![Open In Colab](https://colab.research.google.com/assets/colab-badge.svg)](https://colab.research.google.com/github/jonkrohn/DLTFpT/blob/master/notebooks/weight_initialization.ipynb)"
   ]
  },
  {
   "cell_type": "markdown",
   "metadata": {},
   "source": [
    "#### Load dependencies"
   ]
  },
  {
   "cell_type": "code",
   "execution_count": 1,
   "metadata": {
    "ExecuteTime": {
     "start_time": "2023-04-06T17:02:48.538360Z",
     "end_time": "2023-04-06T17:02:49.434548Z"
    }
   },
   "outputs": [],
   "source": [
    "import numpy as np\n",
    "import matplotlib.pyplot as plt\n",
    "\n",
    "from tensorflow.keras import Sequential\n",
    "from tensorflow.keras.layers import Dense, Activation\n",
    "from tensorflow.keras.initializers import Zeros, RandomNormal, glorot_normal, glorot_uniform"
   ]
  },
  {
   "cell_type": "markdown",
   "metadata": {},
   "source": [
    "#### Set number of neurons"
   ]
  },
  {
   "cell_type": "code",
   "execution_count": 2,
   "metadata": {
    "ExecuteTime": {
     "start_time": "2023-04-06T17:02:49.421874Z",
     "end_time": "2023-04-06T17:02:49.441066Z"
    }
   },
   "outputs": [],
   "source": [
    "n_input = 784\n",
    "n_dense = 256"
   ]
  },
  {
   "cell_type": "markdown",
   "metadata": {},
   "source": [
    "#### Select a bias initializer"
   ]
  },
  {
   "cell_type": "code",
   "execution_count": 3,
   "metadata": {
    "ExecuteTime": {
     "start_time": "2023-04-06T17:02:49.441066Z",
     "end_time": "2023-04-06T17:02:49.453314Z"
    }
   },
   "outputs": [],
   "source": [
    "b_init = Zeros()"
   ]
  },
  {
   "cell_type": "markdown",
   "metadata": {},
   "source": [
    "#### Select a weight initializer"
   ]
  },
  {
   "cell_type": "code",
   "execution_count": 4,
   "metadata": {
    "ExecuteTime": {
     "start_time": "2023-04-06T17:02:49.457315Z",
     "end_time": "2023-04-06T17:02:49.511147Z"
    }
   },
   "outputs": [],
   "source": [
    "# w_init = RandomNormal(stddev=1.0)\n",
    "# w_init = RandomNormal()\n",
    "w_init = glorot_normal()\n",
    "# w_init = glorot_uniform()"
   ]
  },
  {
   "cell_type": "markdown",
   "metadata": {},
   "source": [
    "#### Design neural network architecture"
   ]
  },
  {
   "cell_type": "code",
   "execution_count": 5,
   "metadata": {
    "ExecuteTime": {
     "start_time": "2023-04-06T17:02:49.474153Z",
     "end_time": "2023-04-06T17:02:49.577854Z"
    }
   },
   "outputs": [],
   "source": [
    "model = Sequential()\n",
    "model.add(Dense(n_dense, \n",
    "                input_dim=n_input,\n",
    "                kernel_initializer=w_init,\n",
    "                bias_initializer=b_init))\n",
    "model.add(Activation('sigmoid'))\n",
    "# model.add(Activation('tanh'))\n",
    "# model.add(Activation('relu'))"
   ]
  },
  {
   "cell_type": "markdown",
   "metadata": {},
   "source": [
    "#### Generate random *x* values"
   ]
  },
  {
   "cell_type": "code",
   "execution_count": 6,
   "metadata": {
    "ExecuteTime": {
     "start_time": "2023-04-06T17:02:49.549027Z",
     "end_time": "2023-04-06T17:02:49.578855Z"
    }
   },
   "outputs": [],
   "source": [
    "x = np.random.random((1,n_input))"
   ]
  },
  {
   "cell_type": "markdown",
   "metadata": {},
   "source": [
    "#### Forward propagate through the network"
   ]
  },
  {
   "cell_type": "code",
   "execution_count": 7,
   "metadata": {
    "ExecuteTime": {
     "start_time": "2023-04-06T17:02:49.564855Z",
     "end_time": "2023-04-06T17:02:49.796174Z"
    }
   },
   "outputs": [
    {
     "name": "stdout",
     "output_type": "stream",
     "text": [
      "1/1 [==============================] - 0s 55ms/step\n"
     ]
    }
   ],
   "source": [
    "a = model.predict(x)"
   ]
  },
  {
   "cell_type": "code",
   "execution_count": 8,
   "metadata": {
    "ExecuteTime": {
     "start_time": "2023-04-06T17:02:49.802174Z",
     "end_time": "2023-04-06T17:02:49.811681Z"
    }
   },
   "outputs": [
    {
     "data": {
      "text/plain": "array([[0.48770824, 0.6848699 , 0.65061647, 0.45774215, 0.43535063,\n        0.36495966, 0.3450311 , 0.4655775 , 0.6228789 , 0.27868357,\n        0.78045964, 0.51145124, 0.43793744, 0.5094988 , 0.70238507,\n        0.49736768, 0.6743336 , 0.24303363, 0.31991225, 0.6558131 ,\n        0.7132548 , 0.745521  , 0.5684411 , 0.33847088, 0.56575626,\n        0.5497893 , 0.37629873, 0.10557289, 0.7179023 , 0.634745  ,\n        0.6549488 , 0.5063044 , 0.63994366, 0.44079286, 0.34402645,\n        0.41166678, 0.5797421 , 0.6309548 , 0.40957212, 0.5091423 ,\n        0.49027163, 0.33043456, 0.44612023, 0.3881593 , 0.45730385,\n        0.35569644, 0.59379315, 0.67709637, 0.50736916, 0.42297998,\n        0.63575685, 0.49561688, 0.5534273 , 0.5134237 , 0.6340706 ,\n        0.31226072, 0.39385596, 0.7378032 , 0.52069575, 0.38214785,\n        0.59824127, 0.36558774, 0.2838571 , 0.54919964, 0.5946822 ,\n        0.29191875, 0.7461569 , 0.60940045, 0.3630832 , 0.39314142,\n        0.5369701 , 0.37121156, 0.8190017 , 0.4096167 , 0.6563933 ,\n        0.53106344, 0.5160447 , 0.46985674, 0.7559288 , 0.54084796,\n        0.61898315, 0.5168142 , 0.7189704 , 0.31981277, 0.44903052,\n        0.37312225, 0.5170246 , 0.66039366, 0.21352708, 0.38928708,\n        0.35472828, 0.56879   , 0.614291  , 0.58273906, 0.54131806,\n        0.65901005, 0.49091357, 0.7466609 , 0.33458003, 0.68218535,\n        0.5776421 , 0.6561413 , 0.8328518 , 0.2465983 , 0.5834347 ,\n        0.5564473 , 0.2983087 , 0.6748659 , 0.20818746, 0.15549058,\n        0.34301513, 0.46451977, 0.6414116 , 0.44528073, 0.60986555,\n        0.64056504, 0.46582928, 0.42913404, 0.39920792, 0.29198718,\n        0.3652477 , 0.25178108, 0.6676435 , 0.6009115 , 0.6691657 ,\n        0.3507678 , 0.47597024, 0.55723214, 0.36727485, 0.725699  ,\n        0.53183645, 0.56422836, 0.7266591 , 0.43518257, 0.83355045,\n        0.58778876, 0.31176737, 0.57441187, 0.49710464, 0.42440587,\n        0.34976855, 0.67738307, 0.64046776, 0.46984875, 0.492638  ,\n        0.42292735, 0.8132344 , 0.4976923 , 0.43906847, 0.8172862 ,\n        0.39808598, 0.68599993, 0.8020195 , 0.41246688, 0.53342175,\n        0.451047  , 0.49842706, 0.53328526, 0.83168936, 0.51648337,\n        0.4848587 , 0.7030224 , 0.66069067, 0.5735886 , 0.48688623,\n        0.4992029 , 0.7443797 , 0.7769188 , 0.61434937, 0.35641515,\n        0.36424506, 0.38514996, 0.4765973 , 0.6596273 , 0.41683483,\n        0.49777442, 0.5048753 , 0.41314062, 0.4689079 , 0.5063291 ,\n        0.5314958 , 0.7260008 , 0.4469756 , 0.25832608, 0.3461963 ,\n        0.813556  , 0.16015193, 0.47132006, 0.5701751 , 0.40151355,\n        0.44392982, 0.6221552 , 0.39161673, 0.6278644 , 0.2285785 ,\n        0.35804358, 0.5998318 , 0.417584  , 0.281732  , 0.5251744 ,\n        0.43833825, 0.2725383 , 0.6446061 , 0.4611525 , 0.5851839 ,\n        0.5248863 , 0.5236938 , 0.4628892 , 0.5562689 , 0.4174395 ,\n        0.6227767 , 0.5686985 , 0.41429216, 0.4732633 , 0.6115089 ,\n        0.6868891 , 0.47563726, 0.736836  , 0.54251754, 0.5271812 ,\n        0.45009053, 0.6107789 , 0.34684455, 0.60315543, 0.7062408 ,\n        0.36354157, 0.6551152 , 0.71539736, 0.8307141 , 0.45552945,\n        0.61660224, 0.5526402 , 0.4221216 , 0.48865962, 0.7176669 ,\n        0.41501886, 0.5667073 , 0.6789284 , 0.29408544, 0.5560105 ,\n        0.5337638 , 0.69942105, 0.6050695 , 0.22959796, 0.31923154,\n        0.36568254, 0.3516832 , 0.858005  , 0.40734345, 0.6566658 ,\n        0.44941714, 0.43369594, 0.5127838 , 0.4992105 , 0.31497708,\n        0.52830243]], dtype=float32)"
     },
     "execution_count": 8,
     "metadata": {},
     "output_type": "execute_result"
    }
   ],
   "source": [
    "a"
   ]
  },
  {
   "cell_type": "code",
   "execution_count": 9,
   "metadata": {
    "ExecuteTime": {
     "start_time": "2023-04-06T17:02:49.813682Z",
     "end_time": "2023-04-06T17:02:49.975835Z"
    }
   },
   "outputs": [
    {
     "data": {
      "text/plain": "<Figure size 640x480 with 1 Axes>",
      "image/png": "[encoded data removed]"
     },
     "metadata": {},
     "output_type": "display_data"
    }
   ],
   "source": [
    "_ = plt.hist(np.transpose(a))"
   ]
  },
  {
   "cell_type": "code",
   "execution_count": 9,
   "metadata": {
    "ExecuteTime": {
     "start_time": "2023-04-06T17:02:49.971563Z",
     "end_time": "2023-04-06T17:02:49.983841Z"
    }
   },
   "outputs": [],
   "source": []
  }
 ],
 "metadata": {
  "kernelspec": {
   "display_name": "Python 3",
   "language": "python",
   "name": "python3"
  },
  "language_info": {
   "codemirror_mode": {
    "name": "ipython",
    "version": 3
   },
   "file_extension": ".py",
   "mimetype": "text/x-python",
   "name": "python",
   "nbconvert_exporter": "python",
   "pygments_lexer": "ipython3",
   "version": "3.7.3"
  }
 },
 "nbformat": 4,
 "nbformat_minor": 2
}
