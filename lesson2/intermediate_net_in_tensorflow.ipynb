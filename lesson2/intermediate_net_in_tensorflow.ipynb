{
 "cells": [
  {
   "cell_type": "markdown",
   "metadata": {
    "collapsed": false
   },
   "source": [
    "# Intermediate Neural Network in TensorFlow"
   ]
  },
  {
   "cell_type": "markdown",
   "metadata": {
    "collapsed": false
   },
   "source": [
    "Build a intermediate neural network to classify handwritten digits"
   ]
  },
  {
   "cell_type": "markdown",
   "metadata": {
    "collapsed": false
   },
   "source": [
    "#### Load dependencies"
   ]
  },
  {
   "cell_type": "code",
   "execution_count": 14,
   "metadata": {
    "ExecuteTime": {
     "start_time": "2023-04-05T22:16:44.342433Z",
     "end_time": "2023-04-05T22:16:44.429119Z"
    },
    "collapsed": false
   },
   "outputs": [],
   "source": [
    "import tensorflow\n",
    "from keras.datasets import mnist\n",
    "from keras.utils import to_categorical\n",
    "from keras.models import Sequential\n",
    "from keras.layers import Dense\n",
    "from keras.optimizers import SGD\n",
    "from matplotlib import pyplot as plt"
   ]
  },
  {
   "cell_type": "markdown",
   "metadata": {
    "collapsed": false
   },
   "source": [
    "#### Load data"
   ]
  },
  {
   "cell_type": "code",
   "execution_count": 15,
   "metadata": {
    "ExecuteTime": {
     "start_time": "2023-04-05T22:16:44.359457Z",
     "end_time": "2023-04-05T22:16:44.597118Z"
    },
    "collapsed": false
   },
   "outputs": [],
   "source": [
    "(X_train, y_train), (X_valid, y_valid) = mnist.load_data() # X - inputs, y - outputs"
   ]
  },
  {
   "cell_type": "markdown",
   "metadata": {
    "collapsed": false
   },
   "source": [
    "#### Preprocess data"
   ]
  },
  {
   "cell_type": "code",
   "execution_count": 16,
   "metadata": {
    "ExecuteTime": {
     "start_time": "2023-04-05T22:16:44.601117Z",
     "end_time": "2023-04-05T22:16:44.699941Z"
    },
    "collapsed": false
   },
   "outputs": [],
   "source": [
    "X_train = X_train.reshape(60000, 784).astype('float32')\n",
    "X_valid = X_valid.reshape(10000, 784).astype('float32')"
   ]
  },
  {
   "cell_type": "code",
   "execution_count": 17,
   "outputs": [],
   "source": [
    "X_train /= 255\n",
    "X_valid /= 255"
   ],
   "metadata": {
    "collapsed": false,
    "ExecuteTime": {
     "start_time": "2023-04-05T22:16:44.702941Z",
     "end_time": "2023-04-05T22:16:44.747200Z"
    }
   }
  },
  {
   "cell_type": "code",
   "execution_count": 18,
   "metadata": {
    "ExecuteTime": {
     "start_time": "2023-04-05T22:16:44.736650Z",
     "end_time": "2023-04-05T22:16:44.766204Z"
    },
    "collapsed": false
   },
   "outputs": [],
   "source": [
    "n_classes = 10\n",
    "y_train = to_categorical(y_train, n_classes)\n",
    "y_valid = to_categorical(y_valid, n_classes)"
   ]
  },
  {
   "cell_type": "markdown",
   "metadata": {
    "collapsed": false
   },
   "source": [
    "#### Design NN arch"
   ]
  },
  {
   "cell_type": "code",
   "execution_count": 19,
   "metadata": {
    "ExecuteTime": {
     "start_time": "2023-04-05T22:16:44.751201Z",
     "end_time": "2023-04-05T22:16:44.801203Z"
    },
    "collapsed": false
   },
   "outputs": [],
   "source": [
    "model = Sequential()\n",
    "\n",
    "# hidden layer:\n",
    "# 定义第一个隐藏层时，也需要通过input_shape参数定义输入层\n",
    "model.add(Dense(64, activation='relu', input_shape=(784,)))\n",
    "model.add(Dense(64, activation='relu'))\n",
    "\n",
    "# output layer:\n",
    "model.add(Dense(10, activation='softmax'))"
   ]
  },
  {
   "cell_type": "code",
   "execution_count": 20,
   "metadata": {
    "ExecuteTime": {
     "start_time": "2023-04-05T22:16:44.796202Z",
     "end_time": "2023-04-05T22:16:44.855312Z"
    },
    "collapsed": false
   },
   "outputs": [
    {
     "name": "stdout",
     "output_type": "stream",
     "text": [
      "Model: \"sequential_1\"\n",
      "_________________________________________________________________\n",
      " Layer (type)                Output Shape              Param #   \n",
      "=================================================================\n",
      " dense_3 (Dense)             (None, 64)                50240     \n",
      "                                                                 \n",
      " dense_4 (Dense)             (None, 64)                4160      \n",
      "                                                                 \n",
      " dense_5 (Dense)             (None, 10)                650       \n",
      "                                                                 \n",
      "=================================================================\n",
      "Total params: 55,050\n",
      "Trainable params: 55,050\n",
      "Non-trainable params: 0\n",
      "_________________________________________________________________\n"
     ]
    }
   ],
   "source": [
    "model.summary()"
   ]
  },
  {
   "cell_type": "markdown",
   "source": [
    "dense_1包含的参数总数"
   ],
   "metadata": {
    "collapsed": false
   }
  },
  {
   "cell_type": "code",
   "execution_count": 21,
   "outputs": [
    {
     "data": {
      "text/plain": "4160"
     },
     "execution_count": 21,
     "metadata": {},
     "output_type": "execute_result"
    }
   ],
   "source": [
    "64*64+64"
   ],
   "metadata": {
    "collapsed": false,
    "ExecuteTime": {
     "start_time": "2023-04-05T22:16:44.828753Z",
     "end_time": "2023-04-05T22:16:44.885970Z"
    }
   }
  },
  {
   "cell_type": "markdown",
   "metadata": {
    "collapsed": false
   },
   "source": [
    "#### Compile model"
   ]
  },
  {
   "cell_type": "code",
   "execution_count": 22,
   "metadata": {
    "ExecuteTime": {
     "start_time": "2023-04-05T22:16:44.846629Z",
     "end_time": "2023-04-05T22:16:44.896209Z"
    },
    "collapsed": false
   },
   "outputs": [],
   "source": [
    "# 在模型编译步骤中把优化器设置为SGD，以使用随机梯度下降（stochastic gradient descent)\n",
    "model.compile(loss='categorical_crossentropy', optimizer=SGD(learning_rate=0.1), metrics=['accuracy']) # SGD: stochastic gradient descent,随机梯度下降法"
   ]
  },
  {
   "cell_type": "markdown",
   "metadata": {
    "collapsed": false
   },
   "source": [
    "#### Train!"
   ]
  },
  {
   "cell_type": "code",
   "execution_count": 23,
   "metadata": {
    "ExecuteTime": {
     "start_time": "2023-04-05T22:16:51.748762Z",
     "end_time": "2023-04-05T22:17:09.682836Z"
    },
    "collapsed": false
   },
   "outputs": [
    {
     "name": "stdout",
     "output_type": "stream",
     "text": [
      "Epoch 1/20\n",
      "469/469 [==============================] - 1s 2ms/step - loss: 0.4735 - accuracy: 0.8656 - val_loss: 0.2747 - val_accuracy: 0.9196\n",
      "Epoch 2/20\n",
      "469/469 [==============================] - 1s 2ms/step - loss: 0.2225 - accuracy: 0.9345 - val_loss: 0.1854 - val_accuracy: 0.9454\n",
      "Epoch 3/20\n",
      "469/469 [==============================] - 1s 2ms/step - loss: 0.1703 - accuracy: 0.9492 - val_loss: 0.1454 - val_accuracy: 0.9554\n",
      "Epoch 4/20\n",
      "469/469 [==============================] - 1s 2ms/step - loss: 0.1398 - accuracy: 0.9590 - val_loss: 0.1317 - val_accuracy: 0.9600\n",
      "Epoch 5/20\n",
      "469/469 [==============================] - 1s 2ms/step - loss: 0.1178 - accuracy: 0.9657 - val_loss: 0.1196 - val_accuracy: 0.9631\n",
      "Epoch 6/20\n",
      "469/469 [==============================] - 1s 2ms/step - loss: 0.1031 - accuracy: 0.9688 - val_loss: 0.1136 - val_accuracy: 0.9648\n",
      "Epoch 7/20\n",
      "469/469 [==============================] - 1s 2ms/step - loss: 0.0904 - accuracy: 0.9733 - val_loss: 0.1024 - val_accuracy: 0.9689\n",
      "Epoch 8/20\n",
      "469/469 [==============================] - 1s 2ms/step - loss: 0.0821 - accuracy: 0.9751 - val_loss: 0.0954 - val_accuracy: 0.9713\n",
      "Epoch 9/20\n",
      "469/469 [==============================] - 1s 2ms/step - loss: 0.0736 - accuracy: 0.9779 - val_loss: 0.0906 - val_accuracy: 0.9734\n",
      "Epoch 10/20\n",
      "469/469 [==============================] - 1s 2ms/step - loss: 0.0662 - accuracy: 0.9805 - val_loss: 0.0941 - val_accuracy: 0.9707\n",
      "Epoch 11/20\n",
      "469/469 [==============================] - 1s 2ms/step - loss: 0.0612 - accuracy: 0.9817 - val_loss: 0.0862 - val_accuracy: 0.9727\n",
      "Epoch 12/20\n",
      "469/469 [==============================] - 1s 2ms/step - loss: 0.0566 - accuracy: 0.9827 - val_loss: 0.0868 - val_accuracy: 0.9728\n",
      "Epoch 13/20\n",
      "469/469 [==============================] - 1s 2ms/step - loss: 0.0517 - accuracy: 0.9850 - val_loss: 0.0908 - val_accuracy: 0.9707\n",
      "Epoch 14/20\n",
      "469/469 [==============================] - 1s 2ms/step - loss: 0.0478 - accuracy: 0.9856 - val_loss: 0.0852 - val_accuracy: 0.9730\n",
      "Epoch 15/20\n",
      "469/469 [==============================] - 1s 2ms/step - loss: 0.0437 - accuracy: 0.9872 - val_loss: 0.0867 - val_accuracy: 0.9729\n",
      "Epoch 16/20\n",
      "469/469 [==============================] - 1s 2ms/step - loss: 0.0410 - accuracy: 0.9879 - val_loss: 0.0827 - val_accuracy: 0.9742\n",
      "Epoch 17/20\n",
      "469/469 [==============================] - 1s 2ms/step - loss: 0.0373 - accuracy: 0.9892 - val_loss: 0.0859 - val_accuracy: 0.9742\n",
      "Epoch 18/20\n",
      "469/469 [==============================] - 1s 2ms/step - loss: 0.0347 - accuracy: 0.9905 - val_loss: 0.0826 - val_accuracy: 0.9751\n",
      "Epoch 19/20\n",
      "469/469 [==============================] - 1s 2ms/step - loss: 0.0325 - accuracy: 0.9907 - val_loss: 0.0826 - val_accuracy: 0.9759\n",
      "Epoch 20/20\n",
      "469/469 [==============================] - 1s 2ms/step - loss: 0.0294 - accuracy: 0.9921 - val_loss: 0.0834 - val_accuracy: 0.9749\n"
     ]
    },
    {
     "data": {
      "text/plain": "<keras.callbacks.History at 0x263e60ff4c0>"
     },
     "execution_count": 23,
     "metadata": {},
     "output_type": "execute_result"
    }
   ],
   "source": [
    "# 批次大小(batch siye)、网络训练总次数(epochs)都是超参数(hyper parameter)\n",
    "model.fit(X_train, y_train, batch_size=128, epochs=20, verbose=1, validation_data=(X_valid, y_valid))"
   ]
  },
  {
   "cell_type": "markdown",
   "metadata": {
    "collapsed": false
   },
   "source": [
    "#### Evaluating model performance"
   ]
  },
  {
   "cell_type": "code",
   "execution_count": 24,
   "metadata": {
    "ExecuteTime": {
     "start_time": "2023-04-05T22:22:23.238842Z",
     "end_time": "2023-04-05T22:22:23.651143Z"
    },
    "collapsed": false
   },
   "outputs": [
    {
     "name": "stdout",
     "output_type": "stream",
     "text": [
      "313/313 [==============================] - 0s 1ms/step - loss: 0.0834 - accuracy: 0.9749\n"
     ]
    },
    {
     "data": {
      "text/plain": "[0.08337689936161041, 0.9749000072479248]"
     },
     "execution_count": 24,
     "metadata": {},
     "output_type": "execute_result"
    }
   ],
   "source": [
    "model.evaluate(X_valid, y_valid)"
   ]
  },
  {
   "cell_type": "code",
   "execution_count": 25,
   "metadata": {
    "ExecuteTime": {
     "start_time": "2023-04-05T22:23:49.891294Z",
     "end_time": "2023-04-05T22:23:49.926787Z"
    },
    "collapsed": false
   },
   "outputs": [],
   "source": [
    "valid0 = X_valid[0].reshape(1, 784)"
   ]
  },
  {
   "cell_type": "code",
   "execution_count": 28,
   "metadata": {
    "ExecuteTime": {
     "start_time": "2023-04-05T22:25:45.295295Z",
     "end_time": "2023-04-05T22:25:45.350226Z"
    },
    "collapsed": false
   },
   "outputs": [
    {
     "name": "stdout",
     "output_type": "stream",
     "text": [
      "1/1 [==============================] - 0s 20ms/step\n"
     ]
    }
   ],
   "source": [
    "predict_0 = model.predict(valid0)"
   ]
  },
  {
   "cell_type": "code",
   "execution_count": 29,
   "outputs": [
    {
     "data": {
      "text/plain": "array([[2.1223204e-07, 1.5965300e-09, 4.7581043e-06, 7.4996511e-05,\n        2.4737741e-08, 3.3083506e-08, 3.2706406e-13, 9.9989772e-01,\n        1.0645803e-06, 2.1190363e-05]], dtype=float32)"
     },
     "execution_count": 29,
     "metadata": {},
     "output_type": "execute_result"
    }
   ],
   "source": [
    "predict_0"
   ],
   "metadata": {
    "collapsed": false,
    "ExecuteTime": {
     "start_time": "2023-04-05T22:25:48.103294Z",
     "end_time": "2023-04-05T22:25:48.109299Z"
    }
   }
  },
  {
   "cell_type": "code",
   "execution_count": 30,
   "metadata": {
    "ExecuteTime": {
     "start_time": "2023-04-05T22:25:53.261299Z",
     "end_time": "2023-04-05T22:25:53.303422Z"
    },
    "collapsed": false
   },
   "outputs": [
    {
     "data": {
      "text/plain": "array([7], dtype=int64)"
     },
     "execution_count": 30,
     "metadata": {},
     "output_type": "execute_result"
    }
   ],
   "source": [
    "import numpy as np\n",
    "np.argmax(predict_0,axis=1)"
   ]
  },
  {
   "cell_type": "code",
   "execution_count": null,
   "metadata": {
    "ExecuteTime": {
     "end_time": "2023-04-02T23:18:13.665964Z",
     "start_time": "2023-04-02T23:18:13.662092Z"
    },
    "collapsed": false
   },
   "outputs": [],
   "source": []
  }
 ],
 "metadata": {
  "kernelspec": {
   "display_name": "Python 3",
   "language": "python",
   "name": "python3"
  },
  "language_info": {
   "codemirror_mode": {
    "name": "ipython",
    "version": 2
   },
   "file_extension": ".py",
   "mimetype": "text/x-python",
   "name": "python",
   "nbconvert_exporter": "python",
   "pygments_lexer": "ipython2",
   "version": "2.7.6"
  }
 },
 "nbformat": 4,
 "nbformat_minor": 0
}
